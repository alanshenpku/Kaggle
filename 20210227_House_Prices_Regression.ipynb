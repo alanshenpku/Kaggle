{
 "cells": [
  {
   "cell_type": "markdown",
   "metadata": {},
   "source": [
    "# Packages"
   ]
  },
  {
   "cell_type": "code",
   "execution_count": 381,
   "metadata": {},
   "outputs": [],
   "source": [
    "import pandas as pd\n",
    "import numpy as np\n",
    "import matplotlib.pyplot as plt \n",
    "%matplotlib inline\n",
    "import seaborn as sns\n",
    "\n",
    "from sklearn.model_selection import train_test_split\n",
    "from sklearn.metrics import roc_curve  \n",
    "\n",
    "\n",
    "from sklearn.linear_model import LinearRegression\n",
    "\n",
    "from sklearn.ensemble import RandomForestRegressor\n",
    "\n",
    "from sklearn.model_selection import RandomizedSearchCV\n",
    "from sklearn.model_selection import GridSearchCV\n",
    "\n",
    "import xgboost as xgb\n",
    "import sys\n",
    "from sklearn.metrics import roc_curve \n",
    "from sklearn.metrics import roc_auc_score\n",
    "from sklearn.metrics import mean_squared_error as MSE\n",
    "\n",
    "from xgboost import XGBRegressor"
   ]
  },
  {
   "cell_type": "markdown",
   "metadata": {},
   "source": [
    "## Read Data and Summary statistics"
   ]
  },
  {
   "cell_type": "code",
   "execution_count": 241,
   "metadata": {},
   "outputs": [],
   "source": [
    "df = pd.read_csv('train.csv')"
   ]
  },
  {
   "cell_type": "code",
   "execution_count": 242,
   "metadata": {},
   "outputs": [],
   "source": [
    "df = df.drop(['Id'],axis=1)"
   ]
  },
  {
   "cell_type": "code",
   "execution_count": 243,
   "metadata": {},
   "outputs": [
    {
     "data": {
      "text/plain": [
       "(1460, 80)"
      ]
     },
     "execution_count": 243,
     "metadata": {},
     "output_type": "execute_result"
    }
   ],
   "source": [
    "df.shape"
   ]
  },
  {
   "cell_type": "code",
   "execution_count": 244,
   "metadata": {},
   "outputs": [
    {
     "data": {
      "text/html": [
       "<div>\n",
       "<style scoped>\n",
       "    .dataframe tbody tr th:only-of-type {\n",
       "        vertical-align: middle;\n",
       "    }\n",
       "\n",
       "    .dataframe tbody tr th {\n",
       "        vertical-align: top;\n",
       "    }\n",
       "\n",
       "    .dataframe thead th {\n",
       "        text-align: right;\n",
       "    }\n",
       "</style>\n",
       "<table border=\"1\" class=\"dataframe\">\n",
       "  <thead>\n",
       "    <tr style=\"text-align: right;\">\n",
       "      <th></th>\n",
       "      <th>MSSubClass</th>\n",
       "      <th>MSZoning</th>\n",
       "      <th>LotFrontage</th>\n",
       "      <th>LotArea</th>\n",
       "      <th>Street</th>\n",
       "      <th>Alley</th>\n",
       "      <th>LotShape</th>\n",
       "      <th>LandContour</th>\n",
       "      <th>Utilities</th>\n",
       "      <th>LotConfig</th>\n",
       "      <th>...</th>\n",
       "      <th>PoolArea</th>\n",
       "      <th>PoolQC</th>\n",
       "      <th>Fence</th>\n",
       "      <th>MiscFeature</th>\n",
       "      <th>MiscVal</th>\n",
       "      <th>MoSold</th>\n",
       "      <th>YrSold</th>\n",
       "      <th>SaleType</th>\n",
       "      <th>SaleCondition</th>\n",
       "      <th>SalePrice</th>\n",
       "    </tr>\n",
       "  </thead>\n",
       "  <tbody>\n",
       "    <tr>\n",
       "      <th>0</th>\n",
       "      <td>60</td>\n",
       "      <td>RL</td>\n",
       "      <td>65.0</td>\n",
       "      <td>8450</td>\n",
       "      <td>Pave</td>\n",
       "      <td>NaN</td>\n",
       "      <td>Reg</td>\n",
       "      <td>Lvl</td>\n",
       "      <td>AllPub</td>\n",
       "      <td>Inside</td>\n",
       "      <td>...</td>\n",
       "      <td>0</td>\n",
       "      <td>NaN</td>\n",
       "      <td>NaN</td>\n",
       "      <td>NaN</td>\n",
       "      <td>0</td>\n",
       "      <td>2</td>\n",
       "      <td>2008</td>\n",
       "      <td>WD</td>\n",
       "      <td>Normal</td>\n",
       "      <td>208500</td>\n",
       "    </tr>\n",
       "    <tr>\n",
       "      <th>1</th>\n",
       "      <td>20</td>\n",
       "      <td>RL</td>\n",
       "      <td>80.0</td>\n",
       "      <td>9600</td>\n",
       "      <td>Pave</td>\n",
       "      <td>NaN</td>\n",
       "      <td>Reg</td>\n",
       "      <td>Lvl</td>\n",
       "      <td>AllPub</td>\n",
       "      <td>FR2</td>\n",
       "      <td>...</td>\n",
       "      <td>0</td>\n",
       "      <td>NaN</td>\n",
       "      <td>NaN</td>\n",
       "      <td>NaN</td>\n",
       "      <td>0</td>\n",
       "      <td>5</td>\n",
       "      <td>2007</td>\n",
       "      <td>WD</td>\n",
       "      <td>Normal</td>\n",
       "      <td>181500</td>\n",
       "    </tr>\n",
       "    <tr>\n",
       "      <th>2</th>\n",
       "      <td>60</td>\n",
       "      <td>RL</td>\n",
       "      <td>68.0</td>\n",
       "      <td>11250</td>\n",
       "      <td>Pave</td>\n",
       "      <td>NaN</td>\n",
       "      <td>IR1</td>\n",
       "      <td>Lvl</td>\n",
       "      <td>AllPub</td>\n",
       "      <td>Inside</td>\n",
       "      <td>...</td>\n",
       "      <td>0</td>\n",
       "      <td>NaN</td>\n",
       "      <td>NaN</td>\n",
       "      <td>NaN</td>\n",
       "      <td>0</td>\n",
       "      <td>9</td>\n",
       "      <td>2008</td>\n",
       "      <td>WD</td>\n",
       "      <td>Normal</td>\n",
       "      <td>223500</td>\n",
       "    </tr>\n",
       "    <tr>\n",
       "      <th>3</th>\n",
       "      <td>70</td>\n",
       "      <td>RL</td>\n",
       "      <td>60.0</td>\n",
       "      <td>9550</td>\n",
       "      <td>Pave</td>\n",
       "      <td>NaN</td>\n",
       "      <td>IR1</td>\n",
       "      <td>Lvl</td>\n",
       "      <td>AllPub</td>\n",
       "      <td>Corner</td>\n",
       "      <td>...</td>\n",
       "      <td>0</td>\n",
       "      <td>NaN</td>\n",
       "      <td>NaN</td>\n",
       "      <td>NaN</td>\n",
       "      <td>0</td>\n",
       "      <td>2</td>\n",
       "      <td>2006</td>\n",
       "      <td>WD</td>\n",
       "      <td>Abnorml</td>\n",
       "      <td>140000</td>\n",
       "    </tr>\n",
       "    <tr>\n",
       "      <th>4</th>\n",
       "      <td>60</td>\n",
       "      <td>RL</td>\n",
       "      <td>84.0</td>\n",
       "      <td>14260</td>\n",
       "      <td>Pave</td>\n",
       "      <td>NaN</td>\n",
       "      <td>IR1</td>\n",
       "      <td>Lvl</td>\n",
       "      <td>AllPub</td>\n",
       "      <td>FR2</td>\n",
       "      <td>...</td>\n",
       "      <td>0</td>\n",
       "      <td>NaN</td>\n",
       "      <td>NaN</td>\n",
       "      <td>NaN</td>\n",
       "      <td>0</td>\n",
       "      <td>12</td>\n",
       "      <td>2008</td>\n",
       "      <td>WD</td>\n",
       "      <td>Normal</td>\n",
       "      <td>250000</td>\n",
       "    </tr>\n",
       "  </tbody>\n",
       "</table>\n",
       "<p>5 rows × 80 columns</p>\n",
       "</div>"
      ],
      "text/plain": [
       "   MSSubClass MSZoning  LotFrontage  LotArea Street Alley LotShape  \\\n",
       "0          60       RL         65.0     8450   Pave   NaN      Reg   \n",
       "1          20       RL         80.0     9600   Pave   NaN      Reg   \n",
       "2          60       RL         68.0    11250   Pave   NaN      IR1   \n",
       "3          70       RL         60.0     9550   Pave   NaN      IR1   \n",
       "4          60       RL         84.0    14260   Pave   NaN      IR1   \n",
       "\n",
       "  LandContour Utilities LotConfig    ...     PoolArea PoolQC Fence  \\\n",
       "0         Lvl    AllPub    Inside    ...            0    NaN   NaN   \n",
       "1         Lvl    AllPub       FR2    ...            0    NaN   NaN   \n",
       "2         Lvl    AllPub    Inside    ...            0    NaN   NaN   \n",
       "3         Lvl    AllPub    Corner    ...            0    NaN   NaN   \n",
       "4         Lvl    AllPub       FR2    ...            0    NaN   NaN   \n",
       "\n",
       "  MiscFeature MiscVal MoSold  YrSold  SaleType  SaleCondition  SalePrice  \n",
       "0         NaN       0      2    2008        WD         Normal     208500  \n",
       "1         NaN       0      5    2007        WD         Normal     181500  \n",
       "2         NaN       0      9    2008        WD         Normal     223500  \n",
       "3         NaN       0      2    2006        WD        Abnorml     140000  \n",
       "4         NaN       0     12    2008        WD         Normal     250000  \n",
       "\n",
       "[5 rows x 80 columns]"
      ]
     },
     "execution_count": 244,
     "metadata": {},
     "output_type": "execute_result"
    }
   ],
   "source": [
    "df.head()"
   ]
  },
  {
   "cell_type": "code",
   "execution_count": 245,
   "metadata": {},
   "outputs": [
    {
     "data": {
      "text/html": [
       "<div>\n",
       "<style scoped>\n",
       "    .dataframe tbody tr th:only-of-type {\n",
       "        vertical-align: middle;\n",
       "    }\n",
       "\n",
       "    .dataframe tbody tr th {\n",
       "        vertical-align: top;\n",
       "    }\n",
       "\n",
       "    .dataframe thead th {\n",
       "        text-align: right;\n",
       "    }\n",
       "</style>\n",
       "<table border=\"1\" class=\"dataframe\">\n",
       "  <thead>\n",
       "    <tr style=\"text-align: right;\">\n",
       "      <th></th>\n",
       "      <th>MSSubClass</th>\n",
       "      <th>LotFrontage</th>\n",
       "      <th>LotArea</th>\n",
       "      <th>OverallQual</th>\n",
       "      <th>OverallCond</th>\n",
       "      <th>YearBuilt</th>\n",
       "      <th>YearRemodAdd</th>\n",
       "      <th>MasVnrArea</th>\n",
       "      <th>BsmtFinSF1</th>\n",
       "      <th>BsmtFinSF2</th>\n",
       "      <th>...</th>\n",
       "      <th>WoodDeckSF</th>\n",
       "      <th>OpenPorchSF</th>\n",
       "      <th>EnclosedPorch</th>\n",
       "      <th>3SsnPorch</th>\n",
       "      <th>ScreenPorch</th>\n",
       "      <th>PoolArea</th>\n",
       "      <th>MiscVal</th>\n",
       "      <th>MoSold</th>\n",
       "      <th>YrSold</th>\n",
       "      <th>SalePrice</th>\n",
       "    </tr>\n",
       "  </thead>\n",
       "  <tbody>\n",
       "    <tr>\n",
       "      <th>count</th>\n",
       "      <td>1460.000000</td>\n",
       "      <td>1201.000000</td>\n",
       "      <td>1460.000000</td>\n",
       "      <td>1460.000000</td>\n",
       "      <td>1460.000000</td>\n",
       "      <td>1460.000000</td>\n",
       "      <td>1460.000000</td>\n",
       "      <td>1452.000000</td>\n",
       "      <td>1460.000000</td>\n",
       "      <td>1460.000000</td>\n",
       "      <td>...</td>\n",
       "      <td>1460.000000</td>\n",
       "      <td>1460.000000</td>\n",
       "      <td>1460.000000</td>\n",
       "      <td>1460.000000</td>\n",
       "      <td>1460.000000</td>\n",
       "      <td>1460.000000</td>\n",
       "      <td>1460.000000</td>\n",
       "      <td>1460.000000</td>\n",
       "      <td>1460.000000</td>\n",
       "      <td>1460.000000</td>\n",
       "    </tr>\n",
       "    <tr>\n",
       "      <th>mean</th>\n",
       "      <td>56.897260</td>\n",
       "      <td>70.049958</td>\n",
       "      <td>10516.828082</td>\n",
       "      <td>6.099315</td>\n",
       "      <td>5.575342</td>\n",
       "      <td>1971.267808</td>\n",
       "      <td>1984.865753</td>\n",
       "      <td>103.685262</td>\n",
       "      <td>443.639726</td>\n",
       "      <td>46.549315</td>\n",
       "      <td>...</td>\n",
       "      <td>94.244521</td>\n",
       "      <td>46.660274</td>\n",
       "      <td>21.954110</td>\n",
       "      <td>3.409589</td>\n",
       "      <td>15.060959</td>\n",
       "      <td>2.758904</td>\n",
       "      <td>43.489041</td>\n",
       "      <td>6.321918</td>\n",
       "      <td>2007.815753</td>\n",
       "      <td>180921.195890</td>\n",
       "    </tr>\n",
       "    <tr>\n",
       "      <th>std</th>\n",
       "      <td>42.300571</td>\n",
       "      <td>24.284752</td>\n",
       "      <td>9981.264932</td>\n",
       "      <td>1.382997</td>\n",
       "      <td>1.112799</td>\n",
       "      <td>30.202904</td>\n",
       "      <td>20.645407</td>\n",
       "      <td>181.066207</td>\n",
       "      <td>456.098091</td>\n",
       "      <td>161.319273</td>\n",
       "      <td>...</td>\n",
       "      <td>125.338794</td>\n",
       "      <td>66.256028</td>\n",
       "      <td>61.119149</td>\n",
       "      <td>29.317331</td>\n",
       "      <td>55.757415</td>\n",
       "      <td>40.177307</td>\n",
       "      <td>496.123024</td>\n",
       "      <td>2.703626</td>\n",
       "      <td>1.328095</td>\n",
       "      <td>79442.502883</td>\n",
       "    </tr>\n",
       "    <tr>\n",
       "      <th>min</th>\n",
       "      <td>20.000000</td>\n",
       "      <td>21.000000</td>\n",
       "      <td>1300.000000</td>\n",
       "      <td>1.000000</td>\n",
       "      <td>1.000000</td>\n",
       "      <td>1872.000000</td>\n",
       "      <td>1950.000000</td>\n",
       "      <td>0.000000</td>\n",
       "      <td>0.000000</td>\n",
       "      <td>0.000000</td>\n",
       "      <td>...</td>\n",
       "      <td>0.000000</td>\n",
       "      <td>0.000000</td>\n",
       "      <td>0.000000</td>\n",
       "      <td>0.000000</td>\n",
       "      <td>0.000000</td>\n",
       "      <td>0.000000</td>\n",
       "      <td>0.000000</td>\n",
       "      <td>1.000000</td>\n",
       "      <td>2006.000000</td>\n",
       "      <td>34900.000000</td>\n",
       "    </tr>\n",
       "    <tr>\n",
       "      <th>25%</th>\n",
       "      <td>20.000000</td>\n",
       "      <td>59.000000</td>\n",
       "      <td>7553.500000</td>\n",
       "      <td>5.000000</td>\n",
       "      <td>5.000000</td>\n",
       "      <td>1954.000000</td>\n",
       "      <td>1967.000000</td>\n",
       "      <td>0.000000</td>\n",
       "      <td>0.000000</td>\n",
       "      <td>0.000000</td>\n",
       "      <td>...</td>\n",
       "      <td>0.000000</td>\n",
       "      <td>0.000000</td>\n",
       "      <td>0.000000</td>\n",
       "      <td>0.000000</td>\n",
       "      <td>0.000000</td>\n",
       "      <td>0.000000</td>\n",
       "      <td>0.000000</td>\n",
       "      <td>5.000000</td>\n",
       "      <td>2007.000000</td>\n",
       "      <td>129975.000000</td>\n",
       "    </tr>\n",
       "    <tr>\n",
       "      <th>50%</th>\n",
       "      <td>50.000000</td>\n",
       "      <td>69.000000</td>\n",
       "      <td>9478.500000</td>\n",
       "      <td>6.000000</td>\n",
       "      <td>5.000000</td>\n",
       "      <td>1973.000000</td>\n",
       "      <td>1994.000000</td>\n",
       "      <td>0.000000</td>\n",
       "      <td>383.500000</td>\n",
       "      <td>0.000000</td>\n",
       "      <td>...</td>\n",
       "      <td>0.000000</td>\n",
       "      <td>25.000000</td>\n",
       "      <td>0.000000</td>\n",
       "      <td>0.000000</td>\n",
       "      <td>0.000000</td>\n",
       "      <td>0.000000</td>\n",
       "      <td>0.000000</td>\n",
       "      <td>6.000000</td>\n",
       "      <td>2008.000000</td>\n",
       "      <td>163000.000000</td>\n",
       "    </tr>\n",
       "    <tr>\n",
       "      <th>75%</th>\n",
       "      <td>70.000000</td>\n",
       "      <td>80.000000</td>\n",
       "      <td>11601.500000</td>\n",
       "      <td>7.000000</td>\n",
       "      <td>6.000000</td>\n",
       "      <td>2000.000000</td>\n",
       "      <td>2004.000000</td>\n",
       "      <td>166.000000</td>\n",
       "      <td>712.250000</td>\n",
       "      <td>0.000000</td>\n",
       "      <td>...</td>\n",
       "      <td>168.000000</td>\n",
       "      <td>68.000000</td>\n",
       "      <td>0.000000</td>\n",
       "      <td>0.000000</td>\n",
       "      <td>0.000000</td>\n",
       "      <td>0.000000</td>\n",
       "      <td>0.000000</td>\n",
       "      <td>8.000000</td>\n",
       "      <td>2009.000000</td>\n",
       "      <td>214000.000000</td>\n",
       "    </tr>\n",
       "    <tr>\n",
       "      <th>max</th>\n",
       "      <td>190.000000</td>\n",
       "      <td>313.000000</td>\n",
       "      <td>215245.000000</td>\n",
       "      <td>10.000000</td>\n",
       "      <td>9.000000</td>\n",
       "      <td>2010.000000</td>\n",
       "      <td>2010.000000</td>\n",
       "      <td>1600.000000</td>\n",
       "      <td>5644.000000</td>\n",
       "      <td>1474.000000</td>\n",
       "      <td>...</td>\n",
       "      <td>857.000000</td>\n",
       "      <td>547.000000</td>\n",
       "      <td>552.000000</td>\n",
       "      <td>508.000000</td>\n",
       "      <td>480.000000</td>\n",
       "      <td>738.000000</td>\n",
       "      <td>15500.000000</td>\n",
       "      <td>12.000000</td>\n",
       "      <td>2010.000000</td>\n",
       "      <td>755000.000000</td>\n",
       "    </tr>\n",
       "  </tbody>\n",
       "</table>\n",
       "<p>8 rows × 37 columns</p>\n",
       "</div>"
      ],
      "text/plain": [
       "        MSSubClass  LotFrontage        LotArea  OverallQual  OverallCond  \\\n",
       "count  1460.000000  1201.000000    1460.000000  1460.000000  1460.000000   \n",
       "mean     56.897260    70.049958   10516.828082     6.099315     5.575342   \n",
       "std      42.300571    24.284752    9981.264932     1.382997     1.112799   \n",
       "min      20.000000    21.000000    1300.000000     1.000000     1.000000   \n",
       "25%      20.000000    59.000000    7553.500000     5.000000     5.000000   \n",
       "50%      50.000000    69.000000    9478.500000     6.000000     5.000000   \n",
       "75%      70.000000    80.000000   11601.500000     7.000000     6.000000   \n",
       "max     190.000000   313.000000  215245.000000    10.000000     9.000000   \n",
       "\n",
       "         YearBuilt  YearRemodAdd   MasVnrArea   BsmtFinSF1   BsmtFinSF2  \\\n",
       "count  1460.000000   1460.000000  1452.000000  1460.000000  1460.000000   \n",
       "mean   1971.267808   1984.865753   103.685262   443.639726    46.549315   \n",
       "std      30.202904     20.645407   181.066207   456.098091   161.319273   \n",
       "min    1872.000000   1950.000000     0.000000     0.000000     0.000000   \n",
       "25%    1954.000000   1967.000000     0.000000     0.000000     0.000000   \n",
       "50%    1973.000000   1994.000000     0.000000   383.500000     0.000000   \n",
       "75%    2000.000000   2004.000000   166.000000   712.250000     0.000000   \n",
       "max    2010.000000   2010.000000  1600.000000  5644.000000  1474.000000   \n",
       "\n",
       "           ...         WoodDeckSF  OpenPorchSF  EnclosedPorch    3SsnPorch  \\\n",
       "count      ...        1460.000000  1460.000000    1460.000000  1460.000000   \n",
       "mean       ...          94.244521    46.660274      21.954110     3.409589   \n",
       "std        ...         125.338794    66.256028      61.119149    29.317331   \n",
       "min        ...           0.000000     0.000000       0.000000     0.000000   \n",
       "25%        ...           0.000000     0.000000       0.000000     0.000000   \n",
       "50%        ...           0.000000    25.000000       0.000000     0.000000   \n",
       "75%        ...         168.000000    68.000000       0.000000     0.000000   \n",
       "max        ...         857.000000   547.000000     552.000000   508.000000   \n",
       "\n",
       "       ScreenPorch     PoolArea       MiscVal       MoSold       YrSold  \\\n",
       "count  1460.000000  1460.000000   1460.000000  1460.000000  1460.000000   \n",
       "mean     15.060959     2.758904     43.489041     6.321918  2007.815753   \n",
       "std      55.757415    40.177307    496.123024     2.703626     1.328095   \n",
       "min       0.000000     0.000000      0.000000     1.000000  2006.000000   \n",
       "25%       0.000000     0.000000      0.000000     5.000000  2007.000000   \n",
       "50%       0.000000     0.000000      0.000000     6.000000  2008.000000   \n",
       "75%       0.000000     0.000000      0.000000     8.000000  2009.000000   \n",
       "max     480.000000   738.000000  15500.000000    12.000000  2010.000000   \n",
       "\n",
       "           SalePrice  \n",
       "count    1460.000000  \n",
       "mean   180921.195890  \n",
       "std     79442.502883  \n",
       "min     34900.000000  \n",
       "25%    129975.000000  \n",
       "50%    163000.000000  \n",
       "75%    214000.000000  \n",
       "max    755000.000000  \n",
       "\n",
       "[8 rows x 37 columns]"
      ]
     },
     "execution_count": 245,
     "metadata": {},
     "output_type": "execute_result"
    }
   ],
   "source": [
    "df.describe()"
   ]
  },
  {
   "cell_type": "markdown",
   "metadata": {},
   "source": [
    "## Histogram, Box plot, Scatterplot"
   ]
  },
  {
   "cell_type": "code",
   "execution_count": 246,
   "metadata": {},
   "outputs": [
    {
     "data": {
      "text/plain": [
       "<matplotlib.axes._subplots.AxesSubplot at 0x18c965a4898>"
      ]
     },
     "execution_count": 246,
     "metadata": {},
     "output_type": "execute_result"
    },
    {
     "data": {
      "image/png": "[encoded data removed]",
      "text/plain": [
       "<Figure size 432x288 with 1 Axes>"
      ]
     },
     "metadata": {
      "needs_background": "light"
     },
     "output_type": "display_data"
    }
   ],
   "source": [
    "df['LotArea'].hist(bins=100)"
   ]
  },
  {
   "cell_type": "code",
   "execution_count": 247,
   "metadata": {},
   "outputs": [
    {
     "data": {
      "text/plain": [
       "<matplotlib.axes._subplots.AxesSubplot at 0x18c9631ce10>"
      ]
     },
     "execution_count": 247,
     "metadata": {},
     "output_type": "execute_result"
    },
    {
     "data": {
      "image/png": "[encoded data removed]",
      "text/plain": [
       "<Figure size 432x288 with 1 Axes>"
      ]
     },
     "metadata": {
      "needs_background": "light"
     },
     "output_type": "display_data"
    }
   ],
   "source": [
    "sns.boxplot(x=df['LotArea'])"
   ]
  },
  {
   "cell_type": "code",
   "execution_count": 248,
   "metadata": {},
   "outputs": [
    {
     "data": {
      "image/png": "[encoded data removed]",
      "text/plain": [
       "<Figure size 432x288 with 1 Axes>"
      ]
     },
     "metadata": {
      "needs_background": "light"
     },
     "output_type": "display_data"
    }
   ],
   "source": [
    "sns.regplot(x=df[\"LotArea\"], y=df[\"SalePrice\"], fit_reg=False);"
   ]
  },
  {
   "cell_type": "markdown",
   "metadata": {},
   "source": [
    "## Check missing"
   ]
  },
  {
   "cell_type": "code",
   "execution_count": 249,
   "metadata": {},
   "outputs": [],
   "source": [
    "def check_missing_count(df):\n",
    "    df_miss =pd.DataFrame(df.isnull().sum()).reset_index()\n",
    "    df_miss.columns = ['var','NMiss']\n",
    "    df_miss = df_miss.iloc[1:,:]\n",
    "    df_miss = df_miss[df_miss['NMiss']>0]\n",
    "    return df_miss"
   ]
  },
  {
   "cell_type": "code",
   "execution_count": 250,
   "metadata": {},
   "outputs": [
    {
     "data": {
      "text/html": [
       "<div>\n",
       "<style scoped>\n",
       "    .dataframe tbody tr th:only-of-type {\n",
       "        vertical-align: middle;\n",
       "    }\n",
       "\n",
       "    .dataframe tbody tr th {\n",
       "        vertical-align: top;\n",
       "    }\n",
       "\n",
       "    .dataframe thead th {\n",
       "        text-align: right;\n",
       "    }\n",
       "</style>\n",
       "<table border=\"1\" class=\"dataframe\">\n",
       "  <thead>\n",
       "    <tr style=\"text-align: right;\">\n",
       "      <th></th>\n",
       "      <th>var</th>\n",
       "      <th>NMiss</th>\n",
       "    </tr>\n",
       "  </thead>\n",
       "  <tbody>\n",
       "    <tr>\n",
       "      <th>2</th>\n",
       "      <td>LotFrontage</td>\n",
       "      <td>259</td>\n",
       "    </tr>\n",
       "    <tr>\n",
       "      <th>5</th>\n",
       "      <td>Alley</td>\n",
       "      <td>1369</td>\n",
       "    </tr>\n",
       "    <tr>\n",
       "      <th>24</th>\n",
       "      <td>MasVnrType</td>\n",
       "      <td>8</td>\n",
       "    </tr>\n",
       "    <tr>\n",
       "      <th>25</th>\n",
       "      <td>MasVnrArea</td>\n",
       "      <td>8</td>\n",
       "    </tr>\n",
       "    <tr>\n",
       "      <th>29</th>\n",
       "      <td>BsmtQual</td>\n",
       "      <td>37</td>\n",
       "    </tr>\n",
       "    <tr>\n",
       "      <th>30</th>\n",
       "      <td>BsmtCond</td>\n",
       "      <td>37</td>\n",
       "    </tr>\n",
       "    <tr>\n",
       "      <th>31</th>\n",
       "      <td>BsmtExposure</td>\n",
       "      <td>38</td>\n",
       "    </tr>\n",
       "    <tr>\n",
       "      <th>32</th>\n",
       "      <td>BsmtFinType1</td>\n",
       "      <td>37</td>\n",
       "    </tr>\n",
       "    <tr>\n",
       "      <th>34</th>\n",
       "      <td>BsmtFinType2</td>\n",
       "      <td>38</td>\n",
       "    </tr>\n",
       "    <tr>\n",
       "      <th>41</th>\n",
       "      <td>Electrical</td>\n",
       "      <td>1</td>\n",
       "    </tr>\n",
       "    <tr>\n",
       "      <th>56</th>\n",
       "      <td>FireplaceQu</td>\n",
       "      <td>690</td>\n",
       "    </tr>\n",
       "    <tr>\n",
       "      <th>57</th>\n",
       "      <td>GarageType</td>\n",
       "      <td>81</td>\n",
       "    </tr>\n",
       "    <tr>\n",
       "      <th>58</th>\n",
       "      <td>GarageYrBlt</td>\n",
       "      <td>81</td>\n",
       "    </tr>\n",
       "    <tr>\n",
       "      <th>59</th>\n",
       "      <td>GarageFinish</td>\n",
       "      <td>81</td>\n",
       "    </tr>\n",
       "    <tr>\n",
       "      <th>62</th>\n",
       "      <td>GarageQual</td>\n",
       "      <td>81</td>\n",
       "    </tr>\n",
       "    <tr>\n",
       "      <th>63</th>\n",
       "      <td>GarageCond</td>\n",
       "      <td>81</td>\n",
       "    </tr>\n",
       "    <tr>\n",
       "      <th>71</th>\n",
       "      <td>PoolQC</td>\n",
       "      <td>1453</td>\n",
       "    </tr>\n",
       "    <tr>\n",
       "      <th>72</th>\n",
       "      <td>Fence</td>\n",
       "      <td>1179</td>\n",
       "    </tr>\n",
       "    <tr>\n",
       "      <th>73</th>\n",
       "      <td>MiscFeature</td>\n",
       "      <td>1406</td>\n",
       "    </tr>\n",
       "  </tbody>\n",
       "</table>\n",
       "</div>"
      ],
      "text/plain": [
       "             var  NMiss\n",
       "2    LotFrontage    259\n",
       "5          Alley   1369\n",
       "24    MasVnrType      8\n",
       "25    MasVnrArea      8\n",
       "29      BsmtQual     37\n",
       "30      BsmtCond     37\n",
       "31  BsmtExposure     38\n",
       "32  BsmtFinType1     37\n",
       "34  BsmtFinType2     38\n",
       "41    Electrical      1\n",
       "56   FireplaceQu    690\n",
       "57    GarageType     81\n",
       "58   GarageYrBlt     81\n",
       "59  GarageFinish     81\n",
       "62    GarageQual     81\n",
       "63    GarageCond     81\n",
       "71        PoolQC   1453\n",
       "72         Fence   1179\n",
       "73   MiscFeature   1406"
      ]
     },
     "execution_count": 250,
     "metadata": {},
     "output_type": "execute_result"
    }
   ],
   "source": [
    "check_missing_count(df)"
   ]
  },
  {
   "cell_type": "code",
   "execution_count": 251,
   "metadata": {},
   "outputs": [],
   "source": [
    "df_new = df.fillna(\n",
    "{\n",
    "    'LotFrontage': df['LotFrontage'].mean(),\n",
    "    'Alley':df['Alley'].mode()[0],\n",
    "    'MasVnrType':df['MasVnrType'].mode()[0],\n",
    "    'MasVnrArea':df['MasVnrArea'].median(),\n",
    "    'BsmtQual':df['BsmtQual'].mode()[0],\n",
    "    'BsmtCond':df['BsmtCond'].mode()[0],\n",
    "    'BsmtExposure':df['BsmtExposure'].mode()[0],\n",
    "    'BsmtFinType1':df['BsmtFinType1'].mode()[0],\n",
    "    'BsmtFinType2':df['BsmtFinType2'].mode()[0],\n",
    "    'Electrical': df['Electrical'].mode()[0],\n",
    "    'FireplaceQu': df['FireplaceQu'].mode()[0],\n",
    "    'GarageType': df['GarageType'].mode()[0],\n",
    "    'GarageYrBlt':df['GarageYrBlt'].mode()[0],\n",
    "    'GarageFinish':df['GarageFinish'].mode()[0],\n",
    "    'GarageQual': df['GarageQual'].mode()[0],\n",
    "    'GarageCond':df['GarageCond'].mode()[0],\n",
    "    'PoolQC':df['PoolQC'].mode()[0],\n",
    "    'Fence':df['Fence'].mode()[0],\n",
    "    'MiscFeature':df['MiscFeature'].mode()[0]\n",
    "}\n",
    ")"
   ]
  },
  {
   "cell_type": "code",
   "execution_count": 252,
   "metadata": {},
   "outputs": [
    {
     "data": {
      "text/html": [
       "<div>\n",
       "<style scoped>\n",
       "    .dataframe tbody tr th:only-of-type {\n",
       "        vertical-align: middle;\n",
       "    }\n",
       "\n",
       "    .dataframe tbody tr th {\n",
       "        vertical-align: top;\n",
       "    }\n",
       "\n",
       "    .dataframe thead th {\n",
       "        text-align: right;\n",
       "    }\n",
       "</style>\n",
       "<table border=\"1\" class=\"dataframe\">\n",
       "  <thead>\n",
       "    <tr style=\"text-align: right;\">\n",
       "      <th></th>\n",
       "      <th>var</th>\n",
       "      <th>NMiss</th>\n",
       "    </tr>\n",
       "  </thead>\n",
       "  <tbody>\n",
       "  </tbody>\n",
       "</table>\n",
       "</div>"
      ],
      "text/plain": [
       "Empty DataFrame\n",
       "Columns: [var, NMiss]\n",
       "Index: []"
      ]
     },
     "execution_count": 252,
     "metadata": {},
     "output_type": "execute_result"
    }
   ],
   "source": [
    "check_missing_count(df_new)"
   ]
  },
  {
   "cell_type": "markdown",
   "metadata": {},
   "source": [
    "## Create dummy variables for category variables"
   ]
  },
  {
   "cell_type": "code",
   "execution_count": 253,
   "metadata": {},
   "outputs": [],
   "source": [
    "def create_dummies(df, var_list):\n",
    "    res = df.copy()\n",
    "    for var in var_list:\n",
    "        dummy = pd.get_dummies(res[var],prefix=var,drop_first=True)\n",
    "        res = pd.concat([res, dummy],axis=1)\n",
    "        res = res.drop([var],axis=1)\n",
    "    return res"
   ]
  },
  {
   "cell_type": "code",
   "execution_count": 254,
   "metadata": {},
   "outputs": [
    {
     "data": {
      "text/plain": [
       "(1460, 80)"
      ]
     },
     "execution_count": 254,
     "metadata": {},
     "output_type": "execute_result"
    }
   ],
   "source": [
    "df_new.shape"
   ]
  },
  {
   "cell_type": "code",
   "execution_count": 255,
   "metadata": {},
   "outputs": [],
   "source": [
    "list_category_var = []\n",
    "list_numeric_var = []"
   ]
  },
  {
   "cell_type": "code",
   "execution_count": 256,
   "metadata": {},
   "outputs": [],
   "source": [
    "for x in df_new.columns[:-1]:\n",
    "    if type(df_new[x][0]) == str:\n",
    "        list_category_var.append(x)\n",
    "    if type(df_new[x][0]) == np.float64 or type(df_new[x][0]) == np.int64:\n",
    "        list_numeric_var.append(x)"
   ]
  },
  {
   "cell_type": "code",
   "execution_count": 257,
   "metadata": {},
   "outputs": [],
   "source": [
    "list_change_var= ['MSSubClass', 'OverallQual','OverallCond']"
   ]
  },
  {
   "cell_type": "code",
   "execution_count": 258,
   "metadata": {},
   "outputs": [],
   "source": [
    "list_category_var = list(set(list_category_var + list_change_var))"
   ]
  },
  {
   "cell_type": "code",
   "execution_count": 259,
   "metadata": {},
   "outputs": [],
   "source": [
    "list_numeric_var = list(set(list_numeric_var)-set(list_change_var))"
   ]
  },
  {
   "cell_type": "code",
   "execution_count": 260,
   "metadata": {},
   "outputs": [],
   "source": [
    "df_new_w_dummy = create_dummies(df_new, list_category_var)"
   ]
  },
  {
   "cell_type": "code",
   "execution_count": 261,
   "metadata": {},
   "outputs": [
    {
     "data": {
      "text/plain": [
       "(1460, 274)"
      ]
     },
     "execution_count": 261,
     "metadata": {},
     "output_type": "execute_result"
    }
   ],
   "source": [
    "df_new_w_dummy.shape"
   ]
  },
  {
   "cell_type": "code",
   "execution_count": 262,
   "metadata": {},
   "outputs": [
    {
     "data": {
      "text/html": [
       "<div>\n",
       "<style scoped>\n",
       "    .dataframe tbody tr th:only-of-type {\n",
       "        vertical-align: middle;\n",
       "    }\n",
       "\n",
       "    .dataframe tbody tr th {\n",
       "        vertical-align: top;\n",
       "    }\n",
       "\n",
       "    .dataframe thead th {\n",
       "        text-align: right;\n",
       "    }\n",
       "</style>\n",
       "<table border=\"1\" class=\"dataframe\">\n",
       "  <thead>\n",
       "    <tr style=\"text-align: right;\">\n",
       "      <th></th>\n",
       "      <th>var</th>\n",
       "      <th>NMiss</th>\n",
       "    </tr>\n",
       "  </thead>\n",
       "  <tbody>\n",
       "  </tbody>\n",
       "</table>\n",
       "</div>"
      ],
      "text/plain": [
       "Empty DataFrame\n",
       "Columns: [var, NMiss]\n",
       "Index: []"
      ]
     },
     "execution_count": 262,
     "metadata": {},
     "output_type": "execute_result"
    }
   ],
   "source": [
    "check_missing_count(df_new_w_dummy)"
   ]
  },
  {
   "cell_type": "markdown",
   "metadata": {},
   "source": [
    "# Linear regression"
   ]
  },
  {
   "cell_type": "markdown",
   "metadata": {},
   "source": [
    "### Create target and X variables and split into Train and Test"
   ]
  },
  {
   "cell_type": "code",
   "execution_count": 263,
   "metadata": {},
   "outputs": [],
   "source": [
    "y = df_new_w_dummy['SalePrice']\n",
    "X = df_new_w_dummy.drop(['SalePrice'],axis=1)\n",
    "x_train, x_test, y_train, y_test = train_test_split(X, y, test_size=0.3, random_state=0)"
   ]
  },
  {
   "cell_type": "code",
   "execution_count": 264,
   "metadata": {},
   "outputs": [
    {
     "name": "stdout",
     "output_type": "stream",
     "text": [
      "(1022, 273)\n",
      "(1022,)\n",
      "(438, 273)\n",
      "(438,)\n"
     ]
    }
   ],
   "source": [
    "print(x_train.shape)\n",
    "print(y_train.shape)\n",
    "print(x_test.shape)\n",
    "print(y_test.shape)"
   ]
  },
  {
   "cell_type": "markdown",
   "metadata": {},
   "source": [
    "### prepare the same process for dataset without ground truth"
   ]
  },
  {
   "cell_type": "code",
   "execution_count": 289,
   "metadata": {},
   "outputs": [],
   "source": [
    "X_wo_truth_orig = pd.read_csv('test.csv')"
   ]
  },
  {
   "cell_type": "code",
   "execution_count": 290,
   "metadata": {},
   "outputs": [],
   "source": [
    "X_wo_truth = X_wo_truth_orig.drop(['Id'],axis=1)"
   ]
  },
  {
   "cell_type": "code",
   "execution_count": 291,
   "metadata": {},
   "outputs": [
    {
     "data": {
      "text/html": [
       "<div>\n",
       "<style scoped>\n",
       "    .dataframe tbody tr th:only-of-type {\n",
       "        vertical-align: middle;\n",
       "    }\n",
       "\n",
       "    .dataframe tbody tr th {\n",
       "        vertical-align: top;\n",
       "    }\n",
       "\n",
       "    .dataframe thead th {\n",
       "        text-align: right;\n",
       "    }\n",
       "</style>\n",
       "<table border=\"1\" class=\"dataframe\">\n",
       "  <thead>\n",
       "    <tr style=\"text-align: right;\">\n",
       "      <th></th>\n",
       "      <th>MSSubClass</th>\n",
       "      <th>MSZoning</th>\n",
       "      <th>LotFrontage</th>\n",
       "      <th>LotArea</th>\n",
       "      <th>Street</th>\n",
       "      <th>Alley</th>\n",
       "      <th>LotShape</th>\n",
       "      <th>LandContour</th>\n",
       "      <th>Utilities</th>\n",
       "      <th>LotConfig</th>\n",
       "      <th>...</th>\n",
       "      <th>ScreenPorch</th>\n",
       "      <th>PoolArea</th>\n",
       "      <th>PoolQC</th>\n",
       "      <th>Fence</th>\n",
       "      <th>MiscFeature</th>\n",
       "      <th>MiscVal</th>\n",
       "      <th>MoSold</th>\n",
       "      <th>YrSold</th>\n",
       "      <th>SaleType</th>\n",
       "      <th>SaleCondition</th>\n",
       "    </tr>\n",
       "  </thead>\n",
       "  <tbody>\n",
       "    <tr>\n",
       "      <th>0</th>\n",
       "      <td>20</td>\n",
       "      <td>RH</td>\n",
       "      <td>80.0</td>\n",
       "      <td>11622</td>\n",
       "      <td>Pave</td>\n",
       "      <td>NaN</td>\n",
       "      <td>Reg</td>\n",
       "      <td>Lvl</td>\n",
       "      <td>AllPub</td>\n",
       "      <td>Inside</td>\n",
       "      <td>...</td>\n",
       "      <td>120</td>\n",
       "      <td>0</td>\n",
       "      <td>NaN</td>\n",
       "      <td>MnPrv</td>\n",
       "      <td>NaN</td>\n",
       "      <td>0</td>\n",
       "      <td>6</td>\n",
       "      <td>2010</td>\n",
       "      <td>WD</td>\n",
       "      <td>Normal</td>\n",
       "    </tr>\n",
       "    <tr>\n",
       "      <th>1</th>\n",
       "      <td>20</td>\n",
       "      <td>RL</td>\n",
       "      <td>81.0</td>\n",
       "      <td>14267</td>\n",
       "      <td>Pave</td>\n",
       "      <td>NaN</td>\n",
       "      <td>IR1</td>\n",
       "      <td>Lvl</td>\n",
       "      <td>AllPub</td>\n",
       "      <td>Corner</td>\n",
       "      <td>...</td>\n",
       "      <td>0</td>\n",
       "      <td>0</td>\n",
       "      <td>NaN</td>\n",
       "      <td>NaN</td>\n",
       "      <td>Gar2</td>\n",
       "      <td>12500</td>\n",
       "      <td>6</td>\n",
       "      <td>2010</td>\n",
       "      <td>WD</td>\n",
       "      <td>Normal</td>\n",
       "    </tr>\n",
       "    <tr>\n",
       "      <th>2</th>\n",
       "      <td>60</td>\n",
       "      <td>RL</td>\n",
       "      <td>74.0</td>\n",
       "      <td>13830</td>\n",
       "      <td>Pave</td>\n",
       "      <td>NaN</td>\n",
       "      <td>IR1</td>\n",
       "      <td>Lvl</td>\n",
       "      <td>AllPub</td>\n",
       "      <td>Inside</td>\n",
       "      <td>...</td>\n",
       "      <td>0</td>\n",
       "      <td>0</td>\n",
       "      <td>NaN</td>\n",
       "      <td>MnPrv</td>\n",
       "      <td>NaN</td>\n",
       "      <td>0</td>\n",
       "      <td>3</td>\n",
       "      <td>2010</td>\n",
       "      <td>WD</td>\n",
       "      <td>Normal</td>\n",
       "    </tr>\n",
       "    <tr>\n",
       "      <th>3</th>\n",
       "      <td>60</td>\n",
       "      <td>RL</td>\n",
       "      <td>78.0</td>\n",
       "      <td>9978</td>\n",
       "      <td>Pave</td>\n",
       "      <td>NaN</td>\n",
       "      <td>IR1</td>\n",
       "      <td>Lvl</td>\n",
       "      <td>AllPub</td>\n",
       "      <td>Inside</td>\n",
       "      <td>...</td>\n",
       "      <td>0</td>\n",
       "      <td>0</td>\n",
       "      <td>NaN</td>\n",
       "      <td>NaN</td>\n",
       "      <td>NaN</td>\n",
       "      <td>0</td>\n",
       "      <td>6</td>\n",
       "      <td>2010</td>\n",
       "      <td>WD</td>\n",
       "      <td>Normal</td>\n",
       "    </tr>\n",
       "    <tr>\n",
       "      <th>4</th>\n",
       "      <td>120</td>\n",
       "      <td>RL</td>\n",
       "      <td>43.0</td>\n",
       "      <td>5005</td>\n",
       "      <td>Pave</td>\n",
       "      <td>NaN</td>\n",
       "      <td>IR1</td>\n",
       "      <td>HLS</td>\n",
       "      <td>AllPub</td>\n",
       "      <td>Inside</td>\n",
       "      <td>...</td>\n",
       "      <td>144</td>\n",
       "      <td>0</td>\n",
       "      <td>NaN</td>\n",
       "      <td>NaN</td>\n",
       "      <td>NaN</td>\n",
       "      <td>0</td>\n",
       "      <td>1</td>\n",
       "      <td>2010</td>\n",
       "      <td>WD</td>\n",
       "      <td>Normal</td>\n",
       "    </tr>\n",
       "  </tbody>\n",
       "</table>\n",
       "<p>5 rows × 79 columns</p>\n",
       "</div>"
      ],
      "text/plain": [
       "   MSSubClass MSZoning  LotFrontage  LotArea Street Alley LotShape  \\\n",
       "0          20       RH         80.0    11622   Pave   NaN      Reg   \n",
       "1          20       RL         81.0    14267   Pave   NaN      IR1   \n",
       "2          60       RL         74.0    13830   Pave   NaN      IR1   \n",
       "3          60       RL         78.0     9978   Pave   NaN      IR1   \n",
       "4         120       RL         43.0     5005   Pave   NaN      IR1   \n",
       "\n",
       "  LandContour Utilities LotConfig      ...       ScreenPorch PoolArea PoolQC  \\\n",
       "0         Lvl    AllPub    Inside      ...               120        0    NaN   \n",
       "1         Lvl    AllPub    Corner      ...                 0        0    NaN   \n",
       "2         Lvl    AllPub    Inside      ...                 0        0    NaN   \n",
       "3         Lvl    AllPub    Inside      ...                 0        0    NaN   \n",
       "4         HLS    AllPub    Inside      ...               144        0    NaN   \n",
       "\n",
       "   Fence MiscFeature MiscVal  MoSold  YrSold  SaleType  SaleCondition  \n",
       "0  MnPrv         NaN       0       6    2010        WD         Normal  \n",
       "1    NaN        Gar2   12500       6    2010        WD         Normal  \n",
       "2  MnPrv         NaN       0       3    2010        WD         Normal  \n",
       "3    NaN         NaN       0       6    2010        WD         Normal  \n",
       "4    NaN         NaN       0       1    2010        WD         Normal  \n",
       "\n",
       "[5 rows x 79 columns]"
      ]
     },
     "execution_count": 291,
     "metadata": {},
     "output_type": "execute_result"
    }
   ],
   "source": [
    "X_wo_truth.head()"
   ]
  },
  {
   "cell_type": "code",
   "execution_count": 292,
   "metadata": {},
   "outputs": [
    {
     "data": {
      "text/html": [
       "<div>\n",
       "<style scoped>\n",
       "    .dataframe tbody tr th:only-of-type {\n",
       "        vertical-align: middle;\n",
       "    }\n",
       "\n",
       "    .dataframe tbody tr th {\n",
       "        vertical-align: top;\n",
       "    }\n",
       "\n",
       "    .dataframe thead th {\n",
       "        text-align: right;\n",
       "    }\n",
       "</style>\n",
       "<table border=\"1\" class=\"dataframe\">\n",
       "  <thead>\n",
       "    <tr style=\"text-align: right;\">\n",
       "      <th></th>\n",
       "      <th>var</th>\n",
       "      <th>NMiss</th>\n",
       "    </tr>\n",
       "  </thead>\n",
       "  <tbody>\n",
       "    <tr>\n",
       "      <th>1</th>\n",
       "      <td>MSZoning</td>\n",
       "      <td>4</td>\n",
       "    </tr>\n",
       "    <tr>\n",
       "      <th>2</th>\n",
       "      <td>LotFrontage</td>\n",
       "      <td>227</td>\n",
       "    </tr>\n",
       "    <tr>\n",
       "      <th>5</th>\n",
       "      <td>Alley</td>\n",
       "      <td>1352</td>\n",
       "    </tr>\n",
       "    <tr>\n",
       "      <th>8</th>\n",
       "      <td>Utilities</td>\n",
       "      <td>2</td>\n",
       "    </tr>\n",
       "    <tr>\n",
       "      <th>22</th>\n",
       "      <td>Exterior1st</td>\n",
       "      <td>1</td>\n",
       "    </tr>\n",
       "    <tr>\n",
       "      <th>23</th>\n",
       "      <td>Exterior2nd</td>\n",
       "      <td>1</td>\n",
       "    </tr>\n",
       "    <tr>\n",
       "      <th>24</th>\n",
       "      <td>MasVnrType</td>\n",
       "      <td>16</td>\n",
       "    </tr>\n",
       "    <tr>\n",
       "      <th>25</th>\n",
       "      <td>MasVnrArea</td>\n",
       "      <td>15</td>\n",
       "    </tr>\n",
       "    <tr>\n",
       "      <th>29</th>\n",
       "      <td>BsmtQual</td>\n",
       "      <td>44</td>\n",
       "    </tr>\n",
       "    <tr>\n",
       "      <th>30</th>\n",
       "      <td>BsmtCond</td>\n",
       "      <td>45</td>\n",
       "    </tr>\n",
       "    <tr>\n",
       "      <th>31</th>\n",
       "      <td>BsmtExposure</td>\n",
       "      <td>44</td>\n",
       "    </tr>\n",
       "    <tr>\n",
       "      <th>32</th>\n",
       "      <td>BsmtFinType1</td>\n",
       "      <td>42</td>\n",
       "    </tr>\n",
       "    <tr>\n",
       "      <th>33</th>\n",
       "      <td>BsmtFinSF1</td>\n",
       "      <td>1</td>\n",
       "    </tr>\n",
       "    <tr>\n",
       "      <th>34</th>\n",
       "      <td>BsmtFinType2</td>\n",
       "      <td>42</td>\n",
       "    </tr>\n",
       "    <tr>\n",
       "      <th>35</th>\n",
       "      <td>BsmtFinSF2</td>\n",
       "      <td>1</td>\n",
       "    </tr>\n",
       "    <tr>\n",
       "      <th>36</th>\n",
       "      <td>BsmtUnfSF</td>\n",
       "      <td>1</td>\n",
       "    </tr>\n",
       "    <tr>\n",
       "      <th>37</th>\n",
       "      <td>TotalBsmtSF</td>\n",
       "      <td>1</td>\n",
       "    </tr>\n",
       "    <tr>\n",
       "      <th>46</th>\n",
       "      <td>BsmtFullBath</td>\n",
       "      <td>2</td>\n",
       "    </tr>\n",
       "    <tr>\n",
       "      <th>47</th>\n",
       "      <td>BsmtHalfBath</td>\n",
       "      <td>2</td>\n",
       "    </tr>\n",
       "    <tr>\n",
       "      <th>52</th>\n",
       "      <td>KitchenQual</td>\n",
       "      <td>1</td>\n",
       "    </tr>\n",
       "    <tr>\n",
       "      <th>54</th>\n",
       "      <td>Functional</td>\n",
       "      <td>2</td>\n",
       "    </tr>\n",
       "    <tr>\n",
       "      <th>56</th>\n",
       "      <td>FireplaceQu</td>\n",
       "      <td>730</td>\n",
       "    </tr>\n",
       "    <tr>\n",
       "      <th>57</th>\n",
       "      <td>GarageType</td>\n",
       "      <td>76</td>\n",
       "    </tr>\n",
       "    <tr>\n",
       "      <th>58</th>\n",
       "      <td>GarageYrBlt</td>\n",
       "      <td>78</td>\n",
       "    </tr>\n",
       "    <tr>\n",
       "      <th>59</th>\n",
       "      <td>GarageFinish</td>\n",
       "      <td>78</td>\n",
       "    </tr>\n",
       "    <tr>\n",
       "      <th>60</th>\n",
       "      <td>GarageCars</td>\n",
       "      <td>1</td>\n",
       "    </tr>\n",
       "    <tr>\n",
       "      <th>61</th>\n",
       "      <td>GarageArea</td>\n",
       "      <td>1</td>\n",
       "    </tr>\n",
       "    <tr>\n",
       "      <th>62</th>\n",
       "      <td>GarageQual</td>\n",
       "      <td>78</td>\n",
       "    </tr>\n",
       "    <tr>\n",
       "      <th>63</th>\n",
       "      <td>GarageCond</td>\n",
       "      <td>78</td>\n",
       "    </tr>\n",
       "    <tr>\n",
       "      <th>71</th>\n",
       "      <td>PoolQC</td>\n",
       "      <td>1456</td>\n",
       "    </tr>\n",
       "    <tr>\n",
       "      <th>72</th>\n",
       "      <td>Fence</td>\n",
       "      <td>1169</td>\n",
       "    </tr>\n",
       "    <tr>\n",
       "      <th>73</th>\n",
       "      <td>MiscFeature</td>\n",
       "      <td>1408</td>\n",
       "    </tr>\n",
       "    <tr>\n",
       "      <th>77</th>\n",
       "      <td>SaleType</td>\n",
       "      <td>1</td>\n",
       "    </tr>\n",
       "  </tbody>\n",
       "</table>\n",
       "</div>"
      ],
      "text/plain": [
       "             var  NMiss\n",
       "1       MSZoning      4\n",
       "2    LotFrontage    227\n",
       "5          Alley   1352\n",
       "8      Utilities      2\n",
       "22   Exterior1st      1\n",
       "23   Exterior2nd      1\n",
       "24    MasVnrType     16\n",
       "25    MasVnrArea     15\n",
       "29      BsmtQual     44\n",
       "30      BsmtCond     45\n",
       "31  BsmtExposure     44\n",
       "32  BsmtFinType1     42\n",
       "33    BsmtFinSF1      1\n",
       "34  BsmtFinType2     42\n",
       "35    BsmtFinSF2      1\n",
       "36     BsmtUnfSF      1\n",
       "37   TotalBsmtSF      1\n",
       "46  BsmtFullBath      2\n",
       "47  BsmtHalfBath      2\n",
       "52   KitchenQual      1\n",
       "54    Functional      2\n",
       "56   FireplaceQu    730\n",
       "57    GarageType     76\n",
       "58   GarageYrBlt     78\n",
       "59  GarageFinish     78\n",
       "60    GarageCars      1\n",
       "61    GarageArea      1\n",
       "62    GarageQual     78\n",
       "63    GarageCond     78\n",
       "71        PoolQC   1456\n",
       "72         Fence   1169\n",
       "73   MiscFeature   1408\n",
       "77      SaleType      1"
      ]
     },
     "execution_count": 292,
     "metadata": {},
     "output_type": "execute_result"
    }
   ],
   "source": [
    "check_missing_count(X_wo_truth)"
   ]
  },
  {
   "cell_type": "code",
   "execution_count": 293,
   "metadata": {},
   "outputs": [],
   "source": [
    "X_wo_truth_fillna_dict = {\n",
    "    'MSZoning':df['MSZoning'].mode()[0],\n",
    "    'LotFrontage': df['LotFrontage'].mean(),\n",
    "    'Alley':df['Alley'].mode()[0],\n",
    "    'Utilities':df['Utilities'].mode()[0],\n",
    "    'Exterior1st':df['Exterior1st'].mode()[0],\n",
    "    'Exterior2nd':df['Exterior2nd'].mode()[0],\n",
    "    'MasVnrType':df['MasVnrType'].mode()[0],\n",
    "    'MasVnrArea':df['MasVnrArea'].median(),\n",
    "    'BsmtQual':df['BsmtQual'].mode()[0],\n",
    "    'BsmtCond':df['BsmtCond'].mode()[0],\n",
    "    'BsmtExposure':df['BsmtExposure'].mode()[0],\n",
    "    'BsmtFinType1':df['BsmtFinType1'].mode()[0],\n",
    "    'BsmtFinSF1':int(df['BsmtFinSF1'].median()),\n",
    "    'BsmtFinType2':df['BsmtFinType2'].mode()[0],\n",
    "    'BsmtFinSF2':int(df['BsmtFinSF2'].median()),\n",
    "    'BsmtUnfSF':int(df['BsmtUnfSF'].median()),\n",
    "    'TotalBsmtSF':int(df['TotalBsmtSF'].median()),\n",
    "    'BsmtFullBath':df['BsmtFullBath'].mode()[0],\n",
    "    'BsmtHalfBath':df['BsmtHalfBath'].mode()[0],\n",
    "    'KitchenQual':df['KitchenQual'].mode()[0],\n",
    "    'Functional':df['Functional'].mode()[0],\n",
    "    'FireplaceQu': df['FireplaceQu'].mode()[0],\n",
    "    'GarageType': df['GarageType'].mode()[0],\n",
    "    'GarageYrBlt':df['GarageYrBlt'].mode()[0],\n",
    "    'GarageFinish':df['GarageFinish'].mode()[0],\n",
    "    'GarageCars':df['GarageCars'].mode()[0],\n",
    "    'GarageArea':int(df['GarageArea'].median()),\n",
    "    'GarageQual': df['GarageQual'].mode()[0],\n",
    "    'GarageCond':df['GarageCond'].mode()[0],\n",
    "    'PoolQC':df['PoolQC'].mode()[0],\n",
    "    'Fence':df['Fence'].mode()[0],\n",
    "    'MiscFeature':df['MiscFeature'].mode()[0],\n",
    "    'SaleType':df['SaleType'].mode()[0]\n",
    "}"
   ]
  },
  {
   "cell_type": "code",
   "execution_count": 294,
   "metadata": {},
   "outputs": [],
   "source": [
    "X_wo_truth_new = X_wo_truth.fillna(X_wo_truth_fillna_dict)"
   ]
  },
  {
   "cell_type": "code",
   "execution_count": 295,
   "metadata": {},
   "outputs": [
    {
     "data": {
      "text/html": [
       "<div>\n",
       "<style scoped>\n",
       "    .dataframe tbody tr th:only-of-type {\n",
       "        vertical-align: middle;\n",
       "    }\n",
       "\n",
       "    .dataframe tbody tr th {\n",
       "        vertical-align: top;\n",
       "    }\n",
       "\n",
       "    .dataframe thead th {\n",
       "        text-align: right;\n",
       "    }\n",
       "</style>\n",
       "<table border=\"1\" class=\"dataframe\">\n",
       "  <thead>\n",
       "    <tr style=\"text-align: right;\">\n",
       "      <th></th>\n",
       "      <th>var</th>\n",
       "      <th>NMiss</th>\n",
       "    </tr>\n",
       "  </thead>\n",
       "  <tbody>\n",
       "  </tbody>\n",
       "</table>\n",
       "</div>"
      ],
      "text/plain": [
       "Empty DataFrame\n",
       "Columns: [var, NMiss]\n",
       "Index: []"
      ]
     },
     "execution_count": 295,
     "metadata": {},
     "output_type": "execute_result"
    }
   ],
   "source": [
    "check_missing_count(X_wo_truth_new)"
   ]
  },
  {
   "cell_type": "code",
   "execution_count": 296,
   "metadata": {},
   "outputs": [],
   "source": [
    "X_wo_truth_new_w_dummy = create_dummies(X_wo_truth_new, list_category_var)"
   ]
  },
  {
   "cell_type": "code",
   "execution_count": 297,
   "metadata": {},
   "outputs": [
    {
     "data": {
      "text/plain": [
       "(1459, 256)"
      ]
     },
     "execution_count": 297,
     "metadata": {},
     "output_type": "execute_result"
    }
   ],
   "source": [
    "X_wo_truth_new_w_dummy.shape"
   ]
  },
  {
   "cell_type": "code",
   "execution_count": 298,
   "metadata": {},
   "outputs": [],
   "source": [
    "for x in x_train.columns:\n",
    "    if x not in X_wo_truth_new_w_dummy.columns:\n",
    "        X_wo_truth_new_w_dummy[x] = 0"
   ]
  },
  {
   "cell_type": "code",
   "execution_count": 299,
   "metadata": {},
   "outputs": [
    {
     "name": "stdout",
     "output_type": "stream",
     "text": [
      "MSSubClass_150\n"
     ]
    }
   ],
   "source": [
    "for x in X_wo_truth_new_w_dummy.columns:\n",
    "    if x not in x_train.columns:\n",
    "        print(x)"
   ]
  },
  {
   "cell_type": "code",
   "execution_count": 300,
   "metadata": {},
   "outputs": [],
   "source": [
    "X_wo_truth_new_w_dummy =X_wo_truth_new_w_dummy.drop(['MSSubClass_150'],axis=1)"
   ]
  },
  {
   "cell_type": "code",
   "execution_count": 301,
   "metadata": {},
   "outputs": [
    {
     "data": {
      "text/plain": [
       "(1459, 273)"
      ]
     },
     "execution_count": 301,
     "metadata": {},
     "output_type": "execute_result"
    }
   ],
   "source": [
    "X_wo_truth_new_w_dummy.shape"
   ]
  },
  {
   "cell_type": "markdown",
   "metadata": {},
   "source": [
    "## Linear Regression"
   ]
  },
  {
   "cell_type": "code",
   "execution_count": 302,
   "metadata": {},
   "outputs": [
    {
     "data": {
      "text/plain": [
       "LinearRegression(copy_X=True, fit_intercept=True, n_jobs=1, normalize=False)"
      ]
     },
     "execution_count": 302,
     "metadata": {},
     "output_type": "execute_result"
    }
   ],
   "source": [
    "linear_reg = LinearRegression()\n",
    "linear_reg.fit(x_train, y_train)"
   ]
  },
  {
   "cell_type": "markdown",
   "metadata": {},
   "source": [
    "### submission"
   ]
  },
  {
   "cell_type": "code",
   "execution_count": 404,
   "metadata": {},
   "outputs": [],
   "source": [
    "X_wo_truth_new_preds = linear_reg.predict(X_wo_truth_new_w_dummy[x_train.columns])  "
   ]
  },
  {
   "cell_type": "code",
   "execution_count": 405,
   "metadata": {},
   "outputs": [
    {
     "data": {
      "text/plain": [
       "1459"
      ]
     },
     "execution_count": 405,
     "metadata": {},
     "output_type": "execute_result"
    }
   ],
   "source": [
    "len(X_wo_truth_new_preds)"
   ]
  },
  {
   "cell_type": "code",
   "execution_count": 406,
   "metadata": {},
   "outputs": [],
   "source": [
    "data ={\n",
    "    'Id': list(X_wo_truth_orig['Id']),\n",
    "    'SalePrice': list(X_wo_truth_new_preds)\n",
    "}\n",
    "submission = pd.DataFrame(data)\n",
    "submission.to_csv('20210227_submission_1_Linear_Regression.csv')"
   ]
  },
  {
   "cell_type": "markdown",
   "metadata": {},
   "source": [
    "### Random Forrest"
   ]
  },
  {
   "cell_type": "code",
   "execution_count": 344,
   "metadata": {},
   "outputs": [
    {
     "data": {
      "text/plain": [
       "RandomForestRegressor(bootstrap=True, criterion='mse', max_depth=None,\n",
       "           max_features='auto', max_leaf_nodes=None,\n",
       "           min_impurity_decrease=0.0, min_impurity_split=None,\n",
       "           min_samples_leaf=1, min_samples_split=2,\n",
       "           min_weight_fraction_leaf=0.0, n_estimators=1000, n_jobs=1,\n",
       "           oob_score=False, random_state=42, verbose=0, warm_start=False)"
      ]
     },
     "execution_count": 344,
     "metadata": {},
     "output_type": "execute_result"
    }
   ],
   "source": [
    "rf = RandomForestRegressor(n_estimators = 1000, random_state = 42)\n",
    "rf.fit(x_train, y_train)"
   ]
  },
  {
   "cell_type": "code",
   "execution_count": 345,
   "metadata": {},
   "outputs": [],
   "source": [
    "def create_feature_importance(model, x, top_n=20):\n",
    "    importances = list(model.feature_importances_)\n",
    "    feature_importances = [(feature, round(importance, 2)) for feature, importance in zip(x_train.columns, importances)]\n",
    "    feature_importances = sorted(feature_importances, key = lambda x: x[1], reverse = True)\n",
    "    [print('Variable: {:20} Importance: {}'.format(*pair)) for pair in feature_importances[:top_n]]\n",
    "    \n",
    "    ls1 = [x[0] for x in feature_importances]\n",
    "    ls2 = [x[1] for x in feature_importances]\n",
    "    ls1 = ls1[:top_n]\n",
    "    ls2 = ls2[:top_n]\n",
    "    ls1.reverse()\n",
    "    ls2.reverse()\n",
    "    \n",
    "    plt.barh(ls1, ls2)"
   ]
  },
  {
   "cell_type": "code",
   "execution_count": 346,
   "metadata": {},
   "outputs": [
    {
     "name": "stdout",
     "output_type": "stream",
     "text": [
      "Variable: GarageCars           Importance: 0.27\n",
      "Variable: GrLivArea            Importance: 0.25\n",
      "Variable: YearBuilt            Importance: 0.05\n",
      "Variable: TotalBsmtSF          Importance: 0.05\n",
      "Variable: 1stFlrSF             Importance: 0.04\n",
      "Variable: ExterQual_TA         Importance: 0.04\n",
      "Variable: BsmtFinSF1           Importance: 0.03\n",
      "Variable: GarageArea           Importance: 0.03\n",
      "Variable: LotArea              Importance: 0.02\n",
      "Variable: YearRemodAdd         Importance: 0.02\n",
      "Variable: MasVnrArea           Importance: 0.02\n",
      "Variable: LotFrontage          Importance: 0.01\n",
      "Variable: BsmtUnfSF            Importance: 0.01\n",
      "Variable: 2ndFlrSF             Importance: 0.01\n",
      "Variable: FullBath             Importance: 0.01\n",
      "Variable: OpenPorchSF          Importance: 0.01\n",
      "Variable: KitchenQual_TA       Importance: 0.01\n",
      "Variable: CentralAir_Y         Importance: 0.01\n",
      "Variable: GarageFinish_Unf     Importance: 0.01\n",
      "Variable: OverallQual_8        Importance: 0.01\n"
     ]
    },
    {
     "data": {
      "image/png": "[encoded data removed]",
      "text/plain": [
       "<Figure size 432x288 with 1 Axes>"
      ]
     },
     "metadata": {
      "needs_background": "light"
     },
     "output_type": "display_data"
    }
   ],
   "source": [
    "create_feature_importance(rf, x_train)"
   ]
  },
  {
   "cell_type": "code",
   "execution_count": 347,
   "metadata": {},
   "outputs": [
    {
     "data": {
      "text/plain": [
       "{'bootstrap': True,\n",
       " 'criterion': 'mse',\n",
       " 'max_depth': None,\n",
       " 'max_features': 'auto',\n",
       " 'max_leaf_nodes': None,\n",
       " 'min_impurity_decrease': 0.0,\n",
       " 'min_impurity_split': None,\n",
       " 'min_samples_leaf': 1,\n",
       " 'min_samples_split': 2,\n",
       " 'min_weight_fraction_leaf': 0.0,\n",
       " 'n_estimators': 1000,\n",
       " 'n_jobs': 1,\n",
       " 'oob_score': False,\n",
       " 'random_state': 42,\n",
       " 'verbose': 0,\n",
       " 'warm_start': False}"
      ]
     },
     "execution_count": 347,
     "metadata": {},
     "output_type": "execute_result"
    }
   ],
   "source": [
    "rf.get_params()"
   ]
  },
  {
   "cell_type": "markdown",
   "metadata": {},
   "source": [
    "## R2"
   ]
  },
  {
   "cell_type": "code",
   "execution_count": 348,
   "metadata": {},
   "outputs": [
    {
     "data": {
      "text/plain": [
       "0.978532955362126"
      ]
     },
     "execution_count": 348,
     "metadata": {},
     "output_type": "execute_result"
    }
   ],
   "source": [
    "rf.score(x_train,y_train)"
   ]
  },
  {
   "cell_type": "code",
   "execution_count": 349,
   "metadata": {},
   "outputs": [
    {
     "data": {
      "text/plain": [
       "0.8546929124914135"
      ]
     },
     "execution_count": 349,
     "metadata": {},
     "output_type": "execute_result"
    }
   ],
   "source": [
    "rf.score(x_test,y_test)"
   ]
  },
  {
   "cell_type": "markdown",
   "metadata": {},
   "source": [
    "### Random Search"
   ]
  },
  {
   "cell_type": "code",
   "execution_count": 350,
   "metadata": {},
   "outputs": [],
   "source": [
    "# Number of trees in random forest\n",
    "n_estimators = [int(x) for x in np.linspace(start = 200, stop = 2000, num = 10)]\n",
    "# Number of features to consider at every split\n",
    "max_features = ['auto', 'sqrt']\n",
    "# Maximum number of levels in tree\n",
    "max_depth = [int(x) for x in np.linspace(1, 10, num = 10)]\n",
    "max_depth.append(None)\n",
    "# Minimum number of samples required to split a node\n",
    "min_samples_split = [2, 5, 10]\n",
    "# Minimum number of samples required at each leaf node\n",
    "min_samples_leaf = [1, 2, 4]\n",
    "# Method of selecting samples for training each tree\n",
    "bootstrap = [True, False]\n",
    "# Create the random grid\n",
    "random_grid = {'n_estimators': n_estimators,\n",
    "               'max_features': max_features,\n",
    "               'max_depth': max_depth,\n",
    "               'min_samples_split': min_samples_split,\n",
    "               'min_samples_leaf': min_samples_leaf,\n",
    "               'bootstrap': bootstrap}"
   ]
  },
  {
   "cell_type": "code",
   "execution_count": 351,
   "metadata": {},
   "outputs": [
    {
     "data": {
      "text/plain": [
       "{'bootstrap': [True, False],\n",
       " 'max_depth': [1, 2, 3, 4, 5, 6, 7, 8, 9, 10, None],\n",
       " 'max_features': ['auto', 'sqrt'],\n",
       " 'min_samples_leaf': [1, 2, 4],\n",
       " 'min_samples_split': [2, 5, 10],\n",
       " 'n_estimators': [200, 400, 600, 800, 1000, 1200, 1400, 1600, 1800, 2000]}"
      ]
     },
     "execution_count": 351,
     "metadata": {},
     "output_type": "execute_result"
    }
   ],
   "source": [
    "random_grid"
   ]
  },
  {
   "cell_type": "code",
   "execution_count": 352,
   "metadata": {},
   "outputs": [
    {
     "name": "stdout",
     "output_type": "stream",
     "text": [
      "Fitting 3 folds for each of 100 candidates, totalling 300 fits\n"
     ]
    },
    {
     "name": "stderr",
     "output_type": "stream",
     "text": [
      "[Parallel(n_jobs=-1)]: Done  25 tasks      | elapsed:   25.0s\n",
      "[Parallel(n_jobs=-1)]: Done 146 tasks      | elapsed:  2.3min\n",
      "[Parallel(n_jobs=-1)]: Done 300 out of 300 | elapsed:  5.7min finished\n"
     ]
    },
    {
     "data": {
      "text/plain": [
       "RandomizedSearchCV(cv=3, error_score='raise',\n",
       "          estimator=RandomForestRegressor(bootstrap=True, criterion='mse', max_depth=None,\n",
       "           max_features='auto', max_leaf_nodes=None,\n",
       "           min_impurity_decrease=0.0, min_impurity_split=None,\n",
       "           min_samples_leaf=1, min_samples_split=2,\n",
       "           min_weight_fraction_leaf=0.0, n_estimators=10, n_jobs=1,\n",
       "           oob_score=False, random_state=None, verbose=0, warm_start=False),\n",
       "          fit_params=None, iid=True, n_iter=100, n_jobs=-1,\n",
       "          param_distributions={'n_estimators': [200, 400, 600, 800, 1000, 1200, 1400, 1600, 1800, 2000], 'max_features': ['auto', 'sqrt'], 'max_depth': [1, 2, 3, 4, 5, 6, 7, 8, 9, 10, None], 'min_samples_split': [2, 5, 10], 'min_samples_leaf': [1, 2, 4], 'bootstrap': [True, False]},\n",
       "          pre_dispatch='2*n_jobs', random_state=42, refit=True,\n",
       "          return_train_score='warn', scoring=None, verbose=2)"
      ]
     },
     "execution_count": 352,
     "metadata": {},
     "output_type": "execute_result"
    }
   ],
   "source": [
    "# Use the random grid to search for best hyperparameters\n",
    "# First create the base model to tune\n",
    "rf = RandomForestRegressor()\n",
    "# Random search of parameters, using 3 fold cross validation, \n",
    "# search across 100 different combinations, and use all available cores\n",
    "rf_random = RandomizedSearchCV(estimator = rf, param_distributions = random_grid, n_iter = 100, cv = 3, verbose=2, random_state=42, n_jobs = -1)\n",
    "# Fit the random search model\n",
    "rf_random.fit(x_train, y_train)"
   ]
  },
  {
   "cell_type": "markdown",
   "metadata": {},
   "source": [
    "### Get the best model"
   ]
  },
  {
   "cell_type": "code",
   "execution_count": 353,
   "metadata": {},
   "outputs": [
    {
     "data": {
      "text/plain": [
       "{'bootstrap': False,\n",
       " 'max_depth': None,\n",
       " 'max_features': 'sqrt',\n",
       " 'min_samples_leaf': 1,\n",
       " 'min_samples_split': 2,\n",
       " 'n_estimators': 200}"
      ]
     },
     "execution_count": 353,
     "metadata": {},
     "output_type": "execute_result"
    }
   ],
   "source": [
    "rf_random.best_params_"
   ]
  },
  {
   "cell_type": "code",
   "execution_count": 354,
   "metadata": {},
   "outputs": [],
   "source": [
    "rf_random_best = rf_random.best_estimator_"
   ]
  },
  {
   "cell_type": "code",
   "execution_count": 355,
   "metadata": {},
   "outputs": [
    {
     "name": "stdout",
     "output_type": "stream",
     "text": [
      "Variable: GrLivArea            Importance: 0.07\n",
      "Variable: TotalBsmtSF          Importance: 0.06\n",
      "Variable: 1stFlrSF             Importance: 0.05\n",
      "Variable: GarageCars           Importance: 0.05\n",
      "Variable: GarageArea           Importance: 0.05\n",
      "Variable: YearBuilt            Importance: 0.04\n",
      "Variable: BsmtFinSF1           Importance: 0.03\n",
      "Variable: 2ndFlrSF             Importance: 0.03\n",
      "Variable: FullBath             Importance: 0.03\n",
      "Variable: Fireplaces           Importance: 0.03\n",
      "Variable: ExterQual_TA         Importance: 0.03\n",
      "Variable: LotArea              Importance: 0.02\n",
      "Variable: YearRemodAdd         Importance: 0.02\n",
      "Variable: MasVnrArea           Importance: 0.02\n",
      "Variable: TotRmsAbvGrd         Importance: 0.02\n",
      "Variable: GarageYrBlt          Importance: 0.02\n",
      "Variable: KitchenQual_TA       Importance: 0.02\n",
      "Variable: GarageFinish_Unf     Importance: 0.02\n",
      "Variable: Foundation_PConc     Importance: 0.02\n",
      "Variable: OverallQual_8        Importance: 0.02\n"
     ]
    },
    {
     "data": {
      "image/png": "[encoded data removed]",
      "text/plain": [
       "<Figure size 432x288 with 1 Axes>"
      ]
     },
     "metadata": {
      "needs_background": "light"
     },
     "output_type": "display_data"
    }
   ],
   "source": [
    "create_feature_importance(rf_random_best, x_train)"
   ]
  },
  {
   "cell_type": "markdown",
   "metadata": {},
   "source": [
    "### R2"
   ]
  },
  {
   "cell_type": "code",
   "execution_count": 356,
   "metadata": {},
   "outputs": [
    {
     "data": {
      "text/plain": [
       "0.9999999876984111"
      ]
     },
     "execution_count": 356,
     "metadata": {},
     "output_type": "execute_result"
    }
   ],
   "source": [
    "rf_random_best.score(x_train,y_train)"
   ]
  },
  {
   "cell_type": "code",
   "execution_count": 357,
   "metadata": {},
   "outputs": [
    {
     "data": {
      "text/plain": [
       "0.8594126114763454"
      ]
     },
     "execution_count": 357,
     "metadata": {},
     "output_type": "execute_result"
    }
   ],
   "source": [
    "rf_random_best.score(x_test,y_test)"
   ]
  },
  {
   "cell_type": "markdown",
   "metadata": {},
   "source": [
    "### Submissoin"
   ]
  },
  {
   "cell_type": "code",
   "execution_count": 403,
   "metadata": {},
   "outputs": [],
   "source": [
    "X_wo_truth_new_preds = rf_random_best.predict(X_wo_truth_new_w_dummy[x_train.columns])  \n",
    "data ={\n",
    "    'Id': list(X_wo_truth_orig['Id']),\n",
    "    'SalePrice': list(X_wo_truth_new_preds)\n",
    "}\n",
    "submission = pd.DataFrame(data)\n",
    "submission.to_csv('20210227_submission_2_Random_Forest_Random_Search.csv')"
   ]
  },
  {
   "cell_type": "markdown",
   "metadata": {},
   "source": [
    "## Grid Seach"
   ]
  },
  {
   "cell_type": "code",
   "execution_count": 371,
   "metadata": {},
   "outputs": [
    {
     "name": "stdout",
     "output_type": "stream",
     "text": [
      "Fitting 3 folds for each of 216 candidates, totalling 648 fits\n"
     ]
    },
    {
     "name": "stderr",
     "output_type": "stream",
     "text": [
      "[Parallel(n_jobs=-1)]: Done  25 tasks      | elapsed:    8.1s\n",
      "[Parallel(n_jobs=-1)]: Done 146 tasks      | elapsed:   24.1s\n",
      "[Parallel(n_jobs=-1)]: Done 349 tasks      | elapsed:   55.9s\n",
      "[Parallel(n_jobs=-1)]: Done 632 tasks      | elapsed:  1.6min\n",
      "[Parallel(n_jobs=-1)]: Done 648 out of 648 | elapsed:  1.7min finished\n"
     ]
    },
    {
     "data": {
      "text/plain": [
       "GridSearchCV(cv=3, error_score='raise',\n",
       "       estimator=RandomForestRegressor(bootstrap=True, criterion='mse', max_depth=None,\n",
       "           max_features='auto', max_leaf_nodes=None,\n",
       "           min_impurity_decrease=0.0, min_impurity_split=None,\n",
       "           min_samples_leaf=1, min_samples_split=2,\n",
       "           min_weight_fraction_leaf=0.0, n_estimators=10, n_jobs=1,\n",
       "           oob_score=False, random_state=None, verbose=0, warm_start=False),\n",
       "       fit_params=None, iid=True, n_jobs=-1,\n",
       "       param_grid={'bootstrap': [True, False], 'max_depth': [1, 3, 5, 9], 'max_features': ['sqrt'], 'min_samples_leaf': [1, 2, 4], 'min_samples_split': [2, 5, 10], 'n_estimators': [200, 400, 600]},\n",
       "       pre_dispatch='2*n_jobs', refit=True, return_train_score='warn',\n",
       "       scoring=None, verbose=2)"
      ]
     },
     "execution_count": 371,
     "metadata": {},
     "output_type": "execute_result"
    }
   ],
   "source": [
    "# Create the parameter grid based on the results of random search \n",
    "param_grid = {\n",
    "    'bootstrap': [True,False],\n",
    "    'max_depth': [1, 3, 5, 9],\n",
    "    'max_features': ['sqrt'],\n",
    "    'min_samples_leaf': [1, 2, 4],\n",
    "    'min_samples_split': [2, 5, 10],\n",
    "    'n_estimators': [200, 400, 600]\n",
    "}\n",
    "# Create a based model\n",
    "rf = RandomForestRegressor()\n",
    "# Instantiate the grid search model\n",
    "rf_grid = GridSearchCV(estimator = rf, param_grid = param_grid, cv = 3, n_jobs = -1, verbose = 2)\n",
    "rf_grid.fit(x_train, y_train)"
   ]
  },
  {
   "cell_type": "code",
   "execution_count": 372,
   "metadata": {},
   "outputs": [
    {
     "data": {
      "text/plain": [
       "{'bootstrap': False,\n",
       " 'max_depth': 9,\n",
       " 'max_features': 'sqrt',\n",
       " 'min_samples_leaf': 1,\n",
       " 'min_samples_split': 2,\n",
       " 'n_estimators': 600}"
      ]
     },
     "execution_count": 372,
     "metadata": {},
     "output_type": "execute_result"
    }
   ],
   "source": [
    "rf_grid.best_params_"
   ]
  },
  {
   "cell_type": "code",
   "execution_count": 373,
   "metadata": {},
   "outputs": [],
   "source": [
    "rf_grid_best = rf_grid.best_estimator_"
   ]
  },
  {
   "cell_type": "code",
   "execution_count": 374,
   "metadata": {},
   "outputs": [
    {
     "name": "stdout",
     "output_type": "stream",
     "text": [
      "Variable: GrLivArea            Importance: 0.08\n",
      "Variable: GarageCars           Importance: 0.07\n",
      "Variable: TotalBsmtSF          Importance: 0.05\n",
      "Variable: 1stFlrSF             Importance: 0.05\n",
      "Variable: GarageArea           Importance: 0.05\n",
      "Variable: YearBuilt            Importance: 0.04\n",
      "Variable: ExterQual_TA         Importance: 0.04\n",
      "Variable: BsmtFinSF1           Importance: 0.03\n",
      "Variable: 2ndFlrSF             Importance: 0.03\n",
      "Variable: FullBath             Importance: 0.03\n",
      "Variable: KitchenQual_TA       Importance: 0.03\n",
      "Variable: LotArea              Importance: 0.02\n",
      "Variable: YearRemodAdd         Importance: 0.02\n",
      "Variable: MasVnrArea           Importance: 0.02\n",
      "Variable: TotRmsAbvGrd         Importance: 0.02\n",
      "Variable: Fireplaces           Importance: 0.02\n",
      "Variable: GarageYrBlt          Importance: 0.02\n",
      "Variable: GarageFinish_Unf     Importance: 0.02\n",
      "Variable: ExterQual_Gd         Importance: 0.02\n",
      "Variable: BsmtQual_TA          Importance: 0.02\n"
     ]
    },
    {
     "data": {
      "image/png": "[encoded data removed]",
      "text/plain": [
       "<Figure size 432x288 with 1 Axes>"
      ]
     },
     "metadata": {
      "needs_background": "light"
     },
     "output_type": "display_data"
    }
   ],
   "source": [
    "create_feature_importance(rf_grid_best, x_train)"
   ]
  },
  {
   "cell_type": "code",
   "execution_count": 375,
   "metadata": {},
   "outputs": [
    {
     "data": {
      "text/plain": [
       "0.9739549419341077"
      ]
     },
     "execution_count": 375,
     "metadata": {},
     "output_type": "execute_result"
    }
   ],
   "source": [
    "rf_grid_best.score(x_train,y_train)"
   ]
  },
  {
   "cell_type": "code",
   "execution_count": 376,
   "metadata": {},
   "outputs": [
    {
     "data": {
      "text/plain": [
       "0.8448219912314656"
      ]
     },
     "execution_count": 376,
     "metadata": {},
     "output_type": "execute_result"
    }
   ],
   "source": [
    "rf_grid_best.score(x_test,y_test)"
   ]
  },
  {
   "cell_type": "code",
   "execution_count": 402,
   "metadata": {},
   "outputs": [],
   "source": [
    "X_wo_truth_new_preds = rf_grid_best.predict(X_wo_truth_new_w_dummy[x_train.columns])  \n",
    "data ={\n",
    "    'Id': list(X_wo_truth_orig['Id']),\n",
    "    'SalePrice': list(X_wo_truth_new_preds)\n",
    "}\n",
    "submission = pd.DataFrame(data)\n",
    "submission.to_csv('20210227_submission_3_Random_Forest_Grid_Search.csv')"
   ]
  },
  {
   "cell_type": "markdown",
   "metadata": {},
   "source": [
    "# XGBoost"
   ]
  },
  {
   "cell_type": "code",
   "execution_count": 385,
   "metadata": {},
   "outputs": [],
   "source": [
    "from sklearn import cross_validation, metrics\n",
    "def modelfit(alg, x_train, y_train, x_test, y_test, useTrainCV=True, cv_folds=5, early_stopping_rounds=50):\n",
    "    \n",
    "    if useTrainCV:\n",
    "        xgb_param = alg.get_xgb_params()\n",
    "        print(xgb_param)\n",
    "        xgtrain = xgb.DMatrix(x_train, label=y_train)\n",
    "        cvresult = xgb.cv(xgb_param, xgtrain, num_boost_round=alg.get_params()['n_estimators'], nfold=cv_folds,\n",
    "            metrics='rmse', early_stopping_rounds=early_stopping_rounds)\n",
    "        alg.set_params(n_estimators=cvresult.shape[0])\n",
    "    \n",
    "    #Fit the algorithm on the data\n",
    "    alg.fit(x_train, y_train, eval_metric='rmse')\n",
    "                \n",
    "    #Print model report:\n",
    "    print (\"\\nModel Report\")\n",
    "    print (\"RMSE (Train) : %.4g\" % np.sqrt(MSE(y_train, alg.predict(x_train))))\n",
    "    print (\"R2 (Train): %f\" % alg.score(x_train,y_train))\n",
    "    print (\"RMSE : %.4g\" % np.sqrt(MSE(y_test, alg.predict(x_test))))\n",
    "    print (\"R2 (Test): %f\" % alg.score(x_test,y_test))\n",
    "    \n",
    "    create_feature_importance(alg,x_train)                \n",
    "    #feat_imp = pd.Series(alg.booster().get_fscore()).sort_values(ascending=False)\n",
    "    #feat_imp.plot(kind='bar', title='Feature Importances')\n",
    "    #plt.ylabel('Feature Importance Score')"
   ]
  },
  {
   "cell_type": "code",
   "execution_count": 386,
   "metadata": {},
   "outputs": [
    {
     "name": "stdout",
     "output_type": "stream",
     "text": [
      "{'objective': 'reg:squarederror', 'base_score': None, 'booster': None, 'colsample_bylevel': None, 'colsample_bynode': None, 'colsample_bytree': None, 'gamma': None, 'gpu_id': None, 'interaction_constraints': None, 'learning_rate': None, 'max_delta_step': None, 'max_depth': None, 'min_child_weight': None, 'monotone_constraints': None, 'n_jobs': None, 'num_parallel_tree': None, 'random_state': None, 'reg_alpha': None, 'reg_lambda': None, 'scale_pos_weight': None, 'subsample': None, 'tree_method': None, 'validate_parameters': None, 'verbosity': None}\n",
      "\n",
      "Model Report\n",
      "RMSE (Train) : 1168\n",
      "R2 (Train): 0.999776\n",
      "RMSE : 3.545e+04\n",
      "R2 (Test): 0.814900\n",
      "Variable: GarageCars           Importance: 0.30000001192092896\n",
      "Variable: CentralAir_Y         Importance: 0.1599999964237213\n",
      "Variable: ExterQual_TA         Importance: 0.09000000357627869\n",
      "Variable: GrLivArea            Importance: 0.07000000029802322\n",
      "Variable: MSSubClass_60        Importance: 0.03999999910593033\n",
      "Variable: BsmtQual_TA          Importance: 0.03999999910593033\n",
      "Variable: TotalBsmtSF          Importance: 0.019999999552965164\n",
      "Variable: YearBuilt            Importance: 0.009999999776482582\n",
      "Variable: YearRemodAdd         Importance: 0.009999999776482582\n",
      "Variable: 1stFlrSF             Importance: 0.009999999776482582\n",
      "Variable: Fireplaces           Importance: 0.009999999776482582\n",
      "Variable: GarageArea           Importance: 0.009999999776482582\n",
      "Variable: Exterior1st_BrkComm  Importance: 0.009999999776482582\n",
      "Variable: KitchenQual_Fa       Importance: 0.009999999776482582\n",
      "Variable: MSSubClass_30        Importance: 0.009999999776482582\n",
      "Variable: GarageType_Detchd    Importance: 0.009999999776482582\n",
      "Variable: Functional_Typ       Importance: 0.009999999776482582\n",
      "Variable: Neighborhood_Crawfor Importance: 0.009999999776482582\n",
      "Variable: MSZoning_RL          Importance: 0.009999999776482582\n",
      "Variable: RoofMatl_WdShngl     Importance: 0.009999999776482582\n"
     ]
    },
    {
     "data": {
      "image/png": "[encoded data removed]",
      "text/plain": [
       "<Figure size 432x288 with 1 Axes>"
      ]
     },
     "metadata": {
      "needs_background": "light"
     },
     "output_type": "display_data"
    }
   ],
   "source": [
    "xgb1 = xgb.sklearn.XGBRegressor()\n",
    "modelfit(xgb1, x_train, y_train, x_test, y_test)"
   ]
  },
  {
   "cell_type": "markdown",
   "metadata": {},
   "source": [
    "## Grid Search"
   ]
  },
  {
   "cell_type": "code",
   "execution_count": 388,
   "metadata": {},
   "outputs": [
    {
     "name": "stdout",
     "output_type": "stream",
     "text": [
      "Fitting 5 folds for each of 144 candidates, totalling 720 fits\n"
     ]
    },
    {
     "name": "stderr",
     "output_type": "stream",
     "text": [
      "[Parallel(n_jobs=4)]: Done  33 tasks      | elapsed:   19.5s\n",
      "[Parallel(n_jobs=4)]: Done 154 tasks      | elapsed:  1.6min\n",
      "[Parallel(n_jobs=4)]: Done 357 tasks      | elapsed:  3.9min\n",
      "[Parallel(n_jobs=4)]: Done 640 tasks      | elapsed:  6.9min\n",
      "[Parallel(n_jobs=4)]: Done 720 out of 720 | elapsed:  7.7min finished\n"
     ]
    },
    {
     "data": {
      "text/plain": [
       "GridSearchCV(cv=5, error_score='raise',\n",
       "       estimator=XGBRegressor(base_score=None, booster=None, colsample_bylevel=None,\n",
       "       colsample_bynode=None, colsample_bytree=None, gamma=None,\n",
       "       gpu_id=None, importance_type='gain', interaction_constraints=None,\n",
       "       learning_rate=None, max_delta_step=None, max_depth=None,\n",
       "       min_child_we..._pos_weight=None, subsample=None,\n",
       "       tree_method=None, validate_parameters=None, verbosity=None),\n",
       "       fit_params=None, iid=False, n_jobs=4,\n",
       "       param_grid={'learning_rate': [0.001, 0.01, 0.1], 'n_estimators': [200, 400], 'max_depth': [4, 5, 6], 'min_child_weight': [1], 'reg_alpha': [0, 0.001], 'reg_lambda': [0, 0.001], 'gamma': [0, 1], 'subsample': [0.8], 'colsample_bytree': [0.8], 'objective': ['reg:squarederror']},\n",
       "       pre_dispatch='2*n_jobs', refit=True, return_train_score='warn',\n",
       "       scoring=None, verbose=2)"
      ]
     },
     "execution_count": 388,
     "metadata": {},
     "output_type": "execute_result"
    }
   ],
   "source": [
    "param_test = {\n",
    " 'learning_rate':[0.001,0.01,0.1],\n",
    "  'n_estimators':[200,400],\n",
    " 'max_depth':[4,5,6],\n",
    " 'min_child_weight': [1],\n",
    " 'reg_alpha':[0,0.001],\n",
    " 'reg_lambda':[0,0.001],\n",
    " 'gamma':[0,1],\n",
    " 'subsample':[0.8],\n",
    " 'colsample_bytree':[0.8],\n",
    " 'objective':['reg:squarederror']\n",
    "}\n",
    "xgb_grid = GridSearchCV(estimator = xgb.sklearn.XGBRegressor(), param_grid = param_test,n_jobs=4,iid=False, cv=5,verbose=2)\n",
    "xgb_grid.fit(x_train,y_train)"
   ]
  },
  {
   "cell_type": "code",
   "execution_count": 389,
   "metadata": {},
   "outputs": [
    {
     "data": {
      "text/plain": [
       "({'colsample_bytree': 0.8,\n",
       "  'gamma': 0,\n",
       "  'learning_rate': 0.1,\n",
       "  'max_depth': 4,\n",
       "  'min_child_weight': 1,\n",
       "  'n_estimators': 200,\n",
       "  'objective': 'reg:squarederror',\n",
       "  'reg_alpha': 0,\n",
       "  'reg_lambda': 0,\n",
       "  'subsample': 0.8},)"
      ]
     },
     "execution_count": 389,
     "metadata": {},
     "output_type": "execute_result"
    }
   ],
   "source": [
    "xgb_grid.best_params_, "
   ]
  },
  {
   "cell_type": "code",
   "execution_count": 390,
   "metadata": {},
   "outputs": [
    {
     "data": {
      "text/plain": [
       "0.8542001374972413"
      ]
     },
     "execution_count": 390,
     "metadata": {},
     "output_type": "execute_result"
    }
   ],
   "source": [
    "xgb_grid.best_score_"
   ]
  },
  {
   "cell_type": "code",
   "execution_count": 391,
   "metadata": {},
   "outputs": [],
   "source": [
    "xgb_grid_best = xgb_grid.best_estimator_"
   ]
  },
  {
   "cell_type": "code",
   "execution_count": 392,
   "metadata": {},
   "outputs": [
    {
     "name": "stdout",
     "output_type": "stream",
     "text": [
      "{'objective': 'reg:squarederror', 'base_score': 0.5, 'booster': 'gbtree', 'colsample_bylevel': 1, 'colsample_bynode': 1, 'colsample_bytree': 0.8, 'gamma': 0, 'gpu_id': -1, 'interaction_constraints': '', 'learning_rate': 0.1, 'max_delta_step': 0, 'max_depth': 4, 'min_child_weight': 1, 'monotone_constraints': '()', 'n_jobs': 8, 'num_parallel_tree': 1, 'random_state': 0, 'reg_alpha': 0, 'reg_lambda': 0, 'scale_pos_weight': 1, 'subsample': 0.8, 'tree_method': 'exact', 'validate_parameters': 1, 'verbosity': None}\n",
      "\n",
      "Model Report\n",
      "RMSE (Train) : 5830\n",
      "R2 (Train): 0.994427\n",
      "RMSE : 3.275e+04\n",
      "R2 (Test): 0.842019\n",
      "Variable: GarageCars           Importance: 0.23000000417232513\n",
      "Variable: ExterQual_TA         Importance: 0.14000000059604645\n",
      "Variable: BsmtQual_TA          Importance: 0.10999999940395355\n",
      "Variable: GrLivArea            Importance: 0.03999999910593033\n",
      "Variable: GarageFinish_Unf     Importance: 0.03999999910593033\n",
      "Variable: OverallQual_8        Importance: 0.03999999910593033\n",
      "Variable: KitchenQual_TA       Importance: 0.029999999329447746\n",
      "Variable: BsmtQual_Gd          Importance: 0.029999999329447746\n",
      "Variable: TotalBsmtSF          Importance: 0.019999999552965164\n",
      "Variable: Fireplaces           Importance: 0.019999999552965164\n",
      "Variable: YearBuilt            Importance: 0.009999999776482582\n",
      "Variable: YearRemodAdd         Importance: 0.009999999776482582\n",
      "Variable: MasVnrArea           Importance: 0.009999999776482582\n",
      "Variable: BsmtFinSF1           Importance: 0.009999999776482582\n",
      "Variable: 1stFlrSF             Importance: 0.009999999776482582\n",
      "Variable: 2ndFlrSF             Importance: 0.009999999776482582\n",
      "Variable: KitchenAbvGr         Importance: 0.009999999776482582\n",
      "Variable: TotRmsAbvGrd         Importance: 0.009999999776482582\n",
      "Variable: BsmtFinType1_GLQ     Importance: 0.009999999776482582\n",
      "Variable: CentralAir_Y         Importance: 0.009999999776482582\n"
     ]
    },
    {
     "data": {
      "image/png": "[encoded data removed]",
      "text/plain": [
       "<Figure size 432x288 with 1 Axes>"
      ]
     },
     "metadata": {
      "needs_background": "light"
     },
     "output_type": "display_data"
    }
   ],
   "source": [
    "modelfit(xgb_grid_best, x_train, y_train, x_test, y_test)"
   ]
  },
  {
   "cell_type": "code",
   "execution_count": 393,
   "metadata": {},
   "outputs": [
    {
     "data": {
      "text/plain": [
       "0.994426939601244"
      ]
     },
     "execution_count": 393,
     "metadata": {},
     "output_type": "execute_result"
    }
   ],
   "source": [
    "xgb_grid_best.score(x_train,y_train)"
   ]
  },
  {
   "cell_type": "code",
   "execution_count": 394,
   "metadata": {},
   "outputs": [
    {
     "data": {
      "text/plain": [
       "0.8420190370264433"
      ]
     },
     "execution_count": 394,
     "metadata": {},
     "output_type": "execute_result"
    }
   ],
   "source": [
    "xgb_grid_best.score(x_test,y_test)"
   ]
  },
  {
   "cell_type": "code",
   "execution_count": 401,
   "metadata": {},
   "outputs": [],
   "source": [
    "X_wo_truth_new_preds = xgb_grid_best.predict(X_wo_truth_new_w_dummy[x_train.columns])  \n",
    "data ={\n",
    "    'Id': list(X_wo_truth_orig['Id']),\n",
    "    'SalePrice': list(X_wo_truth_new_preds)\n",
    "}\n",
    "submission = pd.DataFrame(data)\n",
    "submission.to_csv('20210227_submission_4_XGBoost_Grid_Search.csv')"
   ]
  },
  {
   "cell_type": "markdown",
   "metadata": {},
   "source": [
    "### Random Search"
   ]
  },
  {
   "cell_type": "code",
   "execution_count": 410,
   "metadata": {},
   "outputs": [
    {
     "name": "stdout",
     "output_type": "stream",
     "text": [
      "Fitting 3 folds for each of 100 candidates, totalling 300 fits\n"
     ]
    },
    {
     "name": "stderr",
     "output_type": "stream",
     "text": [
      "[Parallel(n_jobs=-1)]: Done  25 tasks      | elapsed:   52.4s\n",
      "[Parallel(n_jobs=-1)]: Done 146 tasks      | elapsed:  4.3min\n",
      "[Parallel(n_jobs=-1)]: Done 300 out of 300 | elapsed:  8.8min finished\n"
     ]
    },
    {
     "data": {
      "text/plain": [
       "RandomizedSearchCV(cv=3, error_score='raise',\n",
       "          estimator=XGBRegressor(base_score=None, booster=None, colsample_bylevel=None,\n",
       "       colsample_bynode=None, colsample_bytree=None, gamma=None,\n",
       "       gpu_id=None, importance_type='gain', interaction_constraints=None,\n",
       "       learning_rate=None, max_delta_step=None, max_depth=None,\n",
       "       min_child_we..._pos_weight=None, subsample=None,\n",
       "       tree_method=None, validate_parameters=None, verbosity=None),\n",
       "          fit_params=None, iid=True, n_iter=100, n_jobs=-1,\n",
       "          param_distributions={'learning_rate': [0.0001, 0.0005, 0.001, 0.01, 0.1, 0.2], 'n_estimators': [400, 500, 600, 700, 800, 900, 1000, 1500], 'max_depth': [4, 5, 6, 7, 8, 9, 10], 'min_child_weight': [1], 'reg_alpha': [0, 0.001, 0.01, 0.1, 1, 5, 10, 100], 'reg_lambda': [0, 0.001, 0.01, 0.1, 1, 5, 10, 100], 'gamma': [0, 0.001, 0.01, 0.1, 1, 5, 10, 100], 'subsample': [0.8], 'colsample_bytree': [0.8], 'objective': ['reg:squarederror']},\n",
       "          pre_dispatch='2*n_jobs', random_state=42, refit=True,\n",
       "          return_train_score='warn', scoring=None, verbose=2)"
      ]
     },
     "execution_count": 410,
     "metadata": {},
     "output_type": "execute_result"
    }
   ],
   "source": [
    "param_test = {\n",
    " 'learning_rate':[0.0001, 0.0005, 0.001,0.01,0.1,0.2],\n",
    "  'n_estimators':[400,500,600,700,800,900,1000,1500],\n",
    " 'max_depth':[4,5,6,7,8,9,10],\n",
    " 'min_child_weight': [1],\n",
    " 'reg_alpha':[0, 0.001, 0.01, 0.1, 1, 5, 10, 100],\n",
    " 'reg_lambda':[0, 0.001, 0.01, 0.1, 1, 5, 10, 100],\n",
    " 'gamma':[0, 0.001, 0.01, 0.1, 1, 5, 10, 100],\n",
    " 'subsample':[0.8],\n",
    " 'colsample_bytree':[0.8],\n",
    " 'objective':['reg:squarederror']\n",
    "}\n",
    "xgb_random = RandomizedSearchCV(estimator = xgb.sklearn.XGBRegressor(), param_distributions = param_test, n_iter = 100, cv = 3, verbose=2, random_state=42, n_jobs = -1)\n",
    "xgb_random.fit(x_train,y_train)"
   ]
  },
  {
   "cell_type": "code",
   "execution_count": 411,
   "metadata": {},
   "outputs": [
    {
     "name": "stderr",
     "output_type": "stream",
     "text": [
      "C:\\Anaconda3\\lib\\site-packages\\sklearn\\model_selection\\_search.py:761: DeprecationWarning: The grid_scores_ attribute was deprecated in version 0.18 in favor of the more elaborate cv_results_ attribute. The grid_scores_ attribute will not be available from 0.20\n",
      "  DeprecationWarning)\n"
     ]
    },
    {
     "data": {
      "text/plain": [
       "[mean: 0.85172, std: 0.03090, params: {'subsample': 0.8, 'reg_lambda': 10, 'reg_alpha': 1, 'objective': 'reg:squarederror', 'n_estimators': 500, 'min_child_weight': 1, 'max_depth': 4, 'learning_rate': 0.1, 'gamma': 5, 'colsample_bytree': 0.8},\n",
       " mean: 0.83597, std: 0.05626, params: {'subsample': 0.8, 'reg_lambda': 0.1, 'reg_alpha': 10, 'objective': 'reg:squarederror', 'n_estimators': 1000, 'min_child_weight': 1, 'max_depth': 10, 'learning_rate': 0.1, 'gamma': 10, 'colsample_bytree': 0.8},\n",
       " mean: -4.47262, std: 0.35108, params: {'subsample': 0.8, 'reg_lambda': 1, 'reg_alpha': 0.1, 'objective': 'reg:squarederror', 'n_estimators': 900, 'min_child_weight': 1, 'max_depth': 9, 'learning_rate': 0.0001, 'gamma': 10, 'colsample_bytree': 0.8},\n",
       " mean: 0.83400, std: 0.02691, params: {'subsample': 0.8, 'reg_lambda': 10, 'reg_alpha': 0.001, 'objective': 'reg:squarederror', 'n_estimators': 800, 'min_child_weight': 1, 'max_depth': 10, 'learning_rate': 0.1, 'gamma': 1, 'colsample_bytree': 0.8},\n",
       " mean: 0.70240, std: 0.05752, params: {'subsample': 0.8, 'reg_lambda': 100, 'reg_alpha': 0, 'objective': 'reg:squarederror', 'n_estimators': 500, 'min_child_weight': 1, 'max_depth': 7, 'learning_rate': 0.01, 'gamma': 5, 'colsample_bytree': 0.8},\n",
       " mean: -4.78460, std: 0.38023, params: {'subsample': 0.8, 'reg_lambda': 1, 'reg_alpha': 100, 'objective': 'reg:squarederror', 'n_estimators': 600, 'min_child_weight': 1, 'max_depth': 9, 'learning_rate': 0.0001, 'gamma': 5, 'colsample_bytree': 0.8},\n",
       " mean: 0.83705, std: 0.03283, params: {'subsample': 0.8, 'reg_lambda': 10, 'reg_alpha': 1, 'objective': 'reg:squarederror', 'n_estimators': 500, 'min_child_weight': 1, 'max_depth': 6, 'learning_rate': 0.01, 'gamma': 0.01, 'colsample_bytree': 0.8},\n",
       " mean: -1.50266, std: 0.10643, params: {'subsample': 0.8, 'reg_lambda': 0.001, 'reg_alpha': 100, 'objective': 'reg:squarederror', 'n_estimators': 500, 'min_child_weight': 1, 'max_depth': 6, 'learning_rate': 0.001, 'gamma': 10, 'colsample_bytree': 0.8},\n",
       " mean: 0.83892, std: 0.04220, params: {'subsample': 0.8, 'reg_lambda': 0.01, 'reg_alpha': 0.001, 'objective': 'reg:squarederror', 'n_estimators': 900, 'min_child_weight': 1, 'max_depth': 10, 'learning_rate': 0.1, 'gamma': 100, 'colsample_bytree': 0.8},\n",
       " mean: -3.84650, std: 0.30024, params: {'subsample': 0.8, 'reg_lambda': 0.01, 'reg_alpha': 0.001, 'objective': 'reg:squarederror', 'n_estimators': 1500, 'min_child_weight': 1, 'max_depth': 6, 'learning_rate': 0.0001, 'gamma': 1, 'colsample_bytree': 0.8},\n",
       " mean: -3.57124, std: 0.19954, params: {'subsample': 0.8, 'reg_lambda': 100, 'reg_alpha': 0.01, 'objective': 'reg:squarederror', 'n_estimators': 500, 'min_child_weight': 1, 'max_depth': 7, 'learning_rate': 0.0005, 'gamma': 5, 'colsample_bytree': 0.8},\n",
       " mean: 0.82344, std: 0.02494, params: {'subsample': 0.8, 'reg_lambda': 1, 'reg_alpha': 10, 'objective': 'reg:squarederror', 'n_estimators': 900, 'min_child_weight': 1, 'max_depth': 5, 'learning_rate': 0.2, 'gamma': 5, 'colsample_bytree': 0.8},\n",
       " mean: 0.84484, std: 0.02782, params: {'subsample': 0.8, 'reg_lambda': 100, 'reg_alpha': 0.01, 'objective': 'reg:squarederror', 'n_estimators': 600, 'min_child_weight': 1, 'max_depth': 7, 'learning_rate': 0.1, 'gamma': 0, 'colsample_bytree': 0.8},\n",
       " mean: 0.82050, std: 0.03990, params: {'subsample': 0.8, 'reg_lambda': 0.01, 'reg_alpha': 0, 'objective': 'reg:squarederror', 'n_estimators': 600, 'min_child_weight': 1, 'max_depth': 7, 'learning_rate': 0.2, 'gamma': 0.001, 'colsample_bytree': 0.8},\n",
       " mean: -4.81105, std: 0.37445, params: {'subsample': 0.8, 'reg_lambda': 5, 'reg_alpha': 0.01, 'objective': 'reg:squarederror', 'n_estimators': 600, 'min_child_weight': 1, 'max_depth': 9, 'learning_rate': 0.0001, 'gamma': 0.1, 'colsample_bytree': 0.8},\n",
       " mean: -4.57398, std: 0.35989, params: {'subsample': 0.8, 'reg_lambda': 1, 'reg_alpha': 10, 'objective': 'reg:squarederror', 'n_estimators': 800, 'min_child_weight': 1, 'max_depth': 4, 'learning_rate': 0.0001, 'gamma': 0.1, 'colsample_bytree': 0.8},\n",
       " mean: -4.54505, std: 0.36134, params: {'subsample': 0.8, 'reg_lambda': 0.001, 'reg_alpha': 0, 'objective': 'reg:squarederror', 'n_estimators': 800, 'min_child_weight': 1, 'max_depth': 5, 'learning_rate': 0.0001, 'gamma': 0, 'colsample_bytree': 0.8},\n",
       " mean: 0.84201, std: 0.02467, params: {'subsample': 0.8, 'reg_lambda': 100, 'reg_alpha': 0.01, 'objective': 'reg:squarederror', 'n_estimators': 900, 'min_child_weight': 1, 'max_depth': 8, 'learning_rate': 0.1, 'gamma': 0.01, 'colsample_bytree': 0.8},\n",
       " mean: -4.41382, std: 0.33309, params: {'subsample': 0.8, 'reg_lambda': 5, 'reg_alpha': 0.1, 'objective': 'reg:squarederror', 'n_estimators': 1000, 'min_child_weight': 1, 'max_depth': 4, 'learning_rate': 0.0001, 'gamma': 0.1, 'colsample_bytree': 0.8},\n",
       " mean: -3.27924, std: 0.16546, params: {'subsample': 0.8, 'reg_lambda': 100, 'reg_alpha': 100, 'objective': 'reg:squarederror', 'n_estimators': 600, 'min_child_weight': 1, 'max_depth': 7, 'learning_rate': 0.0005, 'gamma': 0, 'colsample_bytree': 0.8},\n",
       " mean: 0.83439, std: 0.05366, params: {'subsample': 0.8, 'reg_lambda': 0.1, 'reg_alpha': 100, 'objective': 'reg:squarederror', 'n_estimators': 1000, 'min_child_weight': 1, 'max_depth': 9, 'learning_rate': 0.1, 'gamma': 1, 'colsample_bytree': 0.8},\n",
       " mean: 0.82195, std: 0.03994, params: {'subsample': 0.8, 'reg_lambda': 0.001, 'reg_alpha': 100, 'objective': 'reg:squarederror', 'n_estimators': 800, 'min_child_weight': 1, 'max_depth': 9, 'learning_rate': 0.2, 'gamma': 0.1, 'colsample_bytree': 0.8},\n",
       " mean: -2.22238, std: 0.12432, params: {'subsample': 0.8, 'reg_lambda': 5, 'reg_alpha': 0.01, 'objective': 'reg:squarederror', 'n_estimators': 400, 'min_child_weight': 1, 'max_depth': 8, 'learning_rate': 0.001, 'gamma': 100, 'colsample_bytree': 0.8},\n",
       " mean: -4.98351, std: 0.40101, params: {'subsample': 0.8, 'reg_lambda': 0, 'reg_alpha': 10, 'objective': 'reg:squarederror', 'n_estimators': 400, 'min_child_weight': 1, 'max_depth': 7, 'learning_rate': 0.0001, 'gamma': 10, 'colsample_bytree': 0.8},\n",
       " mean: -3.40001, std: 0.26120, params: {'subsample': 0.8, 'reg_lambda': 0.01, 'reg_alpha': 100, 'objective': 'reg:squarederror', 'n_estimators': 400, 'min_child_weight': 1, 'max_depth': 9, 'learning_rate': 0.0005, 'gamma': 100, 'colsample_bytree': 0.8},\n",
       " mean: 0.82728, std: 0.01563, params: {'subsample': 0.8, 'reg_lambda': 10, 'reg_alpha': 100, 'objective': 'reg:squarederror', 'n_estimators': 1500, 'min_child_weight': 1, 'max_depth': 7, 'learning_rate': 0.2, 'gamma': 0.1, 'colsample_bytree': 0.8},\n",
       " mean: 0.85326, std: 0.03675, params: {'subsample': 0.8, 'reg_lambda': 0.001, 'reg_alpha': 5, 'objective': 'reg:squarederror', 'n_estimators': 600, 'min_child_weight': 1, 'max_depth': 5, 'learning_rate': 0.1, 'gamma': 5, 'colsample_bytree': 0.8},\n",
       " mean: 0.83422, std: 0.02360, params: {'subsample': 0.8, 'reg_lambda': 100, 'reg_alpha': 100, 'objective': 'reg:squarederror', 'n_estimators': 1500, 'min_child_weight': 1, 'max_depth': 8, 'learning_rate': 0.2, 'gamma': 10, 'colsample_bytree': 0.8},\n",
       " mean: -3.85931, std: 0.30089, params: {'subsample': 0.8, 'reg_lambda': 0.1, 'reg_alpha': 0.1, 'objective': 'reg:squarederror', 'n_estimators': 1500, 'min_child_weight': 1, 'max_depth': 6, 'learning_rate': 0.0001, 'gamma': 10, 'colsample_bytree': 0.8},\n",
       " mean: -4.76608, std: 0.38160, params: {'subsample': 0.8, 'reg_lambda': 0.1, 'reg_alpha': 100, 'objective': 'reg:squarederror', 'n_estimators': 600, 'min_child_weight': 1, 'max_depth': 9, 'learning_rate': 0.0001, 'gamma': 0, 'colsample_bytree': 0.8},\n",
       " mean: 0.84146, std: 0.02648, params: {'subsample': 0.8, 'reg_lambda': 100, 'reg_alpha': 0.001, 'objective': 'reg:squarederror', 'n_estimators': 1500, 'min_child_weight': 1, 'max_depth': 7, 'learning_rate': 0.1, 'gamma': 5, 'colsample_bytree': 0.8},\n",
       " mean: -4.81105, std: 0.37445, params: {'subsample': 0.8, 'reg_lambda': 5, 'reg_alpha': 100, 'objective': 'reg:squarederror', 'n_estimators': 600, 'min_child_weight': 1, 'max_depth': 6, 'learning_rate': 0.0001, 'gamma': 0.1, 'colsample_bytree': 0.8},\n",
       " mean: -4.41407, std: 0.33339, params: {'subsample': 0.8, 'reg_lambda': 5, 'reg_alpha': 100, 'objective': 'reg:squarederror', 'n_estimators': 1000, 'min_child_weight': 1, 'max_depth': 5, 'learning_rate': 0.0001, 'gamma': 10, 'colsample_bytree': 0.8},\n",
       " mean: 0.83130, std: 0.02769, params: {'subsample': 0.8, 'reg_lambda': 10, 'reg_alpha': 5, 'objective': 'reg:squarederror', 'n_estimators': 600, 'min_child_weight': 1, 'max_depth': 8, 'learning_rate': 0.2, 'gamma': 0.1, 'colsample_bytree': 0.8},\n",
       " mean: 0.84989, std: 0.02089, params: {'subsample': 0.8, 'reg_lambda': 5, 'reg_alpha': 100, 'objective': 'reg:squarederror', 'n_estimators': 1000, 'min_child_weight': 1, 'max_depth': 7, 'learning_rate': 0.1, 'gamma': 100, 'colsample_bytree': 0.8},\n",
       " mean: 0.84902, std: 0.03888, params: {'subsample': 0.8, 'reg_lambda': 0.01, 'reg_alpha': 10, 'objective': 'reg:squarederror', 'n_estimators': 400, 'min_child_weight': 1, 'max_depth': 6, 'learning_rate': 0.01, 'gamma': 5, 'colsample_bytree': 0.8},\n",
       " mean: -4.44568, std: 0.35330, params: {'subsample': 0.8, 'reg_lambda': 0.1, 'reg_alpha': 5, 'objective': 'reg:squarederror', 'n_estimators': 900, 'min_child_weight': 1, 'max_depth': 9, 'learning_rate': 0.0001, 'gamma': 0.1, 'colsample_bytree': 0.8},\n",
       " mean: 0.81303, std: 0.03796, params: {'subsample': 0.8, 'reg_lambda': 10, 'reg_alpha': 10, 'objective': 'reg:squarederror', 'n_estimators': 400, 'min_child_weight': 1, 'max_depth': 10, 'learning_rate': 0.01, 'gamma': 0.01, 'colsample_bytree': 0.8},\n",
       " mean: -4.65708, std: 0.37181, params: {'subsample': 0.8, 'reg_lambda': 0.1, 'reg_alpha': 10, 'objective': 'reg:squarederror', 'n_estimators': 700, 'min_child_weight': 1, 'max_depth': 8, 'learning_rate': 0.0001, 'gamma': 0.1, 'colsample_bytree': 0.8},\n",
       " mean: -1.35031, std: 0.03648, params: {'subsample': 0.8, 'reg_lambda': 100, 'reg_alpha': 100, 'objective': 'reg:squarederror', 'n_estimators': 800, 'min_child_weight': 1, 'max_depth': 9, 'learning_rate': 0.001, 'gamma': 0.001, 'colsample_bytree': 0.8},\n",
       " mean: 0.51774, std: 0.02717, params: {'subsample': 0.8, 'reg_lambda': 0, 'reg_alpha': 100, 'objective': 'reg:squarederror', 'n_estimators': 1500, 'min_child_weight': 1, 'max_depth': 6, 'learning_rate': 0.001, 'gamma': 5, 'colsample_bytree': 0.8},\n",
       " mean: 0.85575, std: 0.04239, params: {'subsample': 0.8, 'reg_lambda': 0.01, 'reg_alpha': 0, 'objective': 'reg:squarederror', 'n_estimators': 600, 'min_child_weight': 1, 'max_depth': 5, 'learning_rate': 0.01, 'gamma': 0, 'colsample_bytree': 0.8},\n",
       " mean: -0.69175, std: 0.03822, params: {'subsample': 0.8, 'reg_lambda': 1, 'reg_alpha': 1, 'objective': 'reg:squarederror', 'n_estimators': 1500, 'min_child_weight': 1, 'max_depth': 5, 'learning_rate': 0.0005, 'gamma': 0.1, 'colsample_bytree': 0.8},\n",
       " mean: -2.04849, std: 0.14690, params: {'subsample': 0.8, 'reg_lambda': 0.01, 'reg_alpha': 10, 'objective': 'reg:squarederror', 'n_estimators': 800, 'min_child_weight': 1, 'max_depth': 4, 'learning_rate': 0.0005, 'gamma': 0, 'colsample_bytree': 0.8},\n",
       " mean: 0.83116, std: 0.02761, params: {'subsample': 0.8, 'reg_lambda': 10, 'reg_alpha': 0, 'objective': 'reg:squarederror', 'n_estimators': 600, 'min_child_weight': 1, 'max_depth': 8, 'learning_rate': 0.2, 'gamma': 0.001, 'colsample_bytree': 0.8},\n",
       " mean: -4.54114, std: 0.36110, params: {'subsample': 0.8, 'reg_lambda': 0.001, 'reg_alpha': 0.01, 'objective': 'reg:squarederror', 'n_estimators': 800, 'min_child_weight': 1, 'max_depth': 6, 'learning_rate': 0.0001, 'gamma': 1, 'colsample_bytree': 0.8},\n",
       " mean: 0.84433, std: 0.05513, params: {'subsample': 0.8, 'reg_lambda': 0.1, 'reg_alpha': 0, 'objective': 'reg:squarederror', 'n_estimators': 1000, 'min_child_weight': 1, 'max_depth': 7, 'learning_rate': 0.01, 'gamma': 10, 'colsample_bytree': 0.8},\n",
       " mean: -1.49474, std: 0.10380, params: {'subsample': 0.8, 'reg_lambda': 0, 'reg_alpha': 0.1, 'objective': 'reg:squarederror', 'n_estimators': 500, 'min_child_weight': 1, 'max_depth': 7, 'learning_rate': 0.001, 'gamma': 0, 'colsample_bytree': 0.8},\n",
       " mean: -1.75944, std: 0.12610, params: {'subsample': 0.8, 'reg_lambda': 0.001, 'reg_alpha': 0.1, 'objective': 'reg:squarederror', 'n_estimators': 900, 'min_child_weight': 1, 'max_depth': 5, 'learning_rate': 0.0005, 'gamma': 100, 'colsample_bytree': 0.8},\n",
       " mean: -3.46967, std: 0.25955, params: {'subsample': 0.8, 'reg_lambda': 1, 'reg_alpha': 10, 'objective': 'reg:squarederror', 'n_estimators': 400, 'min_child_weight': 1, 'max_depth': 4, 'learning_rate': 0.0005, 'gamma': 0.1, 'colsample_bytree': 0.8},\n",
       " mean: 0.83586, std: 0.05674, params: {'subsample': 0.8, 'reg_lambda': 0.1, 'reg_alpha': 0.01, 'objective': 'reg:squarederror', 'n_estimators': 900, 'min_child_weight': 1, 'max_depth': 8, 'learning_rate': 0.1, 'gamma': 5, 'colsample_bytree': 0.8},\n",
       " mean: 0.85306, std: 0.03045, params: {'subsample': 0.8, 'reg_lambda': 10, 'reg_alpha': 5, 'objective': 'reg:squarederror', 'n_estimators': 900, 'min_child_weight': 1, 'max_depth': 7, 'learning_rate': 0.01, 'gamma': 5, 'colsample_bytree': 0.8},\n",
       " mean: -1.54773, std: 0.10807, params: {'subsample': 0.8, 'reg_lambda': 0.1, 'reg_alpha': 100, 'objective': 'reg:squarederror', 'n_estimators': 1000, 'min_child_weight': 1, 'max_depth': 4, 'learning_rate': 0.0005, 'gamma': 100, 'colsample_bytree': 0.8},\n",
       " mean: 0.83707, std: 0.02618, params: {'subsample': 0.8, 'reg_lambda': 10, 'reg_alpha': 0, 'objective': 'reg:squarederror', 'n_estimators': 1500, 'min_child_weight': 1, 'max_depth': 8, 'learning_rate': 0.1, 'gamma': 5, 'colsample_bytree': 0.8},\n",
       " mean: -1.52916, std: 0.10895, params: {'subsample': 0.8, 'reg_lambda': 0.1, 'reg_alpha': 5, 'objective': 'reg:squarederror', 'n_estimators': 1000, 'min_child_weight': 1, 'max_depth': 7, 'learning_rate': 0.0005, 'gamma': 0.01, 'colsample_bytree': 0.8},\n",
       " mean: 0.84177, std: 0.02608, params: {'subsample': 0.8, 'reg_lambda': 100, 'reg_alpha': 0, 'objective': 'reg:squarederror', 'n_estimators': 800, 'min_child_weight': 1, 'max_depth': 9, 'learning_rate': 0.1, 'gamma': 0, 'colsample_bytree': 0.8},\n",
       " mean: -4.44251, std: 0.32688, params: {'subsample': 0.8, 'reg_lambda': 10, 'reg_alpha': 5, 'objective': 'reg:squarederror', 'n_estimators': 1000, 'min_child_weight': 1, 'max_depth': 9, 'learning_rate': 0.0001, 'gamma': 5, 'colsample_bytree': 0.8},\n",
       " mean: 0.81717, std: 0.04142, params: {'subsample': 0.8, 'reg_lambda': 0.01, 'reg_alpha': 1, 'objective': 'reg:squarederror', 'n_estimators': 400, 'min_child_weight': 1, 'max_depth': 9, 'learning_rate': 0.2, 'gamma': 1, 'colsample_bytree': 0.8},\n",
       " mean: 0.84278, std: 0.02250, params: {'subsample': 0.8, 'reg_lambda': 5, 'reg_alpha': 0.001, 'objective': 'reg:squarederror', 'n_estimators': 700, 'min_child_weight': 1, 'max_depth': 6, 'learning_rate': 0.1, 'gamma': 0.1, 'colsample_bytree': 0.8},\n",
       " mean: 0.84832, std: 0.04361, params: {'subsample': 0.8, 'reg_lambda': 0, 'reg_alpha': 0.01, 'objective': 'reg:squarederror', 'n_estimators': 500, 'min_child_weight': 1, 'max_depth': 4, 'learning_rate': 0.1, 'gamma': 0.001, 'colsample_bytree': 0.8},\n",
       " mean: 0.82289, std: 0.03708, params: {'subsample': 0.8, 'reg_lambda': 0.001, 'reg_alpha': 0, 'objective': 'reg:squarederror', 'n_estimators': 400, 'min_child_weight': 1, 'max_depth': 7, 'learning_rate': 0.2, 'gamma': 0, 'colsample_bytree': 0.8},\n",
       " mean: 0.85219, std: 0.03913, params: {'subsample': 0.8, 'reg_lambda': 0.001, 'reg_alpha': 5, 'objective': 'reg:squarederror', 'n_estimators': 500, 'min_child_weight': 1, 'max_depth': 4, 'learning_rate': 0.1, 'gamma': 0.1, 'colsample_bytree': 0.8},\n",
       " mean: -0.48176, std: 0.03585, params: {'subsample': 0.8, 'reg_lambda': 0.1, 'reg_alpha': 0, 'objective': 'reg:squarederror', 'n_estimators': 800, 'min_child_weight': 1, 'max_depth': 9, 'learning_rate': 0.001, 'gamma': 0.01, 'colsample_bytree': 0.8},\n",
       " mean: 0.81660, std: 0.01749, params: {'subsample': 0.8, 'reg_lambda': 5, 'reg_alpha': 10, 'objective': 'reg:squarederror', 'n_estimators': 800, 'min_child_weight': 1, 'max_depth': 10, 'learning_rate': 0.2, 'gamma': 100, 'colsample_bytree': 0.8},\n",
       " mean: 0.45510, std: 0.03125, params: {'subsample': 0.8, 'reg_lambda': 1, 'reg_alpha': 0.1, 'objective': 'reg:squarederror', 'n_estimators': 1500, 'min_child_weight': 1, 'max_depth': 8, 'learning_rate': 0.001, 'gamma': 0, 'colsample_bytree': 0.8},\n",
       " mean: 0.85486, std: 0.03726, params: {'subsample': 0.8, 'reg_lambda': 0.001, 'reg_alpha': 0.001, 'objective': 'reg:squarederror', 'n_estimators': 700, 'min_child_weight': 1, 'max_depth': 6, 'learning_rate': 0.1, 'gamma': 0.001, 'colsample_bytree': 0.8},\n",
       " mean: 0.84188, std: 0.05538, params: {'subsample': 0.8, 'reg_lambda': 0.1, 'reg_alpha': 1, 'objective': 'reg:squarederror', 'n_estimators': 1500, 'min_child_weight': 1, 'max_depth': 8, 'learning_rate': 0.01, 'gamma': 1, 'colsample_bytree': 0.8},\n",
       " mean: 0.85123, std: 0.02970, params: {'subsample': 0.8, 'reg_lambda': 10, 'reg_alpha': 0.1, 'objective': 'reg:squarederror', 'n_estimators': 900, 'min_child_weight': 1, 'max_depth': 8, 'learning_rate': 0.01, 'gamma': 100, 'colsample_bytree': 0.8},\n",
       " mean: 0.85372, std: 0.02972, params: {'subsample': 0.8, 'reg_lambda': 10, 'reg_alpha': 0.001, 'objective': 'reg:squarederror', 'n_estimators': 800, 'min_child_weight': 1, 'max_depth': 5, 'learning_rate': 0.01, 'gamma': 0, 'colsample_bytree': 0.8},\n",
       " mean: 0.82726, std: 0.03201, params: {'subsample': 0.8, 'reg_lambda': 5, 'reg_alpha': 0.001, 'objective': 'reg:squarederror', 'n_estimators': 1500, 'min_child_weight': 1, 'max_depth': 5, 'learning_rate': 0.2, 'gamma': 0.001, 'colsample_bytree': 0.8},\n",
       " mean: -2.33733, std: 0.17242, params: {'subsample': 0.8, 'reg_lambda': 0.1, 'reg_alpha': 100, 'objective': 'reg:squarederror', 'n_estimators': 700, 'min_child_weight': 1, 'max_depth': 7, 'learning_rate': 0.0005, 'gamma': 1, 'colsample_bytree': 0.8},\n",
       " mean: -3.85065, std: 0.30041, params: {'subsample': 0.8, 'reg_lambda': 0, 'reg_alpha': 100, 'objective': 'reg:squarederror', 'n_estimators': 1500, 'min_child_weight': 1, 'max_depth': 5, 'learning_rate': 0.0001, 'gamma': 0, 'colsample_bytree': 0.8},\n",
       " mean: 0.78431, std: 0.04529, params: {'subsample': 0.8, 'reg_lambda': 100, 'reg_alpha': 1, 'objective': 'reg:squarederror', 'n_estimators': 800, 'min_child_weight': 1, 'max_depth': 7, 'learning_rate': 0.01, 'gamma': 0.01, 'colsample_bytree': 0.8},\n",
       " mean: -4.85180, std: 0.36277, params: {'subsample': 0.8, 'reg_lambda': 100, 'reg_alpha': 0.001, 'objective': 'reg:squarederror', 'n_estimators': 700, 'min_child_weight': 1, 'max_depth': 7, 'learning_rate': 0.0001, 'gamma': 0.001, 'colsample_bytree': 0.8},\n",
       " mean: -4.67862, std: 0.37034, params: {'subsample': 0.8, 'reg_lambda': 1, 'reg_alpha': 5, 'objective': 'reg:squarederror', 'n_estimators': 700, 'min_child_weight': 1, 'max_depth': 9, 'learning_rate': 0.0001, 'gamma': 0.001, 'colsample_bytree': 0.8},\n",
       " mean: 0.83559, std: 0.02708, params: {'subsample': 0.8, 'reg_lambda': 10, 'reg_alpha': 5, 'objective': 'reg:squarederror', 'n_estimators': 900, 'min_child_weight': 1, 'max_depth': 4, 'learning_rate': 0.2, 'gamma': 0.1, 'colsample_bytree': 0.8},\n",
       " mean: -2.11617, std: 0.14517, params: {'subsample': 0.8, 'reg_lambda': 1, 'reg_alpha': 10, 'objective': 'reg:squarederror', 'n_estimators': 400, 'min_child_weight': 1, 'max_depth': 8, 'learning_rate': 0.001, 'gamma': 0, 'colsample_bytree': 0.8},\n",
       " mean: -4.76987, std: 0.35192, params: {'subsample': 0.8, 'reg_lambda': 100, 'reg_alpha': 0.01, 'objective': 'reg:squarederror', 'n_estimators': 800, 'min_child_weight': 1, 'max_depth': 5, 'learning_rate': 0.0001, 'gamma': 1, 'colsample_bytree': 0.8},\n",
       " mean: 0.85713, std: 0.04077, params: {'subsample': 0.8, 'reg_lambda': 0.001, 'reg_alpha': 0.1, 'objective': 'reg:squarederror', 'n_estimators': 1000, 'min_child_weight': 1, 'max_depth': 6, 'learning_rate': 0.01, 'gamma': 0, 'colsample_bytree': 0.8},\n",
       " mean: 0.81523, std: 0.04736, params: {'subsample': 0.8, 'reg_lambda': 0.1, 'reg_alpha': 100, 'objective': 'reg:squarederror', 'n_estimators': 600, 'min_child_weight': 1, 'max_depth': 7, 'learning_rate': 0.2, 'gamma': 100, 'colsample_bytree': 0.8},\n",
       " mean: -0.24820, std: 0.02365, params: {'subsample': 0.8, 'reg_lambda': 0.1, 'reg_alpha': 100, 'objective': 'reg:squarederror', 'n_estimators': 900, 'min_child_weight': 1, 'max_depth': 10, 'learning_rate': 0.001, 'gamma': 10, 'colsample_bytree': 0.8},\n",
       " mean: 0.83898, std: 0.03664, params: {'subsample': 0.8, 'reg_lambda': 1, 'reg_alpha': 0.1, 'objective': 'reg:squarederror', 'n_estimators': 600, 'min_child_weight': 1, 'max_depth': 8, 'learning_rate': 0.1, 'gamma': 0.001, 'colsample_bytree': 0.8},\n",
       " mean: -2.30545, std: 0.10326, params: {'subsample': 0.8, 'reg_lambda': 10, 'reg_alpha': 0.001, 'objective': 'reg:squarederror', 'n_estimators': 400, 'min_child_weight': 1, 'max_depth': 6, 'learning_rate': 0.001, 'gamma': 0.01, 'colsample_bytree': 0.8},\n",
       " mean: -1.53631, std: 0.10698, params: {'subsample': 0.8, 'reg_lambda': 0, 'reg_alpha': 0, 'objective': 'reg:squarederror', 'n_estimators': 500, 'min_child_weight': 1, 'max_depth': 4, 'learning_rate': 0.001, 'gamma': 5, 'colsample_bytree': 0.8},\n",
       " mean: -1.73608, std: 0.12303, params: {'subsample': 0.8, 'reg_lambda': 0, 'reg_alpha': 0.1, 'objective': 'reg:squarederror', 'n_estimators': 900, 'min_child_weight': 1, 'max_depth': 8, 'learning_rate': 0.0005, 'gamma': 0.01, 'colsample_bytree': 0.8},\n",
       " mean: 0.83099, std: 0.02294, params: {'subsample': 0.8, 'reg_lambda': 10, 'reg_alpha': 0, 'objective': 'reg:squarederror', 'n_estimators': 900, 'min_child_weight': 1, 'max_depth': 6, 'learning_rate': 0.2, 'gamma': 0.001, 'colsample_bytree': 0.8},\n",
       " mean: -4.98264, std: 0.40110, params: {'subsample': 0.8, 'reg_lambda': 0, 'reg_alpha': 0.001, 'objective': 'reg:squarederror', 'n_estimators': 400, 'min_child_weight': 1, 'max_depth': 9, 'learning_rate': 0.0001, 'gamma': 0, 'colsample_bytree': 0.8},\n",
       " mean: 0.79696, std: 0.04342, params: {'subsample': 0.8, 'reg_lambda': 100, 'reg_alpha': 0.01, 'objective': 'reg:squarederror', 'n_estimators': 900, 'min_child_weight': 1, 'max_depth': 7, 'learning_rate': 0.01, 'gamma': 5, 'colsample_bytree': 0.8},\n",
       " mean: -3.27904, std: 0.16533, params: {'subsample': 0.8, 'reg_lambda': 100, 'reg_alpha': 0, 'objective': 'reg:squarederror', 'n_estimators': 600, 'min_child_weight': 1, 'max_depth': 6, 'learning_rate': 0.0005, 'gamma': 10, 'colsample_bytree': 0.8},\n",
       " mean: 0.84081, std: 0.02303, params: {'subsample': 0.8, 'reg_lambda': 100, 'reg_alpha': 0.01, 'objective': 'reg:squarederror', 'n_estimators': 1500, 'min_child_weight': 1, 'max_depth': 8, 'learning_rate': 0.1, 'gamma': 5, 'colsample_bytree': 0.8},\n",
       " mean: -1.11843, std: 0.07724, params: {'subsample': 0.8, 'reg_lambda': 0.01, 'reg_alpha': 0.001, 'objective': 'reg:squarederror', 'n_estimators': 600, 'min_child_weight': 1, 'max_depth': 4, 'learning_rate': 0.001, 'gamma': 10, 'colsample_bytree': 0.8},\n",
       " mean: 0.84708, std: 0.04405, params: {'subsample': 0.8, 'reg_lambda': 0, 'reg_alpha': 0.01, 'objective': 'reg:squarederror', 'n_estimators': 500, 'min_child_weight': 1, 'max_depth': 4, 'learning_rate': 0.2, 'gamma': 0.001, 'colsample_bytree': 0.8},\n",
       " mean: 0.79946, std: 0.04526, params: {'subsample': 0.8, 'reg_lambda': 100, 'reg_alpha': 0, 'objective': 'reg:squarederror', 'n_estimators': 1000, 'min_child_weight': 1, 'max_depth': 9, 'learning_rate': 0.01, 'gamma': 100, 'colsample_bytree': 0.8},\n",
       " mean: 0.84613, std: 0.04375, params: {'subsample': 0.8, 'reg_lambda': 0.01, 'reg_alpha': 1, 'objective': 'reg:squarederror', 'n_estimators': 600, 'min_child_weight': 1, 'max_depth': 10, 'learning_rate': 0.01, 'gamma': 0, 'colsample_bytree': 0.8},\n",
       " mean: 0.82629, std: 0.04605, params: {'subsample': 0.8, 'reg_lambda': 0.01, 'reg_alpha': 1, 'objective': 'reg:squarederror', 'n_estimators': 1000, 'min_child_weight': 1, 'max_depth': 5, 'learning_rate': 0.2, 'gamma': 0.01, 'colsample_bytree': 0.8},\n",
       " mean: -4.55093, std: 0.36066, params: {'subsample': 0.8, 'reg_lambda': 0, 'reg_alpha': 1, 'objective': 'reg:squarederror', 'n_estimators': 800, 'min_child_weight': 1, 'max_depth': 4, 'learning_rate': 0.0001, 'gamma': 10, 'colsample_bytree': 0.8},\n",
       " mean: 0.85181, std: 0.04337, params: {'subsample': 0.8, 'reg_lambda': 0.01, 'reg_alpha': 100, 'objective': 'reg:squarederror', 'n_estimators': 900, 'min_child_weight': 1, 'max_depth': 7, 'learning_rate': 0.01, 'gamma': 0, 'colsample_bytree': 0.8},\n",
       " mean: 0.84177, std: 0.02998, params: {'subsample': 0.8, 'reg_lambda': 1, 'reg_alpha': 0, 'objective': 'reg:squarederror', 'n_estimators': 800, 'min_child_weight': 1, 'max_depth': 9, 'learning_rate': 0.1, 'gamma': 0.001, 'colsample_bytree': 0.8},\n",
       " mean: -0.58319, std: 0.04300, params: {'subsample': 0.8, 'reg_lambda': 0.001, 'reg_alpha': 5, 'objective': 'reg:squarederror', 'n_estimators': 1500, 'min_child_weight': 1, 'max_depth': 7, 'learning_rate': 0.0005, 'gamma': 10, 'colsample_bytree': 0.8},\n",
       " mean: -2.58595, std: 0.12972, params: {'subsample': 0.8, 'reg_lambda': 10, 'reg_alpha': 1, 'objective': 'reg:squarederror', 'n_estimators': 700, 'min_child_weight': 1, 'max_depth': 7, 'learning_rate': 0.0005, 'gamma': 0.001, 'colsample_bytree': 0.8}]"
      ]
     },
     "execution_count": 411,
     "metadata": {},
     "output_type": "execute_result"
    }
   ],
   "source": [
    "xgb_random.grid_scores_"
   ]
  },
  {
   "cell_type": "code",
   "execution_count": 412,
   "metadata": {},
   "outputs": [
    {
     "data": {
      "text/plain": [
       "{'colsample_bytree': 0.8,\n",
       " 'gamma': 0,\n",
       " 'learning_rate': 0.01,\n",
       " 'max_depth': 6,\n",
       " 'min_child_weight': 1,\n",
       " 'n_estimators': 1000,\n",
       " 'objective': 'reg:squarederror',\n",
       " 'reg_alpha': 0.1,\n",
       " 'reg_lambda': 0.001,\n",
       " 'subsample': 0.8}"
      ]
     },
     "execution_count": 412,
     "metadata": {},
     "output_type": "execute_result"
    }
   ],
   "source": [
    "xgb_random.best_params_"
   ]
  },
  {
   "cell_type": "code",
   "execution_count": 413,
   "metadata": {},
   "outputs": [
    {
     "data": {
      "text/plain": [
       "0.8571264556075862"
      ]
     },
     "execution_count": 413,
     "metadata": {},
     "output_type": "execute_result"
    }
   ],
   "source": [
    "xgb_random.best_score_"
   ]
  },
  {
   "cell_type": "code",
   "execution_count": 414,
   "metadata": {},
   "outputs": [],
   "source": [
    "xgb_random_best = xgb_random.best_estimator_"
   ]
  },
  {
   "cell_type": "code",
   "execution_count": 415,
   "metadata": {},
   "outputs": [
    {
     "name": "stdout",
     "output_type": "stream",
     "text": [
      "{'objective': 'reg:squarederror', 'base_score': 0.5, 'booster': 'gbtree', 'colsample_bylevel': 1, 'colsample_bynode': 1, 'colsample_bytree': 0.8, 'gamma': 0, 'gpu_id': -1, 'interaction_constraints': '', 'learning_rate': 0.01, 'max_delta_step': 0, 'max_depth': 6, 'min_child_weight': 1, 'monotone_constraints': '()', 'n_jobs': 8, 'num_parallel_tree': 1, 'random_state': 0, 'reg_alpha': 0.1, 'reg_lambda': 0.001, 'scale_pos_weight': 1, 'subsample': 0.8, 'tree_method': 'exact', 'validate_parameters': 1, 'verbosity': None}\n",
      "\n",
      "Model Report\n",
      "RMSE (Train) : 3696\n",
      "R2 (Train): 0.997760\n",
      "RMSE : 3.259e+04\n",
      "R2 (Test): 0.843507\n",
      "Variable: GarageCars           Importance: 0.27000001072883606\n",
      "Variable: ExterQual_TA         Importance: 0.10999999940395355\n",
      "Variable: GrLivArea            Importance: 0.03999999910593033\n",
      "Variable: KitchenQual_TA       Importance: 0.03999999910593033\n",
      "Variable: BsmtQual_TA          Importance: 0.03999999910593033\n",
      "Variable: GarageFinish_Unf     Importance: 0.029999999329447746\n",
      "Variable: FullBath             Importance: 0.019999999552965164\n",
      "Variable: CentralAir_Y         Importance: 0.019999999552965164\n",
      "Variable: OverallQual_8        Importance: 0.019999999552965164\n",
      "Variable: OverallQual_10       Importance: 0.019999999552965164\n",
      "Variable: YearBuilt            Importance: 0.009999999776482582\n",
      "Variable: YearRemodAdd         Importance: 0.009999999776482582\n",
      "Variable: MasVnrArea           Importance: 0.009999999776482582\n",
      "Variable: BsmtFinSF1           Importance: 0.009999999776482582\n",
      "Variable: TotalBsmtSF          Importance: 0.009999999776482582\n",
      "Variable: 1stFlrSF             Importance: 0.009999999776482582\n",
      "Variable: 2ndFlrSF             Importance: 0.009999999776482582\n",
      "Variable: KitchenAbvGr         Importance: 0.009999999776482582\n",
      "Variable: Fireplaces           Importance: 0.009999999776482582\n",
      "Variable: GarageArea           Importance: 0.009999999776482582\n"
     ]
    },
    {
     "data": {
      "image/png": "[encoded data removed]",
      "text/plain": [
       "<Figure size 432x288 with 1 Axes>"
      ]
     },
     "metadata": {
      "needs_background": "light"
     },
     "output_type": "display_data"
    }
   ],
   "source": [
    "modelfit(xgb_random_best, x_train, y_train, x_test, y_test)"
   ]
  },
  {
   "cell_type": "code",
   "execution_count": 416,
   "metadata": {},
   "outputs": [
    {
     "data": {
      "text/plain": [
       "0.9977604402722758"
      ]
     },
     "execution_count": 416,
     "metadata": {},
     "output_type": "execute_result"
    }
   ],
   "source": [
    "xgb_random_best.score(x_train,y_train)"
   ]
  },
  {
   "cell_type": "code",
   "execution_count": 417,
   "metadata": {},
   "outputs": [
    {
     "data": {
      "text/plain": [
       "0.8435070319392971"
      ]
     },
     "execution_count": 417,
     "metadata": {},
     "output_type": "execute_result"
    }
   ],
   "source": [
    "xgb_random_best.score(x_test,y_test)"
   ]
  },
  {
   "cell_type": "code",
   "execution_count": 418,
   "metadata": {},
   "outputs": [],
   "source": [
    "X_wo_truth_new_preds = xgb_random_best.predict(X_wo_truth_new_w_dummy[x_train.columns])  \n",
    "data ={\n",
    "    'Id': list(X_wo_truth_orig['Id']),\n",
    "    'SalePrice': list(X_wo_truth_new_preds)\n",
    "}\n",
    "submission = pd.DataFrame(data)\n",
    "submission.to_csv('20210227_submission_5_XGBoost_Random_Search.csv')"
   ]
  },
  {
   "cell_type": "code",
   "execution_count": null,
   "metadata": {},
   "outputs": [],
   "source": []
  },
  {
   "cell_type": "code",
   "execution_count": null,
   "metadata": {},
   "outputs": [],
   "source": []
  },
  {
   "cell_type": "code",
   "execution_count": null,
   "metadata": {},
   "outputs": [],
   "source": []
  },
  {
   "cell_type": "code",
   "execution_count": null,
   "metadata": {},
   "outputs": [],
   "source": []
  }
 ],
 "metadata": {
  "kernelspec": {
   "display_name": "Python 3",
   "language": "python",
   "name": "python3"
  },
  "language_info": {
   "codemirror_mode": {
    "name": "ipython",
    "version": 3
   },
   "file_extension": ".py",
   "mimetype": "text/x-python",
   "name": "python",
   "nbconvert_exporter": "python",
   "pygments_lexer": "ipython3",
   "version": "3.6.4"
  }
 },
 "nbformat": 4,
 "nbformat_minor": 2
}
