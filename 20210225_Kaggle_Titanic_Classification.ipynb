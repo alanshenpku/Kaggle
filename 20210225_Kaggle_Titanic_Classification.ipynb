{
 "cells": [
  {
   "cell_type": "markdown",
   "metadata": {},
   "source": [
    "# Packages"
   ]
  },
  {
   "cell_type": "code",
   "execution_count": 1,
   "metadata": {},
   "outputs": [
    {
     "name": "stderr",
     "output_type": "stream",
     "text": [
      "C:\\Anaconda3\\lib\\site-packages\\sklearn\\ensemble\\weight_boosting.py:29: DeprecationWarning: numpy.core.umath_tests is an internal NumPy module and should not be imported. It will be removed in a future NumPy release.\n",
      "  from numpy.core.umath_tests import inner1d\n"
     ]
    }
   ],
   "source": [
    "import pandas as pd\n",
    "import numpy as np\n",
    "\n",
    "from sklearn.model_selection import train_test_split\n",
    "\n",
    "import matplotlib.pyplot as plt \n",
    "%matplotlib inline\n",
    "import seaborn as sns\n",
    "\n",
    "from sklearn.linear_model import LogisticRegression\n",
    "from sklearn.ensemble import RandomForestClassifier\n",
    "\n",
    "from sklearn.model_selection import RandomizedSearchCV\n",
    "from sklearn.model_selection import GridSearchCV\n",
    "\n",
    "import xgboost as xgb\n",
    "import sys\n",
    "from sklearn.metrics import roc_curve \n",
    "from sklearn.metrics import roc_auc_score"
   ]
  },
  {
   "cell_type": "code",
   "execution_count": 2,
   "metadata": {},
   "outputs": [
    {
     "data": {
      "text/plain": [
       "'3.6.4 |Anaconda, Inc.| (default, Jan 16 2018, 10:22:32) [MSC v.1900 64 bit (AMD64)]'"
      ]
     },
     "execution_count": 2,
     "metadata": {},
     "output_type": "execute_result"
    }
   ],
   "source": [
    "sys.version"
   ]
  },
  {
   "cell_type": "markdown",
   "metadata": {},
   "source": [
    "# Exploratory Data Analysis"
   ]
  },
  {
   "cell_type": "markdown",
   "metadata": {},
   "source": [
    "### Reading data"
   ]
  },
  {
   "cell_type": "code",
   "execution_count": 3,
   "metadata": {},
   "outputs": [],
   "source": [
    "df = pd.read_csv('train.csv')"
   ]
  },
  {
   "cell_type": "code",
   "execution_count": 4,
   "metadata": {},
   "outputs": [
    {
     "data": {
      "text/html": [
       "<div>\n",
       "<style scoped>\n",
       "    .dataframe tbody tr th:only-of-type {\n",
       "        vertical-align: middle;\n",
       "    }\n",
       "\n",
       "    .dataframe tbody tr th {\n",
       "        vertical-align: top;\n",
       "    }\n",
       "\n",
       "    .dataframe thead th {\n",
       "        text-align: right;\n",
       "    }\n",
       "</style>\n",
       "<table border=\"1\" class=\"dataframe\">\n",
       "  <thead>\n",
       "    <tr style=\"text-align: right;\">\n",
       "      <th></th>\n",
       "      <th>PassengerId</th>\n",
       "      <th>Survived</th>\n",
       "      <th>Pclass</th>\n",
       "      <th>Name</th>\n",
       "      <th>Sex</th>\n",
       "      <th>Age</th>\n",
       "      <th>SibSp</th>\n",
       "      <th>Parch</th>\n",
       "      <th>Ticket</th>\n",
       "      <th>Fare</th>\n",
       "      <th>Cabin</th>\n",
       "      <th>Embarked</th>\n",
       "    </tr>\n",
       "  </thead>\n",
       "  <tbody>\n",
       "    <tr>\n",
       "      <th>0</th>\n",
       "      <td>1</td>\n",
       "      <td>0</td>\n",
       "      <td>3</td>\n",
       "      <td>Braund, Mr. Owen Harris</td>\n",
       "      <td>male</td>\n",
       "      <td>22.0</td>\n",
       "      <td>1</td>\n",
       "      <td>0</td>\n",
       "      <td>A/5 21171</td>\n",
       "      <td>7.2500</td>\n",
       "      <td>NaN</td>\n",
       "      <td>S</td>\n",
       "    </tr>\n",
       "    <tr>\n",
       "      <th>1</th>\n",
       "      <td>2</td>\n",
       "      <td>1</td>\n",
       "      <td>1</td>\n",
       "      <td>Cumings, Mrs. John Bradley (Florence Briggs Th...</td>\n",
       "      <td>female</td>\n",
       "      <td>38.0</td>\n",
       "      <td>1</td>\n",
       "      <td>0</td>\n",
       "      <td>PC 17599</td>\n",
       "      <td>71.2833</td>\n",
       "      <td>C85</td>\n",
       "      <td>C</td>\n",
       "    </tr>\n",
       "    <tr>\n",
       "      <th>2</th>\n",
       "      <td>3</td>\n",
       "      <td>1</td>\n",
       "      <td>3</td>\n",
       "      <td>Heikkinen, Miss. Laina</td>\n",
       "      <td>female</td>\n",
       "      <td>26.0</td>\n",
       "      <td>0</td>\n",
       "      <td>0</td>\n",
       "      <td>STON/O2. 3101282</td>\n",
       "      <td>7.9250</td>\n",
       "      <td>NaN</td>\n",
       "      <td>S</td>\n",
       "    </tr>\n",
       "    <tr>\n",
       "      <th>3</th>\n",
       "      <td>4</td>\n",
       "      <td>1</td>\n",
       "      <td>1</td>\n",
       "      <td>Futrelle, Mrs. Jacques Heath (Lily May Peel)</td>\n",
       "      <td>female</td>\n",
       "      <td>35.0</td>\n",
       "      <td>1</td>\n",
       "      <td>0</td>\n",
       "      <td>113803</td>\n",
       "      <td>53.1000</td>\n",
       "      <td>C123</td>\n",
       "      <td>S</td>\n",
       "    </tr>\n",
       "    <tr>\n",
       "      <th>4</th>\n",
       "      <td>5</td>\n",
       "      <td>0</td>\n",
       "      <td>3</td>\n",
       "      <td>Allen, Mr. William Henry</td>\n",
       "      <td>male</td>\n",
       "      <td>35.0</td>\n",
       "      <td>0</td>\n",
       "      <td>0</td>\n",
       "      <td>373450</td>\n",
       "      <td>8.0500</td>\n",
       "      <td>NaN</td>\n",
       "      <td>S</td>\n",
       "    </tr>\n",
       "  </tbody>\n",
       "</table>\n",
       "</div>"
      ],
      "text/plain": [
       "   PassengerId  Survived  Pclass  \\\n",
       "0            1         0       3   \n",
       "1            2         1       1   \n",
       "2            3         1       3   \n",
       "3            4         1       1   \n",
       "4            5         0       3   \n",
       "\n",
       "                                                Name     Sex   Age  SibSp  \\\n",
       "0                            Braund, Mr. Owen Harris    male  22.0      1   \n",
       "1  Cumings, Mrs. John Bradley (Florence Briggs Th...  female  38.0      1   \n",
       "2                             Heikkinen, Miss. Laina  female  26.0      0   \n",
       "3       Futrelle, Mrs. Jacques Heath (Lily May Peel)  female  35.0      1   \n",
       "4                           Allen, Mr. William Henry    male  35.0      0   \n",
       "\n",
       "   Parch            Ticket     Fare Cabin Embarked  \n",
       "0      0         A/5 21171   7.2500   NaN        S  \n",
       "1      0          PC 17599  71.2833   C85        C  \n",
       "2      0  STON/O2. 3101282   7.9250   NaN        S  \n",
       "3      0            113803  53.1000  C123        S  \n",
       "4      0            373450   8.0500   NaN        S  "
      ]
     },
     "execution_count": 4,
     "metadata": {},
     "output_type": "execute_result"
    }
   ],
   "source": [
    "df.head()"
   ]
  },
  {
   "cell_type": "markdown",
   "metadata": {},
   "source": [
    "### Summary Statistics"
   ]
  },
  {
   "cell_type": "code",
   "execution_count": 5,
   "metadata": {},
   "outputs": [
    {
     "data": {
      "text/html": [
       "<div>\n",
       "<style scoped>\n",
       "    .dataframe tbody tr th:only-of-type {\n",
       "        vertical-align: middle;\n",
       "    }\n",
       "\n",
       "    .dataframe tbody tr th {\n",
       "        vertical-align: top;\n",
       "    }\n",
       "\n",
       "    .dataframe thead th {\n",
       "        text-align: right;\n",
       "    }\n",
       "</style>\n",
       "<table border=\"1\" class=\"dataframe\">\n",
       "  <thead>\n",
       "    <tr style=\"text-align: right;\">\n",
       "      <th></th>\n",
       "      <th>PassengerId</th>\n",
       "      <th>Survived</th>\n",
       "      <th>Pclass</th>\n",
       "      <th>Age</th>\n",
       "      <th>SibSp</th>\n",
       "      <th>Parch</th>\n",
       "      <th>Fare</th>\n",
       "    </tr>\n",
       "  </thead>\n",
       "  <tbody>\n",
       "    <tr>\n",
       "      <th>count</th>\n",
       "      <td>891.000000</td>\n",
       "      <td>891.000000</td>\n",
       "      <td>891.000000</td>\n",
       "      <td>714.000000</td>\n",
       "      <td>891.000000</td>\n",
       "      <td>891.000000</td>\n",
       "      <td>891.000000</td>\n",
       "    </tr>\n",
       "    <tr>\n",
       "      <th>mean</th>\n",
       "      <td>446.000000</td>\n",
       "      <td>0.383838</td>\n",
       "      <td>2.308642</td>\n",
       "      <td>29.699118</td>\n",
       "      <td>0.523008</td>\n",
       "      <td>0.381594</td>\n",
       "      <td>32.204208</td>\n",
       "    </tr>\n",
       "    <tr>\n",
       "      <th>std</th>\n",
       "      <td>257.353842</td>\n",
       "      <td>0.486592</td>\n",
       "      <td>0.836071</td>\n",
       "      <td>14.526497</td>\n",
       "      <td>1.102743</td>\n",
       "      <td>0.806057</td>\n",
       "      <td>49.693429</td>\n",
       "    </tr>\n",
       "    <tr>\n",
       "      <th>min</th>\n",
       "      <td>1.000000</td>\n",
       "      <td>0.000000</td>\n",
       "      <td>1.000000</td>\n",
       "      <td>0.420000</td>\n",
       "      <td>0.000000</td>\n",
       "      <td>0.000000</td>\n",
       "      <td>0.000000</td>\n",
       "    </tr>\n",
       "    <tr>\n",
       "      <th>25%</th>\n",
       "      <td>223.500000</td>\n",
       "      <td>0.000000</td>\n",
       "      <td>2.000000</td>\n",
       "      <td>20.125000</td>\n",
       "      <td>0.000000</td>\n",
       "      <td>0.000000</td>\n",
       "      <td>7.910400</td>\n",
       "    </tr>\n",
       "    <tr>\n",
       "      <th>50%</th>\n",
       "      <td>446.000000</td>\n",
       "      <td>0.000000</td>\n",
       "      <td>3.000000</td>\n",
       "      <td>28.000000</td>\n",
       "      <td>0.000000</td>\n",
       "      <td>0.000000</td>\n",
       "      <td>14.454200</td>\n",
       "    </tr>\n",
       "    <tr>\n",
       "      <th>75%</th>\n",
       "      <td>668.500000</td>\n",
       "      <td>1.000000</td>\n",
       "      <td>3.000000</td>\n",
       "      <td>38.000000</td>\n",
       "      <td>1.000000</td>\n",
       "      <td>0.000000</td>\n",
       "      <td>31.000000</td>\n",
       "    </tr>\n",
       "    <tr>\n",
       "      <th>max</th>\n",
       "      <td>891.000000</td>\n",
       "      <td>1.000000</td>\n",
       "      <td>3.000000</td>\n",
       "      <td>80.000000</td>\n",
       "      <td>8.000000</td>\n",
       "      <td>6.000000</td>\n",
       "      <td>512.329200</td>\n",
       "    </tr>\n",
       "  </tbody>\n",
       "</table>\n",
       "</div>"
      ],
      "text/plain": [
       "       PassengerId    Survived      Pclass         Age       SibSp  \\\n",
       "count   891.000000  891.000000  891.000000  714.000000  891.000000   \n",
       "mean    446.000000    0.383838    2.308642   29.699118    0.523008   \n",
       "std     257.353842    0.486592    0.836071   14.526497    1.102743   \n",
       "min       1.000000    0.000000    1.000000    0.420000    0.000000   \n",
       "25%     223.500000    0.000000    2.000000   20.125000    0.000000   \n",
       "50%     446.000000    0.000000    3.000000   28.000000    0.000000   \n",
       "75%     668.500000    1.000000    3.000000   38.000000    1.000000   \n",
       "max     891.000000    1.000000    3.000000   80.000000    8.000000   \n",
       "\n",
       "            Parch        Fare  \n",
       "count  891.000000  891.000000  \n",
       "mean     0.381594   32.204208  \n",
       "std      0.806057   49.693429  \n",
       "min      0.000000    0.000000  \n",
       "25%      0.000000    7.910400  \n",
       "50%      0.000000   14.454200  \n",
       "75%      0.000000   31.000000  \n",
       "max      6.000000  512.329200  "
      ]
     },
     "execution_count": 5,
     "metadata": {},
     "output_type": "execute_result"
    }
   ],
   "source": [
    "df.describe()"
   ]
  },
  {
   "cell_type": "code",
   "execution_count": 6,
   "metadata": {},
   "outputs": [
    {
     "name": "stdout",
     "output_type": "stream",
     "text": [
      "<class 'pandas.core.frame.DataFrame'>\n",
      "RangeIndex: 891 entries, 0 to 890\n",
      "Data columns (total 12 columns):\n",
      "PassengerId    891 non-null int64\n",
      "Survived       891 non-null int64\n",
      "Pclass         891 non-null int64\n",
      "Name           891 non-null object\n",
      "Sex            891 non-null object\n",
      "Age            714 non-null float64\n",
      "SibSp          891 non-null int64\n",
      "Parch          891 non-null int64\n",
      "Ticket         891 non-null object\n",
      "Fare           891 non-null float64\n",
      "Cabin          204 non-null object\n",
      "Embarked       889 non-null object\n",
      "dtypes: float64(2), int64(5), object(5)\n",
      "memory usage: 83.6+ KB\n"
     ]
    }
   ],
   "source": [
    "df.info()"
   ]
  },
  {
   "cell_type": "markdown",
   "metadata": {},
   "source": [
    "### Check outliers"
   ]
  },
  {
   "cell_type": "markdown",
   "metadata": {},
   "source": [
    "boxplot"
   ]
  },
  {
   "cell_type": "code",
   "execution_count": 13,
   "metadata": {},
   "outputs": [
    {
     "data": {
      "image/png": "[encoded data removed]",
      "text/plain": [
       "<Figure size 432x288 with 1 Axes>"
      ]
     },
     "metadata": {
      "needs_background": "light"
     },
     "output_type": "display_data"
    },
    {
     "data": {
      "image/png": "[encoded data removed]",
      "text/plain": [
       "<Figure size 432x288 with 1 Axes>"
      ]
     },
     "metadata": {
      "needs_background": "light"
     },
     "output_type": "display_data"
    },
    {
     "data": {
      "image/png": "[encoded data removed]",
      "text/plain": [
       "<Figure size 432x288 with 1 Axes>"
      ]
     },
     "metadata": {
      "needs_background": "light"
     },
     "output_type": "display_data"
    },
    {
     "data": {
      "image/png": "[encoded data removed]",
      "text/plain": [
       "<Figure size 432x288 with 1 Axes>"
      ]
     },
     "metadata": {
      "needs_background": "light"
     },
     "output_type": "display_data"
    }
   ],
   "source": [
    "var_list = ['Age', 'Fare', 'SibSp','Parch']\n",
    "for x in var_list:\n",
    "    sns.boxplot(x='Survived', y=x, data=df, palette='Paired')\n",
    "    plt.title(x)\n",
    "    plt.show()"
   ]
  },
  {
   "cell_type": "code",
   "execution_count": 8,
   "metadata": {},
   "outputs": [
    {
     "data": {
      "image/png": "[encoded data removed]",
      "text/plain": [
       "<Figure size 432x288 with 1 Axes>"
      ]
     },
     "metadata": {
      "needs_background": "light"
     },
     "output_type": "display_data"
    },
    {
     "data": {
      "image/png": "[encoded data removed]",
      "text/plain": [
       "<Figure size 432x288 with 1 Axes>"
      ]
     },
     "metadata": {
      "needs_background": "light"
     },
     "output_type": "display_data"
    },
    {
     "data": {
      "image/png": "[encoded data removed]",
      "text/plain": [
       "<Figure size 432x288 with 1 Axes>"
      ]
     },
     "metadata": {
      "needs_background": "light"
     },
     "output_type": "display_data"
    },
    {
     "data": {
      "image/png": "[encoded data removed]",
      "text/plain": [
       "<Figure size 432x288 with 1 Axes>"
      ]
     },
     "metadata": {
      "needs_background": "light"
     },
     "output_type": "display_data"
    }
   ],
   "source": [
    "for x in var_list:\n",
    "    sns.boxplot(x=df[x])\n",
    "    plt.title(x)\n",
    "    plt.show()"
   ]
  },
  {
   "cell_type": "code",
   "execution_count": 11,
   "metadata": {},
   "outputs": [
    {
     "data": {
      "image/png": "[encoded data removed]",
      "text/plain": [
       "<Figure size 432x288 with 1 Axes>"
      ]
     },
     "metadata": {
      "needs_background": "light"
     },
     "output_type": "display_data"
    }
   ],
   "source": [
    "df.plot(x='PassengerId',y='SibSp')\n",
    "plt.show()"
   ]
  },
  {
   "cell_type": "code",
   "execution_count": 12,
   "metadata": {},
   "outputs": [
    {
     "data": {
      "image/png": "[encoded data removed]",
      "text/plain": [
       "<Figure size 432x288 with 1 Axes>"
      ]
     },
     "metadata": {
      "needs_background": "light"
     },
     "output_type": "display_data"
    }
   ],
   "source": [
    "df.plot(x='PassengerId',y='Parch')\n",
    "plt.show()"
   ]
  },
  {
   "cell_type": "code",
   "execution_count": 13,
   "metadata": {},
   "outputs": [
    {
     "data": {
      "image/png": "[encoded data removed]",
      "text/plain": [
       "<Figure size 432x288 with 1 Axes>"
      ]
     },
     "metadata": {
      "needs_background": "light"
     },
     "output_type": "display_data"
    }
   ],
   "source": [
    "df.plot(x='PassengerId',y='Fare')\n",
    "plt.show()"
   ]
  },
  {
   "cell_type": "markdown",
   "metadata": {},
   "source": [
    "## Histogram"
   ]
  },
  {
   "cell_type": "code",
   "execution_count": 9,
   "metadata": {
    "scrolled": true
   },
   "outputs": [
    {
     "data": {
      "image/png": "[encoded data removed]",
      "text/plain": [
       "<Figure size 411.875x360 with 1 Axes>"
      ]
     },
     "metadata": {
      "needs_background": "light"
     },
     "output_type": "display_data"
    },
    {
     "data": {
      "image/png": "[encoded data removed]",
      "text/plain": [
       "<Figure size 411.875x360 with 1 Axes>"
      ]
     },
     "metadata": {
      "needs_background": "light"
     },
     "output_type": "display_data"
    },
    {
     "data": {
      "image/png": "[encoded data removed]",
      "text/plain": [
       "<Figure size 411.875x360 with 1 Axes>"
      ]
     },
     "metadata": {
      "needs_background": "light"
     },
     "output_type": "display_data"
    },
    {
     "data": {
      "image/png": "[encoded data removed]",
      "text/plain": [
       "<Figure size 411.875x360 with 1 Axes>"
      ]
     },
     "metadata": {
      "needs_background": "light"
     },
     "output_type": "display_data"
    }
   ],
   "source": [
    "for x in var_list:\n",
    "    sns.displot(df, x=df[x], hue='Survived', kind='kde', fill=True, palette='Paired')\n",
    "    plt.title(x)\n",
    "    plt.show()"
   ]
  },
  {
   "cell_type": "code",
   "execution_count": null,
   "metadata": {},
   "outputs": [],
   "source": []
  },
  {
   "cell_type": "code",
   "execution_count": 14,
   "metadata": {},
   "outputs": [
    {
     "data": {
      "text/plain": [
       "<matplotlib.axes._subplots.AxesSubplot at 0x273e30e2860>"
      ]
     },
     "execution_count": 14,
     "metadata": {},
     "output_type": "execute_result"
    },
    {
     "data": {
      "image/png": "[encoded data removed]",
      "text/plain": [
       "<Figure size 432x288 with 1 Axes>"
      ]
     },
     "metadata": {
      "needs_background": "light"
     },
     "output_type": "display_data"
    }
   ],
   "source": [
    "df['Age'].hist(bins=20)"
   ]
  },
  {
   "cell_type": "code",
   "execution_count": 15,
   "metadata": {},
   "outputs": [
    {
     "data": {
      "text/plain": [
       "<matplotlib.axes._subplots.AxesSubplot at 0x273e3073978>"
      ]
     },
     "execution_count": 15,
     "metadata": {},
     "output_type": "execute_result"
    },
    {
     "data": {
      "image/png": "[encoded data removed]",
      "text/plain": [
       "<Figure size 432x288 with 1 Axes>"
      ]
     },
     "metadata": {
      "needs_background": "light"
     },
     "output_type": "display_data"
    }
   ],
   "source": [
    "df['Fare'].hist(bins=20)"
   ]
  },
  {
   "cell_type": "markdown",
   "metadata": {},
   "source": [
    "### Calculate survival rate by different categories using pandas pivot_table"
   ]
  },
  {
   "cell_type": "code",
   "execution_count": 10,
   "metadata": {},
   "outputs": [],
   "source": [
    "cat_var_list = ['Pclass', 'Sex', 'SibSp', 'Embarked', 'Parch']"
   ]
  },
  {
   "cell_type": "code",
   "execution_count": 11,
   "metadata": {},
   "outputs": [
    {
     "data": {
      "image/png": "[encoded data removed]",
      "text/plain": [
       "<Figure size 360x360 with 1 Axes>"
      ]
     },
     "metadata": {
      "needs_background": "light"
     },
     "output_type": "display_data"
    },
    {
     "data": {
      "image/png": "[encoded data removed]",
      "text/plain": [
       "<Figure size 360x360 with 1 Axes>"
      ]
     },
     "metadata": {
      "needs_background": "light"
     },
     "output_type": "display_data"
    },
    {
     "data": {
      "image/png": "[encoded data removed]",
      "text/plain": [
       "<Figure size 360x360 with 1 Axes>"
      ]
     },
     "metadata": {
      "needs_background": "light"
     },
     "output_type": "display_data"
    },
    {
     "data": {
      "image/png": "[encoded data removed]",
      "text/plain": [
       "<Figure size 360x360 with 1 Axes>"
      ]
     },
     "metadata": {
      "needs_background": "light"
     },
     "output_type": "display_data"
    },
    {
     "data": {
      "image/png": "[encoded data removed]",
      "text/plain": [
       "<Figure size 360x360 with 1 Axes>"
      ]
     },
     "metadata": {
      "needs_background": "light"
     },
     "output_type": "display_data"
    }
   ],
   "source": [
    "for x in cat_var_list:\n",
    "    sns.catplot(data=df, kind='count', x=x)\n",
    "    plt.title('Distribution of %s' % x)\n",
    "    plt.show()"
   ]
  },
  {
   "cell_type": "code",
   "execution_count": 12,
   "metadata": {},
   "outputs": [
    {
     "data": {
      "image/png": "[encoded data removed]",
      "text/plain": [
       "<Figure size 411.875x360 with 1 Axes>"
      ]
     },
     "metadata": {
      "needs_background": "light"
     },
     "output_type": "display_data"
    },
    {
     "data": {
      "image/png": "[encoded data removed]",
      "text/plain": [
       "<Figure size 411.875x360 with 1 Axes>"
      ]
     },
     "metadata": {
      "needs_background": "light"
     },
     "output_type": "display_data"
    },
    {
     "data": {
      "image/png": "[encoded data removed]",
      "text/plain": [
       "<Figure size 411.875x360 with 1 Axes>"
      ]
     },
     "metadata": {
      "needs_background": "light"
     },
     "output_type": "display_data"
    },
    {
     "data": {
      "image/png": "[encoded data removed]",
      "text/plain": [
       "<Figure size 411.875x360 with 1 Axes>"
      ]
     },
     "metadata": {
      "needs_background": "light"
     },
     "output_type": "display_data"
    },
    {
     "data": {
      "image/png": "[encoded data removed]",
      "text/plain": [
       "<Figure size 411.875x360 with 1 Axes>"
      ]
     },
     "metadata": {
      "needs_background": "light"
     },
     "output_type": "display_data"
    }
   ],
   "source": [
    "for x in cat_var_list:\n",
    "    sns.catplot(data=df, kind='count', x=x, hue='Survived')\n",
    "    plt.title('Distribution of %s' % x)\n",
    "    plt.show()"
   ]
  },
  {
   "cell_type": "code",
   "execution_count": 16,
   "metadata": {},
   "outputs": [],
   "source": [
    "def create_pivot(df, index, values, aggfunc, columns=None):\n",
    "    if columns:\n",
    "        pvt = df.pivot_table(index=index+columns,values=values, aggfunc=aggfunc)\n",
    "    else:\n",
    "        pvt = df.pivot_table(index=index,values=values, aggfunc=aggfunc)\n",
    "    pvt_new = (pvt['sum']/pvt['len']).reset_index()\n",
    "    if columns:\n",
    "        pvt_new2 = pvt_new.pivot_table(index=index,values=values,columns=columns,aggfunc=aggfunc[0])\n",
    "    else:\n",
    "        pvt_new2 = pvt_new.pivot_table(index=index,values=values,aggfunc=[aggfunc[0]])\n",
    "    \n",
    "    pvt_new2.plot(kind='bar').legend()\n",
    "    print(pvt_new2)"
   ]
  },
  {
   "cell_type": "code",
   "execution_count": 17,
   "metadata": {},
   "outputs": [
    {
     "name": "stdout",
     "output_type": "stream",
     "text": [
      "             sum\n",
      "        Survived\n",
      "Pclass          \n",
      "1       0.629630\n",
      "2       0.472826\n",
      "3       0.242363\n"
     ]
    },
    {
     "data": {
      "image/png": "[encoded data removed]",
      "text/plain": [
       "<Figure size 432x288 with 1 Axes>"
      ]
     },
     "metadata": {
      "needs_background": "light"
     },
     "output_type": "display_data"
    }
   ],
   "source": [
    "create_pivot(df,index=['Pclass'],values=['Survived'],aggfunc=['sum',len])"
   ]
  },
  {
   "cell_type": "code",
   "execution_count": 18,
   "metadata": {},
   "outputs": [
    {
     "name": "stdout",
     "output_type": "stream",
     "text": [
      "             sum\n",
      "        Survived\n",
      "Sex             \n",
      "female  0.742038\n",
      "male    0.188908\n"
     ]
    },
    {
     "data": {
      "image/png": "[encoded data removed]",
      "text/plain": [
       "<Figure size 432x288 with 1 Axes>"
      ]
     },
     "metadata": {
      "needs_background": "light"
     },
     "output_type": "display_data"
    }
   ],
   "source": [
    "create_pivot(df,index=['Sex'],values=['Survived'],aggfunc=['sum',len])"
   ]
  },
  {
   "cell_type": "code",
   "execution_count": 19,
   "metadata": {},
   "outputs": [
    {
     "name": "stdout",
     "output_type": "stream",
     "text": [
      "            sum\n",
      "       Survived\n",
      "SibSp          \n",
      "0      0.345395\n",
      "1      0.535885\n",
      "2      0.464286\n",
      "3      0.250000\n",
      "4      0.166667\n",
      "5      0.000000\n",
      "8      0.000000\n"
     ]
    },
    {
     "data": {
      "image/png": "[encoded data removed]",
      "text/plain": [
       "<Figure size 432x288 with 1 Axes>"
      ]
     },
     "metadata": {
      "needs_background": "light"
     },
     "output_type": "display_data"
    }
   ],
   "source": [
    "create_pivot(df,index=['SibSp'],values=['Survived'],aggfunc=['sum',len])"
   ]
  },
  {
   "cell_type": "code",
   "execution_count": 20,
   "metadata": {},
   "outputs": [
    {
     "name": "stdout",
     "output_type": "stream",
     "text": [
      "               sum\n",
      "          Survived\n",
      "Embarked          \n",
      "C         0.553571\n",
      "Q         0.389610\n",
      "S         0.336957\n"
     ]
    },
    {
     "data": {
      "image/png": "[encoded data removed]",
      "text/plain": [
       "<Figure size 432x288 with 1 Axes>"
      ]
     },
     "metadata": {
      "needs_background": "light"
     },
     "output_type": "display_data"
    }
   ],
   "source": [
    "create_pivot(df,index=['Embarked'],values=['Survived'],aggfunc=['sum',len])"
   ]
  },
  {
   "cell_type": "code",
   "execution_count": 21,
   "metadata": {},
   "outputs": [
    {
     "name": "stdout",
     "output_type": "stream",
     "text": [
      "            sum\n",
      "       Survived\n",
      "Parch          \n",
      "0      0.343658\n",
      "1      0.550847\n",
      "2      0.500000\n",
      "3      0.600000\n",
      "4      0.000000\n",
      "5      0.200000\n",
      "6      0.000000\n"
     ]
    },
    {
     "data": {
      "image/png": "[encoded data removed]",
      "text/plain": [
       "<Figure size 432x288 with 1 Axes>"
      ]
     },
     "metadata": {
      "needs_background": "light"
     },
     "output_type": "display_data"
    }
   ],
   "source": [
    "create_pivot(df,index=['Parch'],values=['Survived'],aggfunc=['sum',len])"
   ]
  },
  {
   "cell_type": "code",
   "execution_count": 22,
   "metadata": {},
   "outputs": [
    {
     "name": "stdout",
     "output_type": "stream",
     "text": [
      "          Survived                    \n",
      "Embarked         C         Q         S\n",
      "Pclass                                \n",
      "1         0.694118  0.500000  0.582677\n",
      "2         0.529412  0.666667  0.463415\n",
      "3         0.378788  0.375000  0.189802\n"
     ]
    },
    {
     "data": {
      "image/png": "[encoded data removed]",
      "text/plain": [
       "<Figure size 432x288 with 1 Axes>"
      ]
     },
     "metadata": {
      "needs_background": "light"
     },
     "output_type": "display_data"
    }
   ],
   "source": [
    "create_pivot(df,index=['Pclass'],values=['Survived'],aggfunc=['sum',len],columns=['Embarked'])"
   ]
  },
  {
   "cell_type": "code",
   "execution_count": 23,
   "metadata": {},
   "outputs": [
    {
     "name": "stdout",
     "output_type": "stream",
     "text": [
      "          Survived                    \n",
      "Embarked         C         Q         S\n",
      "Sex                                   \n",
      "female    0.876712  0.750000  0.689655\n",
      "male      0.305263  0.073171  0.174603\n"
     ]
    },
    {
     "data": {
      "image/png": "[encoded data removed]",
      "text/plain": [
       "<Figure size 432x288 with 1 Axes>"
      ]
     },
     "metadata": {
      "needs_background": "light"
     },
     "output_type": "display_data"
    }
   ],
   "source": [
    "create_pivot(df,index=['Sex'],values=['Survived'],aggfunc=['sum',len],columns=['Embarked'])"
   ]
  },
  {
   "cell_type": "markdown",
   "metadata": {},
   "source": [
    "### Frequency Table"
   ]
  },
  {
   "cell_type": "code",
   "execution_count": 24,
   "metadata": {},
   "outputs": [
    {
     "data": {
      "text/plain": [
       "3    491\n",
       "1    216\n",
       "2    184\n",
       "Name: Pclass, dtype: int64"
      ]
     },
     "execution_count": 24,
     "metadata": {},
     "output_type": "execute_result"
    }
   ],
   "source": [
    "df['Pclass'].value_counts()"
   ]
  },
  {
   "cell_type": "code",
   "execution_count": 25,
   "metadata": {},
   "outputs": [
    {
     "data": {
      "text/plain": [
       "male      577\n",
       "female    314\n",
       "Name: Sex, dtype: int64"
      ]
     },
     "execution_count": 25,
     "metadata": {},
     "output_type": "execute_result"
    }
   ],
   "source": [
    "df['Sex'].value_counts()"
   ]
  },
  {
   "cell_type": "code",
   "execution_count": 26,
   "metadata": {},
   "outputs": [
    {
     "data": {
      "text/plain": [
       "0    608\n",
       "1    209\n",
       "2     28\n",
       "4     18\n",
       "3     16\n",
       "8      7\n",
       "5      5\n",
       "Name: SibSp, dtype: int64"
      ]
     },
     "execution_count": 26,
     "metadata": {},
     "output_type": "execute_result"
    }
   ],
   "source": [
    "df['SibSp'].value_counts()"
   ]
  },
  {
   "cell_type": "code",
   "execution_count": 27,
   "metadata": {},
   "outputs": [
    {
     "data": {
      "text/plain": [
       "0    678\n",
       "1    118\n",
       "2     80\n",
       "5      5\n",
       "3      5\n",
       "4      4\n",
       "6      1\n",
       "Name: Parch, dtype: int64"
      ]
     },
     "execution_count": 27,
     "metadata": {},
     "output_type": "execute_result"
    }
   ],
   "source": [
    "df['Parch'].value_counts()"
   ]
  },
  {
   "cell_type": "markdown",
   "metadata": {},
   "source": [
    "Average Fares by Pclass"
   ]
  },
  {
   "cell_type": "markdown",
   "metadata": {},
   "source": [
    "### Create dummy variables for category variables"
   ]
  },
  {
   "cell_type": "code",
   "execution_count": 28,
   "metadata": {},
   "outputs": [],
   "source": [
    "def create_dummies(df, var_list):\n",
    "    res = df.copy()\n",
    "    for var in var_list:\n",
    "        dummy = pd.get_dummies(res[var],prefix=var,drop_first=True)\n",
    "        res = pd.concat([res, dummy],axis=1)\n",
    "        res = res.drop([var],axis=1)\n",
    "    return res"
   ]
  },
  {
   "cell_type": "code",
   "execution_count": 29,
   "metadata": {},
   "outputs": [],
   "source": [
    "df_new = create_dummies(df, ['Pclass','Sex','Embarked'])"
   ]
  },
  {
   "cell_type": "code",
   "execution_count": 30,
   "metadata": {},
   "outputs": [],
   "source": [
    "df_new = df_new.drop(['PassengerId','Name','Ticket','Cabin'],axis=1)"
   ]
  },
  {
   "cell_type": "code",
   "execution_count": 31,
   "metadata": {},
   "outputs": [
    {
     "data": {
      "text/html": [
       "<div>\n",
       "<style scoped>\n",
       "    .dataframe tbody tr th:only-of-type {\n",
       "        vertical-align: middle;\n",
       "    }\n",
       "\n",
       "    .dataframe tbody tr th {\n",
       "        vertical-align: top;\n",
       "    }\n",
       "\n",
       "    .dataframe thead th {\n",
       "        text-align: right;\n",
       "    }\n",
       "</style>\n",
       "<table border=\"1\" class=\"dataframe\">\n",
       "  <thead>\n",
       "    <tr style=\"text-align: right;\">\n",
       "      <th></th>\n",
       "      <th>Survived</th>\n",
       "      <th>Age</th>\n",
       "      <th>SibSp</th>\n",
       "      <th>Parch</th>\n",
       "      <th>Fare</th>\n",
       "      <th>Pclass_2</th>\n",
       "      <th>Pclass_3</th>\n",
       "      <th>Sex_male</th>\n",
       "      <th>Embarked_Q</th>\n",
       "      <th>Embarked_S</th>\n",
       "    </tr>\n",
       "  </thead>\n",
       "  <tbody>\n",
       "    <tr>\n",
       "      <th>0</th>\n",
       "      <td>0</td>\n",
       "      <td>22.0</td>\n",
       "      <td>1</td>\n",
       "      <td>0</td>\n",
       "      <td>7.2500</td>\n",
       "      <td>0</td>\n",
       "      <td>1</td>\n",
       "      <td>1</td>\n",
       "      <td>0</td>\n",
       "      <td>1</td>\n",
       "    </tr>\n",
       "    <tr>\n",
       "      <th>1</th>\n",
       "      <td>1</td>\n",
       "      <td>38.0</td>\n",
       "      <td>1</td>\n",
       "      <td>0</td>\n",
       "      <td>71.2833</td>\n",
       "      <td>0</td>\n",
       "      <td>0</td>\n",
       "      <td>0</td>\n",
       "      <td>0</td>\n",
       "      <td>0</td>\n",
       "    </tr>\n",
       "    <tr>\n",
       "      <th>2</th>\n",
       "      <td>1</td>\n",
       "      <td>26.0</td>\n",
       "      <td>0</td>\n",
       "      <td>0</td>\n",
       "      <td>7.9250</td>\n",
       "      <td>0</td>\n",
       "      <td>1</td>\n",
       "      <td>0</td>\n",
       "      <td>0</td>\n",
       "      <td>1</td>\n",
       "    </tr>\n",
       "    <tr>\n",
       "      <th>3</th>\n",
       "      <td>1</td>\n",
       "      <td>35.0</td>\n",
       "      <td>1</td>\n",
       "      <td>0</td>\n",
       "      <td>53.1000</td>\n",
       "      <td>0</td>\n",
       "      <td>0</td>\n",
       "      <td>0</td>\n",
       "      <td>0</td>\n",
       "      <td>1</td>\n",
       "    </tr>\n",
       "    <tr>\n",
       "      <th>4</th>\n",
       "      <td>0</td>\n",
       "      <td>35.0</td>\n",
       "      <td>0</td>\n",
       "      <td>0</td>\n",
       "      <td>8.0500</td>\n",
       "      <td>0</td>\n",
       "      <td>1</td>\n",
       "      <td>1</td>\n",
       "      <td>0</td>\n",
       "      <td>1</td>\n",
       "    </tr>\n",
       "  </tbody>\n",
       "</table>\n",
       "</div>"
      ],
      "text/plain": [
       "   Survived   Age  SibSp  Parch     Fare  Pclass_2  Pclass_3  Sex_male  \\\n",
       "0         0  22.0      1      0   7.2500         0         1         1   \n",
       "1         1  38.0      1      0  71.2833         0         0         0   \n",
       "2         1  26.0      0      0   7.9250         0         1         0   \n",
       "3         1  35.0      1      0  53.1000         0         0         0   \n",
       "4         0  35.0      0      0   8.0500         0         1         1   \n",
       "\n",
       "   Embarked_Q  Embarked_S  \n",
       "0           0           1  \n",
       "1           0           0  \n",
       "2           0           1  \n",
       "3           0           1  \n",
       "4           0           1  "
      ]
     },
     "execution_count": 31,
     "metadata": {},
     "output_type": "execute_result"
    }
   ],
   "source": [
    "df_new.head()"
   ]
  },
  {
   "cell_type": "code",
   "execution_count": 32,
   "metadata": {},
   "outputs": [
    {
     "data": {
      "text/html": [
       "<div>\n",
       "<style scoped>\n",
       "    .dataframe tbody tr th:only-of-type {\n",
       "        vertical-align: middle;\n",
       "    }\n",
       "\n",
       "    .dataframe tbody tr th {\n",
       "        vertical-align: top;\n",
       "    }\n",
       "\n",
       "    .dataframe thead th {\n",
       "        text-align: right;\n",
       "    }\n",
       "</style>\n",
       "<table border=\"1\" class=\"dataframe\">\n",
       "  <thead>\n",
       "    <tr style=\"text-align: right;\">\n",
       "      <th></th>\n",
       "      <th>Survived</th>\n",
       "      <th>Age</th>\n",
       "      <th>SibSp</th>\n",
       "      <th>Parch</th>\n",
       "      <th>Fare</th>\n",
       "      <th>Pclass_2</th>\n",
       "      <th>Pclass_3</th>\n",
       "      <th>Sex_male</th>\n",
       "      <th>Embarked_Q</th>\n",
       "      <th>Embarked_S</th>\n",
       "    </tr>\n",
       "  </thead>\n",
       "  <tbody>\n",
       "    <tr>\n",
       "      <th>count</th>\n",
       "      <td>891.000000</td>\n",
       "      <td>714.000000</td>\n",
       "      <td>891.000000</td>\n",
       "      <td>891.000000</td>\n",
       "      <td>891.000000</td>\n",
       "      <td>891.000000</td>\n",
       "      <td>891.000000</td>\n",
       "      <td>891.000000</td>\n",
       "      <td>891.000000</td>\n",
       "      <td>891.000000</td>\n",
       "    </tr>\n",
       "    <tr>\n",
       "      <th>mean</th>\n",
       "      <td>0.383838</td>\n",
       "      <td>29.699118</td>\n",
       "      <td>0.523008</td>\n",
       "      <td>0.381594</td>\n",
       "      <td>32.204208</td>\n",
       "      <td>0.206510</td>\n",
       "      <td>0.551066</td>\n",
       "      <td>0.647587</td>\n",
       "      <td>0.086420</td>\n",
       "      <td>0.722783</td>\n",
       "    </tr>\n",
       "    <tr>\n",
       "      <th>std</th>\n",
       "      <td>0.486592</td>\n",
       "      <td>14.526497</td>\n",
       "      <td>1.102743</td>\n",
       "      <td>0.806057</td>\n",
       "      <td>49.693429</td>\n",
       "      <td>0.405028</td>\n",
       "      <td>0.497665</td>\n",
       "      <td>0.477990</td>\n",
       "      <td>0.281141</td>\n",
       "      <td>0.447876</td>\n",
       "    </tr>\n",
       "    <tr>\n",
       "      <th>min</th>\n",
       "      <td>0.000000</td>\n",
       "      <td>0.420000</td>\n",
       "      <td>0.000000</td>\n",
       "      <td>0.000000</td>\n",
       "      <td>0.000000</td>\n",
       "      <td>0.000000</td>\n",
       "      <td>0.000000</td>\n",
       "      <td>0.000000</td>\n",
       "      <td>0.000000</td>\n",
       "      <td>0.000000</td>\n",
       "    </tr>\n",
       "    <tr>\n",
       "      <th>25%</th>\n",
       "      <td>0.000000</td>\n",
       "      <td>20.125000</td>\n",
       "      <td>0.000000</td>\n",
       "      <td>0.000000</td>\n",
       "      <td>7.910400</td>\n",
       "      <td>0.000000</td>\n",
       "      <td>0.000000</td>\n",
       "      <td>0.000000</td>\n",
       "      <td>0.000000</td>\n",
       "      <td>0.000000</td>\n",
       "    </tr>\n",
       "    <tr>\n",
       "      <th>50%</th>\n",
       "      <td>0.000000</td>\n",
       "      <td>28.000000</td>\n",
       "      <td>0.000000</td>\n",
       "      <td>0.000000</td>\n",
       "      <td>14.454200</td>\n",
       "      <td>0.000000</td>\n",
       "      <td>1.000000</td>\n",
       "      <td>1.000000</td>\n",
       "      <td>0.000000</td>\n",
       "      <td>1.000000</td>\n",
       "    </tr>\n",
       "    <tr>\n",
       "      <th>75%</th>\n",
       "      <td>1.000000</td>\n",
       "      <td>38.000000</td>\n",
       "      <td>1.000000</td>\n",
       "      <td>0.000000</td>\n",
       "      <td>31.000000</td>\n",
       "      <td>0.000000</td>\n",
       "      <td>1.000000</td>\n",
       "      <td>1.000000</td>\n",
       "      <td>0.000000</td>\n",
       "      <td>1.000000</td>\n",
       "    </tr>\n",
       "    <tr>\n",
       "      <th>max</th>\n",
       "      <td>1.000000</td>\n",
       "      <td>80.000000</td>\n",
       "      <td>8.000000</td>\n",
       "      <td>6.000000</td>\n",
       "      <td>512.329200</td>\n",
       "      <td>1.000000</td>\n",
       "      <td>1.000000</td>\n",
       "      <td>1.000000</td>\n",
       "      <td>1.000000</td>\n",
       "      <td>1.000000</td>\n",
       "    </tr>\n",
       "  </tbody>\n",
       "</table>\n",
       "</div>"
      ],
      "text/plain": [
       "         Survived         Age       SibSp       Parch        Fare    Pclass_2  \\\n",
       "count  891.000000  714.000000  891.000000  891.000000  891.000000  891.000000   \n",
       "mean     0.383838   29.699118    0.523008    0.381594   32.204208    0.206510   \n",
       "std      0.486592   14.526497    1.102743    0.806057   49.693429    0.405028   \n",
       "min      0.000000    0.420000    0.000000    0.000000    0.000000    0.000000   \n",
       "25%      0.000000   20.125000    0.000000    0.000000    7.910400    0.000000   \n",
       "50%      0.000000   28.000000    0.000000    0.000000   14.454200    0.000000   \n",
       "75%      1.000000   38.000000    1.000000    0.000000   31.000000    0.000000   \n",
       "max      1.000000   80.000000    8.000000    6.000000  512.329200    1.000000   \n",
       "\n",
       "         Pclass_3    Sex_male  Embarked_Q  Embarked_S  \n",
       "count  891.000000  891.000000  891.000000  891.000000  \n",
       "mean     0.551066    0.647587    0.086420    0.722783  \n",
       "std      0.497665    0.477990    0.281141    0.447876  \n",
       "min      0.000000    0.000000    0.000000    0.000000  \n",
       "25%      0.000000    0.000000    0.000000    0.000000  \n",
       "50%      1.000000    1.000000    0.000000    1.000000  \n",
       "75%      1.000000    1.000000    0.000000    1.000000  \n",
       "max      1.000000    1.000000    1.000000    1.000000  "
      ]
     },
     "execution_count": 32,
     "metadata": {},
     "output_type": "execute_result"
    }
   ],
   "source": [
    "df_new.describe()"
   ]
  },
  {
   "cell_type": "markdown",
   "metadata": {},
   "source": [
    "### Check Missing Values"
   ]
  },
  {
   "cell_type": "code",
   "execution_count": 33,
   "metadata": {},
   "outputs": [
    {
     "data": {
      "text/plain": [
       "Survived        0\n",
       "Age           177\n",
       "SibSp           0\n",
       "Parch           0\n",
       "Fare            0\n",
       "Pclass_2        0\n",
       "Pclass_3        0\n",
       "Sex_male        0\n",
       "Embarked_Q      0\n",
       "Embarked_S      0\n",
       "dtype: int64"
      ]
     },
     "execution_count": 33,
     "metadata": {},
     "output_type": "execute_result"
    }
   ],
   "source": [
    "df_new.isnull().sum()"
   ]
  },
  {
   "cell_type": "markdown",
   "metadata": {},
   "source": [
    "#### impute missing with mean"
   ]
  },
  {
   "cell_type": "code",
   "execution_count": 34,
   "metadata": {},
   "outputs": [],
   "source": [
    "df_new = df_new.fillna({'Age': df_new['Age'].mean()})"
   ]
  },
  {
   "cell_type": "code",
   "execution_count": 35,
   "metadata": {},
   "outputs": [
    {
     "data": {
      "text/plain": [
       "Survived      0\n",
       "Age           0\n",
       "SibSp         0\n",
       "Parch         0\n",
       "Fare          0\n",
       "Pclass_2      0\n",
       "Pclass_3      0\n",
       "Sex_male      0\n",
       "Embarked_Q    0\n",
       "Embarked_S    0\n",
       "dtype: int64"
      ]
     },
     "execution_count": 35,
     "metadata": {},
     "output_type": "execute_result"
    }
   ],
   "source": [
    "df_new.isnull().sum()"
   ]
  },
  {
   "cell_type": "markdown",
   "metadata": {},
   "source": [
    "### Create target and X variables and split into Train and Test"
   ]
  },
  {
   "cell_type": "code",
   "execution_count": 36,
   "metadata": {},
   "outputs": [],
   "source": [
    "y = df_new['Survived']\n",
    "X = df_new.drop(['Survived'],axis=1)"
   ]
  },
  {
   "cell_type": "code",
   "execution_count": 37,
   "metadata": {},
   "outputs": [],
   "source": [
    "x_train, x_test, y_train, y_test = train_test_split(X, y, test_size=0.3, random_state=0)"
   ]
  },
  {
   "cell_type": "markdown",
   "metadata": {},
   "source": [
    "### prepare the same process for dataset without ground truth"
   ]
  },
  {
   "cell_type": "code",
   "execution_count": 38,
   "metadata": {},
   "outputs": [],
   "source": [
    "X_wo_truth = pd.read_csv('test.csv')"
   ]
  },
  {
   "cell_type": "code",
   "execution_count": 39,
   "metadata": {},
   "outputs": [
    {
     "data": {
      "text/html": [
       "<div>\n",
       "<style scoped>\n",
       "    .dataframe tbody tr th:only-of-type {\n",
       "        vertical-align: middle;\n",
       "    }\n",
       "\n",
       "    .dataframe tbody tr th {\n",
       "        vertical-align: top;\n",
       "    }\n",
       "\n",
       "    .dataframe thead th {\n",
       "        text-align: right;\n",
       "    }\n",
       "</style>\n",
       "<table border=\"1\" class=\"dataframe\">\n",
       "  <thead>\n",
       "    <tr style=\"text-align: right;\">\n",
       "      <th></th>\n",
       "      <th>PassengerId</th>\n",
       "      <th>Pclass</th>\n",
       "      <th>Name</th>\n",
       "      <th>Sex</th>\n",
       "      <th>Age</th>\n",
       "      <th>SibSp</th>\n",
       "      <th>Parch</th>\n",
       "      <th>Ticket</th>\n",
       "      <th>Fare</th>\n",
       "      <th>Cabin</th>\n",
       "      <th>Embarked</th>\n",
       "    </tr>\n",
       "  </thead>\n",
       "  <tbody>\n",
       "    <tr>\n",
       "      <th>0</th>\n",
       "      <td>892</td>\n",
       "      <td>3</td>\n",
       "      <td>Kelly, Mr. James</td>\n",
       "      <td>male</td>\n",
       "      <td>34.5</td>\n",
       "      <td>0</td>\n",
       "      <td>0</td>\n",
       "      <td>330911</td>\n",
       "      <td>7.8292</td>\n",
       "      <td>NaN</td>\n",
       "      <td>Q</td>\n",
       "    </tr>\n",
       "    <tr>\n",
       "      <th>1</th>\n",
       "      <td>893</td>\n",
       "      <td>3</td>\n",
       "      <td>Wilkes, Mrs. James (Ellen Needs)</td>\n",
       "      <td>female</td>\n",
       "      <td>47.0</td>\n",
       "      <td>1</td>\n",
       "      <td>0</td>\n",
       "      <td>363272</td>\n",
       "      <td>7.0000</td>\n",
       "      <td>NaN</td>\n",
       "      <td>S</td>\n",
       "    </tr>\n",
       "    <tr>\n",
       "      <th>2</th>\n",
       "      <td>894</td>\n",
       "      <td>2</td>\n",
       "      <td>Myles, Mr. Thomas Francis</td>\n",
       "      <td>male</td>\n",
       "      <td>62.0</td>\n",
       "      <td>0</td>\n",
       "      <td>0</td>\n",
       "      <td>240276</td>\n",
       "      <td>9.6875</td>\n",
       "      <td>NaN</td>\n",
       "      <td>Q</td>\n",
       "    </tr>\n",
       "    <tr>\n",
       "      <th>3</th>\n",
       "      <td>895</td>\n",
       "      <td>3</td>\n",
       "      <td>Wirz, Mr. Albert</td>\n",
       "      <td>male</td>\n",
       "      <td>27.0</td>\n",
       "      <td>0</td>\n",
       "      <td>0</td>\n",
       "      <td>315154</td>\n",
       "      <td>8.6625</td>\n",
       "      <td>NaN</td>\n",
       "      <td>S</td>\n",
       "    </tr>\n",
       "    <tr>\n",
       "      <th>4</th>\n",
       "      <td>896</td>\n",
       "      <td>3</td>\n",
       "      <td>Hirvonen, Mrs. Alexander (Helga E Lindqvist)</td>\n",
       "      <td>female</td>\n",
       "      <td>22.0</td>\n",
       "      <td>1</td>\n",
       "      <td>1</td>\n",
       "      <td>3101298</td>\n",
       "      <td>12.2875</td>\n",
       "      <td>NaN</td>\n",
       "      <td>S</td>\n",
       "    </tr>\n",
       "  </tbody>\n",
       "</table>\n",
       "</div>"
      ],
      "text/plain": [
       "   PassengerId  Pclass                                          Name     Sex  \\\n",
       "0          892       3                              Kelly, Mr. James    male   \n",
       "1          893       3              Wilkes, Mrs. James (Ellen Needs)  female   \n",
       "2          894       2                     Myles, Mr. Thomas Francis    male   \n",
       "3          895       3                              Wirz, Mr. Albert    male   \n",
       "4          896       3  Hirvonen, Mrs. Alexander (Helga E Lindqvist)  female   \n",
       "\n",
       "    Age  SibSp  Parch   Ticket     Fare Cabin Embarked  \n",
       "0  34.5      0      0   330911   7.8292   NaN        Q  \n",
       "1  47.0      1      0   363272   7.0000   NaN        S  \n",
       "2  62.0      0      0   240276   9.6875   NaN        Q  \n",
       "3  27.0      0      0   315154   8.6625   NaN        S  \n",
       "4  22.0      1      1  3101298  12.2875   NaN        S  "
      ]
     },
     "execution_count": 39,
     "metadata": {},
     "output_type": "execute_result"
    }
   ],
   "source": [
    "X_wo_truth.head()"
   ]
  },
  {
   "cell_type": "code",
   "execution_count": 40,
   "metadata": {},
   "outputs": [
    {
     "data": {
      "text/html": [
       "<div>\n",
       "<style scoped>\n",
       "    .dataframe tbody tr th:only-of-type {\n",
       "        vertical-align: middle;\n",
       "    }\n",
       "\n",
       "    .dataframe tbody tr th {\n",
       "        vertical-align: top;\n",
       "    }\n",
       "\n",
       "    .dataframe thead th {\n",
       "        text-align: right;\n",
       "    }\n",
       "</style>\n",
       "<table border=\"1\" class=\"dataframe\">\n",
       "  <thead>\n",
       "    <tr style=\"text-align: right;\">\n",
       "      <th></th>\n",
       "      <th>PassengerId</th>\n",
       "      <th>Pclass</th>\n",
       "      <th>Age</th>\n",
       "      <th>SibSp</th>\n",
       "      <th>Parch</th>\n",
       "      <th>Fare</th>\n",
       "    </tr>\n",
       "  </thead>\n",
       "  <tbody>\n",
       "    <tr>\n",
       "      <th>count</th>\n",
       "      <td>418.000000</td>\n",
       "      <td>418.000000</td>\n",
       "      <td>332.000000</td>\n",
       "      <td>418.000000</td>\n",
       "      <td>418.000000</td>\n",
       "      <td>417.000000</td>\n",
       "    </tr>\n",
       "    <tr>\n",
       "      <th>mean</th>\n",
       "      <td>1100.500000</td>\n",
       "      <td>2.265550</td>\n",
       "      <td>30.272590</td>\n",
       "      <td>0.447368</td>\n",
       "      <td>0.392344</td>\n",
       "      <td>35.627188</td>\n",
       "    </tr>\n",
       "    <tr>\n",
       "      <th>std</th>\n",
       "      <td>120.810458</td>\n",
       "      <td>0.841838</td>\n",
       "      <td>14.181209</td>\n",
       "      <td>0.896760</td>\n",
       "      <td>0.981429</td>\n",
       "      <td>55.907576</td>\n",
       "    </tr>\n",
       "    <tr>\n",
       "      <th>min</th>\n",
       "      <td>892.000000</td>\n",
       "      <td>1.000000</td>\n",
       "      <td>0.170000</td>\n",
       "      <td>0.000000</td>\n",
       "      <td>0.000000</td>\n",
       "      <td>0.000000</td>\n",
       "    </tr>\n",
       "    <tr>\n",
       "      <th>25%</th>\n",
       "      <td>996.250000</td>\n",
       "      <td>1.000000</td>\n",
       "      <td>21.000000</td>\n",
       "      <td>0.000000</td>\n",
       "      <td>0.000000</td>\n",
       "      <td>7.895800</td>\n",
       "    </tr>\n",
       "    <tr>\n",
       "      <th>50%</th>\n",
       "      <td>1100.500000</td>\n",
       "      <td>3.000000</td>\n",
       "      <td>27.000000</td>\n",
       "      <td>0.000000</td>\n",
       "      <td>0.000000</td>\n",
       "      <td>14.454200</td>\n",
       "    </tr>\n",
       "    <tr>\n",
       "      <th>75%</th>\n",
       "      <td>1204.750000</td>\n",
       "      <td>3.000000</td>\n",
       "      <td>39.000000</td>\n",
       "      <td>1.000000</td>\n",
       "      <td>0.000000</td>\n",
       "      <td>31.500000</td>\n",
       "    </tr>\n",
       "    <tr>\n",
       "      <th>max</th>\n",
       "      <td>1309.000000</td>\n",
       "      <td>3.000000</td>\n",
       "      <td>76.000000</td>\n",
       "      <td>8.000000</td>\n",
       "      <td>9.000000</td>\n",
       "      <td>512.329200</td>\n",
       "    </tr>\n",
       "  </tbody>\n",
       "</table>\n",
       "</div>"
      ],
      "text/plain": [
       "       PassengerId      Pclass         Age       SibSp       Parch        Fare\n",
       "count   418.000000  418.000000  332.000000  418.000000  418.000000  417.000000\n",
       "mean   1100.500000    2.265550   30.272590    0.447368    0.392344   35.627188\n",
       "std     120.810458    0.841838   14.181209    0.896760    0.981429   55.907576\n",
       "min     892.000000    1.000000    0.170000    0.000000    0.000000    0.000000\n",
       "25%     996.250000    1.000000   21.000000    0.000000    0.000000    7.895800\n",
       "50%    1100.500000    3.000000   27.000000    0.000000    0.000000   14.454200\n",
       "75%    1204.750000    3.000000   39.000000    1.000000    0.000000   31.500000\n",
       "max    1309.000000    3.000000   76.000000    8.000000    9.000000  512.329200"
      ]
     },
     "execution_count": 40,
     "metadata": {},
     "output_type": "execute_result"
    }
   ],
   "source": [
    "X_wo_truth.describe()"
   ]
  },
  {
   "cell_type": "code",
   "execution_count": 41,
   "metadata": {},
   "outputs": [],
   "source": [
    "X_wo_truth_new = create_dummies(X_wo_truth, ['Pclass','Sex','Embarked'])"
   ]
  },
  {
   "cell_type": "code",
   "execution_count": 42,
   "metadata": {},
   "outputs": [],
   "source": [
    "X_wo_truth_new = X_wo_truth_new.drop(['PassengerId','Name','Ticket','Cabin'],axis=1)"
   ]
  },
  {
   "cell_type": "code",
   "execution_count": 43,
   "metadata": {},
   "outputs": [
    {
     "data": {
      "text/html": [
       "<div>\n",
       "<style scoped>\n",
       "    .dataframe tbody tr th:only-of-type {\n",
       "        vertical-align: middle;\n",
       "    }\n",
       "\n",
       "    .dataframe tbody tr th {\n",
       "        vertical-align: top;\n",
       "    }\n",
       "\n",
       "    .dataframe thead th {\n",
       "        text-align: right;\n",
       "    }\n",
       "</style>\n",
       "<table border=\"1\" class=\"dataframe\">\n",
       "  <thead>\n",
       "    <tr style=\"text-align: right;\">\n",
       "      <th></th>\n",
       "      <th>Age</th>\n",
       "      <th>SibSp</th>\n",
       "      <th>Parch</th>\n",
       "      <th>Fare</th>\n",
       "      <th>Pclass_2</th>\n",
       "      <th>Pclass_3</th>\n",
       "      <th>Sex_male</th>\n",
       "      <th>Embarked_Q</th>\n",
       "      <th>Embarked_S</th>\n",
       "    </tr>\n",
       "  </thead>\n",
       "  <tbody>\n",
       "    <tr>\n",
       "      <th>0</th>\n",
       "      <td>34.5</td>\n",
       "      <td>0</td>\n",
       "      <td>0</td>\n",
       "      <td>7.8292</td>\n",
       "      <td>0</td>\n",
       "      <td>1</td>\n",
       "      <td>1</td>\n",
       "      <td>1</td>\n",
       "      <td>0</td>\n",
       "    </tr>\n",
       "    <tr>\n",
       "      <th>1</th>\n",
       "      <td>47.0</td>\n",
       "      <td>1</td>\n",
       "      <td>0</td>\n",
       "      <td>7.0000</td>\n",
       "      <td>0</td>\n",
       "      <td>1</td>\n",
       "      <td>0</td>\n",
       "      <td>0</td>\n",
       "      <td>1</td>\n",
       "    </tr>\n",
       "    <tr>\n",
       "      <th>2</th>\n",
       "      <td>62.0</td>\n",
       "      <td>0</td>\n",
       "      <td>0</td>\n",
       "      <td>9.6875</td>\n",
       "      <td>1</td>\n",
       "      <td>0</td>\n",
       "      <td>1</td>\n",
       "      <td>1</td>\n",
       "      <td>0</td>\n",
       "    </tr>\n",
       "    <tr>\n",
       "      <th>3</th>\n",
       "      <td>27.0</td>\n",
       "      <td>0</td>\n",
       "      <td>0</td>\n",
       "      <td>8.6625</td>\n",
       "      <td>0</td>\n",
       "      <td>1</td>\n",
       "      <td>1</td>\n",
       "      <td>0</td>\n",
       "      <td>1</td>\n",
       "    </tr>\n",
       "    <tr>\n",
       "      <th>4</th>\n",
       "      <td>22.0</td>\n",
       "      <td>1</td>\n",
       "      <td>1</td>\n",
       "      <td>12.2875</td>\n",
       "      <td>0</td>\n",
       "      <td>1</td>\n",
       "      <td>0</td>\n",
       "      <td>0</td>\n",
       "      <td>1</td>\n",
       "    </tr>\n",
       "  </tbody>\n",
       "</table>\n",
       "</div>"
      ],
      "text/plain": [
       "    Age  SibSp  Parch     Fare  Pclass_2  Pclass_3  Sex_male  Embarked_Q  \\\n",
       "0  34.5      0      0   7.8292         0         1         1           1   \n",
       "1  47.0      1      0   7.0000         0         1         0           0   \n",
       "2  62.0      0      0   9.6875         1         0         1           1   \n",
       "3  27.0      0      0   8.6625         0         1         1           0   \n",
       "4  22.0      1      1  12.2875         0         1         0           0   \n",
       "\n",
       "   Embarked_S  \n",
       "0           0  \n",
       "1           1  \n",
       "2           0  \n",
       "3           1  \n",
       "4           1  "
      ]
     },
     "execution_count": 43,
     "metadata": {},
     "output_type": "execute_result"
    }
   ],
   "source": [
    "X_wo_truth_new.head()"
   ]
  },
  {
   "cell_type": "code",
   "execution_count": 44,
   "metadata": {},
   "outputs": [
    {
     "data": {
      "text/plain": [
       "Age           86\n",
       "SibSp          0\n",
       "Parch          0\n",
       "Fare           1\n",
       "Pclass_2       0\n",
       "Pclass_3       0\n",
       "Sex_male       0\n",
       "Embarked_Q     0\n",
       "Embarked_S     0\n",
       "dtype: int64"
      ]
     },
     "execution_count": 44,
     "metadata": {},
     "output_type": "execute_result"
    }
   ],
   "source": [
    "X_wo_truth_new.isnull().sum()"
   ]
  },
  {
   "cell_type": "code",
   "execution_count": 45,
   "metadata": {},
   "outputs": [],
   "source": [
    "X_wo_truth_new =X_wo_truth_new.fillna({'Fare':df_new['Fare'].mean(),'Age':df_new['Age'].mean()})"
   ]
  },
  {
   "cell_type": "code",
   "execution_count": 46,
   "metadata": {},
   "outputs": [
    {
     "data": {
      "text/plain": [
       "Age           0\n",
       "SibSp         0\n",
       "Parch         0\n",
       "Fare          0\n",
       "Pclass_2      0\n",
       "Pclass_3      0\n",
       "Sex_male      0\n",
       "Embarked_Q    0\n",
       "Embarked_S    0\n",
       "dtype: int64"
      ]
     },
     "execution_count": 46,
     "metadata": {},
     "output_type": "execute_result"
    }
   ],
   "source": [
    "X_wo_truth_new.isnull().sum()"
   ]
  },
  {
   "cell_type": "markdown",
   "metadata": {},
   "source": [
    "# Logistics Regression"
   ]
  },
  {
   "cell_type": "markdown",
   "metadata": {},
   "source": [
    "#### fit Logistic regression"
   ]
  },
  {
   "cell_type": "code",
   "execution_count": 59,
   "metadata": {},
   "outputs": [
    {
     "data": {
      "text/plain": [
       "LogisticRegression(C=1.0, class_weight=None, dual=False, fit_intercept=True,\n",
       "          intercept_scaling=1, max_iter=100, multi_class='ovr', n_jobs=1,\n",
       "          penalty='l2', random_state=None, solver='liblinear', tol=0.0001,\n",
       "          verbose=0, warm_start=False)"
      ]
     },
     "execution_count": 59,
     "metadata": {},
     "output_type": "execute_result"
    }
   ],
   "source": [
    "logistic_reg = LogisticRegression()\n",
    "logistic_reg.fit(x_train, y_train)"
   ]
  },
  {
   "cell_type": "code",
   "execution_count": 60,
   "metadata": {},
   "outputs": [
    {
     "data": {
      "text/plain": [
       "array([[-0.02781847, -0.33293215, -0.08541962,  0.00438477, -0.38844473,\n",
       "        -1.50675918, -2.43663114,  0.13103533, -0.32443734]])"
      ]
     },
     "execution_count": 60,
     "metadata": {},
     "output_type": "execute_result"
    }
   ],
   "source": [
    "logistic_reg.coef_"
   ]
  },
  {
   "cell_type": "markdown",
   "metadata": {},
   "source": [
    "### Calculate AUC"
   ]
  },
  {
   "cell_type": "code",
   "execution_count": 48,
   "metadata": {
    "scrolled": true
   },
   "outputs": [
    {
     "data": {
      "text/plain": [
       "0.8550899112817509"
      ]
     },
     "execution_count": 48,
     "metadata": {},
     "output_type": "execute_result"
    }
   ],
   "source": [
    "roc_auc_score(y_train, logistic_reg.predict_proba(x_train)[:, 1])"
   ]
  },
  {
   "cell_type": "code",
   "execution_count": 49,
   "metadata": {},
   "outputs": [
    {
     "data": {
      "text/plain": [
       "0.8505357142857143"
      ]
     },
     "execution_count": 49,
     "metadata": {},
     "output_type": "execute_result"
    }
   ],
   "source": [
    "roc_auc_score(y_test, logistic_reg.predict_proba(x_test)[:, 1])"
   ]
  },
  {
   "cell_type": "code",
   "execution_count": 50,
   "metadata": {},
   "outputs": [],
   "source": [
    "def plot_roc_cur(model, x, y):\n",
    "    probs = model.predict_proba(x)\n",
    "    probs = probs[:,1]\n",
    "    fper, tper, thresholds = roc_curve(y, probs) \n",
    "    plt.plot(fper, tper, color='orange', label='ROC')\n",
    "    plt.plot([0, 1], [0, 1], color='darkblue', linestyle='--')\n",
    "    plt.xlabel('False Positive Rate')\n",
    "    plt.ylabel('True Positive Rate')\n",
    "    plt.title('Receiver Operating Characteristic (ROC) Curve')\n",
    "    plt.legend()\n",
    "    plt.show()"
   ]
  },
  {
   "cell_type": "code",
   "execution_count": 51,
   "metadata": {},
   "outputs": [
    {
     "data": {
      "image/png": "[encoded data removed]",
      "text/plain": [
       "<Figure size 432x288 with 1 Axes>"
      ]
     },
     "metadata": {
      "needs_background": "light"
     },
     "output_type": "display_data"
    }
   ],
   "source": [
    "plot_roc_cur(logistic_reg,x_test,y_test)"
   ]
  },
  {
   "cell_type": "markdown",
   "metadata": {},
   "source": [
    "#### Generate submission"
   ]
  },
  {
   "cell_type": "code",
   "execution_count": 52,
   "metadata": {},
   "outputs": [],
   "source": [
    "X_wo_truth_new_probs = logistic_reg.predict_proba(X_wo_truth_new)  \n",
    "X_wo_truth_new_preds = (X_wo_truth_new_probs[:, 1]>=0.5).astype(int)"
   ]
  },
  {
   "cell_type": "code",
   "execution_count": 53,
   "metadata": {},
   "outputs": [],
   "source": [
    "data ={\n",
    "    'PassengerId': list(X_wo_truth['PassengerId']),\n",
    "    'Survived': list(X_wo_truth_new_preds)\n",
    "}\n",
    "submission = pd.DataFrame(data)"
   ]
  },
  {
   "cell_type": "code",
   "execution_count": 72,
   "metadata": {},
   "outputs": [],
   "source": [
    "submission.to_csv('20210226_submission_1_Logistic.csv')"
   ]
  },
  {
   "cell_type": "markdown",
   "metadata": {},
   "source": [
    "## Save and load trained models"
   ]
  },
  {
   "cell_type": "code",
   "execution_count": 199,
   "metadata": {},
   "outputs": [],
   "source": [
    "pickle.dump(logistic_reg, open('logistic_reg.model', 'wb'))\n",
    "bst = pickle.load(open('logistic_reg.model', 'rb'))"
   ]
  },
  {
   "cell_type": "code",
   "execution_count": 200,
   "metadata": {},
   "outputs": [
    {
     "data": {
      "image/png": "[encoded data removed]",
      "text/plain": [
       "<Figure size 432x288 with 1 Axes>"
      ]
     },
     "metadata": {
      "needs_background": "light"
     },
     "output_type": "display_data"
    }
   ],
   "source": [
    "plot_roc_cur(bst,x_test,y_test)"
   ]
  },
  {
   "cell_type": "markdown",
   "metadata": {},
   "source": [
    "### Logistic Regression with regulations L1, L2"
   ]
  },
  {
   "cell_type": "code",
   "execution_count": 54,
   "metadata": {},
   "outputs": [
    {
     "data": {
      "text/plain": [
       "LogisticRegression(C=1.0, class_weight=None, dual=False, fit_intercept=True,\n",
       "          intercept_scaling=10000.0, max_iter=1000000, multi_class='ovr',\n",
       "          n_jobs=1, penalty='l1', random_state=None, solver='liblinear',\n",
       "          tol=1e-06, verbose=0, warm_start=True)"
      ]
     },
     "execution_count": 54,
     "metadata": {},
     "output_type": "execute_result"
    }
   ],
   "source": [
    "logistic_reg = LogisticRegression(penalty='l1', solver='liblinear',\n",
    "                                      tol=1e-6, max_iter=int(1e6),\n",
    "                                      warm_start=True,\n",
    "                                      intercept_scaling=10000.)\n",
    "logistic_reg.fit(x_train, y_train)"
   ]
  },
  {
   "cell_type": "code",
   "execution_count": 55,
   "metadata": {},
   "outputs": [
    {
     "data": {
      "text/plain": [
       "0.8585822433352857"
      ]
     },
     "execution_count": 55,
     "metadata": {},
     "output_type": "execute_result"
    }
   ],
   "source": [
    "roc_auc_score(y_train, logistic_reg.predict_proba(x_train)[:, 1])"
   ]
  },
  {
   "cell_type": "code",
   "execution_count": 56,
   "metadata": {},
   "outputs": [
    {
     "data": {
      "text/plain": [
       "0.8528571428571428"
      ]
     },
     "execution_count": 56,
     "metadata": {},
     "output_type": "execute_result"
    }
   ],
   "source": [
    "roc_auc_score(y_test, logistic_reg.predict_proba(x_test)[:, 1])"
   ]
  },
  {
   "cell_type": "code",
   "execution_count": 57,
   "metadata": {},
   "outputs": [
    {
     "data": {
      "image/png": "[encoded data removed]",
      "text/plain": [
       "<Figure size 432x288 with 1 Axes>"
      ]
     },
     "metadata": {
      "needs_background": "light"
     },
     "output_type": "display_data"
    }
   ],
   "source": [
    "plot_roc_cur(logistic_reg,x_test,y_test)"
   ]
  },
  {
   "cell_type": "code",
   "execution_count": 58,
   "metadata": {},
   "outputs": [
    {
     "data": {
      "text/plain": [
       "array([[-3.76890825e-02, -3.67670050e-01, -9.67945782e-02,\n",
       "         2.35658599e-03, -6.58251348e-01, -1.88543768e+00,\n",
       "        -2.65291036e+00,  0.00000000e+00, -4.57357645e-01]])"
      ]
     },
     "execution_count": 58,
     "metadata": {},
     "output_type": "execute_result"
    }
   ],
   "source": [
    "logistic_reg.coef_"
   ]
  },
  {
   "cell_type": "markdown",
   "metadata": {},
   "source": [
    "# Ramdom Forest"
   ]
  },
  {
   "cell_type": "markdown",
   "metadata": {},
   "source": [
    "#### fit Random Forest"
   ]
  },
  {
   "cell_type": "code",
   "execution_count": 73,
   "metadata": {},
   "outputs": [
    {
     "data": {
      "text/plain": [
       "RandomForestClassifier(bootstrap=True, class_weight=None, criterion='gini',\n",
       "            max_depth=None, max_features='auto', max_leaf_nodes=None,\n",
       "            min_impurity_decrease=0.0, min_impurity_split=None,\n",
       "            min_samples_leaf=1, min_samples_split=2,\n",
       "            min_weight_fraction_leaf=0.0, n_estimators=1000, n_jobs=1,\n",
       "            oob_score=False, random_state=42, verbose=0, warm_start=False)"
      ]
     },
     "execution_count": 73,
     "metadata": {},
     "output_type": "execute_result"
    }
   ],
   "source": [
    "rf = RandomForestClassifier(n_estimators = 1000, random_state = 42)\n",
    "rf.fit(x_train, y_train)"
   ]
  },
  {
   "cell_type": "markdown",
   "metadata": {},
   "source": [
    "#### AUC"
   ]
  },
  {
   "cell_type": "code",
   "execution_count": 74,
   "metadata": {},
   "outputs": [
    {
     "data": {
      "text/plain": [
       "0.9977766208975944"
      ]
     },
     "execution_count": 74,
     "metadata": {},
     "output_type": "execute_result"
    }
   ],
   "source": [
    "roc_auc_score(y_train, rf.predict_proba(x_train)[:, 1])"
   ]
  },
  {
   "cell_type": "code",
   "execution_count": 75,
   "metadata": {},
   "outputs": [
    {
     "data": {
      "text/plain": [
       "0.880267857142857"
      ]
     },
     "execution_count": 75,
     "metadata": {},
     "output_type": "execute_result"
    }
   ],
   "source": [
    "roc_auc_score(y_test, rf.predict_proba(x_test)[:, 1])"
   ]
  },
  {
   "cell_type": "code",
   "execution_count": 76,
   "metadata": {},
   "outputs": [
    {
     "data": {
      "image/png": "[encoded data removed]",
      "text/plain": [
       "<Figure size 432x288 with 1 Axes>"
      ]
     },
     "metadata": {
      "needs_background": "light"
     },
     "output_type": "display_data"
    }
   ],
   "source": [
    "plot_roc_cur(rf,x_test,y_test)"
   ]
  },
  {
   "cell_type": "code",
   "execution_count": 77,
   "metadata": {},
   "outputs": [],
   "source": [
    "X_wo_truth_new_probs = rf.predict_proba(X_wo_truth_new)  \n",
    "X_wo_truth_new_preds = (X_wo_truth_new_probs[:, 1]>=0.5).astype(int)\n",
    "\n",
    "data ={\n",
    "    'PassengerId': list(X_wo_truth['PassengerId']),\n",
    "    'Survived': list(X_wo_truth_new_preds)\n",
    "}\n",
    "submission = pd.DataFrame(data)\n",
    "\n",
    "submission.to_csv('20210226_submission_2_Random_Forest_without_tuning.csv')"
   ]
  },
  {
   "cell_type": "markdown",
   "metadata": {},
   "source": [
    "### Feature Importance"
   ]
  },
  {
   "cell_type": "code",
   "execution_count": 81,
   "metadata": {},
   "outputs": [],
   "source": [
    "def create_feature_importance(model, x):\n",
    "    importances = list(model.feature_importances_)\n",
    "    feature_importances = [(feature, round(importance, 2)) for feature, importance in zip(x_train.columns, importances)]\n",
    "    feature_importances = sorted(feature_importances, key = lambda x: x[1], reverse = True)\n",
    "    [print('Variable: {:20} Importance: {}'.format(*pair)) for pair in feature_importances]\n",
    "    \n",
    "    ls1 = [x[0] for x in feature_importances]\n",
    "    ls2 = [x[1] for x in feature_importances]\n",
    "    ls1.reverse()\n",
    "    ls2.reverse()\n",
    "    plt.barh(ls1, ls2)"
   ]
  },
  {
   "cell_type": "code",
   "execution_count": 82,
   "metadata": {},
   "outputs": [
    {
     "name": "stdout",
     "output_type": "stream",
     "text": [
      "Variable: Age                  Importance: 0.27\n",
      "Variable: Sex_male             Importance: 0.27\n",
      "Variable: Fare                 Importance: 0.25\n",
      "Variable: Pclass_3             Importance: 0.07\n",
      "Variable: SibSp                Importance: 0.05\n",
      "Variable: Parch                Importance: 0.04\n",
      "Variable: Embarked_S           Importance: 0.03\n",
      "Variable: Pclass_2             Importance: 0.02\n",
      "Variable: Embarked_Q           Importance: 0.01\n"
     ]
    },
    {
     "data": {
      "image/png": "[encoded data removed]",
      "text/plain": [
       "<Figure size 432x288 with 1 Axes>"
      ]
     },
     "metadata": {
      "needs_background": "light"
     },
     "output_type": "display_data"
    }
   ],
   "source": [
    "create_feature_importance(rf, x_train)"
   ]
  },
  {
   "cell_type": "markdown",
   "metadata": {},
   "source": [
    "## Hyper-parameter tuning"
   ]
  },
  {
   "cell_type": "code",
   "execution_count": 312,
   "metadata": {},
   "outputs": [
    {
     "data": {
      "text/plain": [
       "{'bootstrap': True,\n",
       " 'class_weight': None,\n",
       " 'criterion': 'gini',\n",
       " 'max_depth': None,\n",
       " 'max_features': 'auto',\n",
       " 'max_leaf_nodes': None,\n",
       " 'min_impurity_decrease': 0.0,\n",
       " 'min_impurity_split': None,\n",
       " 'min_samples_leaf': 1,\n",
       " 'min_samples_split': 2,\n",
       " 'min_weight_fraction_leaf': 0.0,\n",
       " 'n_estimators': 1000,\n",
       " 'n_jobs': 1,\n",
       " 'oob_score': False,\n",
       " 'random_state': 42,\n",
       " 'verbose': 0,\n",
       " 'warm_start': False}"
      ]
     },
     "execution_count": 312,
     "metadata": {},
     "output_type": "execute_result"
    }
   ],
   "source": [
    "rf.get_params()"
   ]
  },
  {
   "cell_type": "markdown",
   "metadata": {},
   "source": [
    "### Random Search"
   ]
  },
  {
   "cell_type": "code",
   "execution_count": 83,
   "metadata": {},
   "outputs": [],
   "source": [
    "# Number of trees in random forest\n",
    "n_estimators = [int(x) for x in np.linspace(start = 200, stop = 2000, num = 10)]\n",
    "# Number of features to consider at every split\n",
    "max_features = ['auto', 'sqrt']\n",
    "# Maximum number of levels in tree\n",
    "max_depth = [int(x) for x in np.linspace(1, 10, num = 10)]\n",
    "max_depth.append(None)\n",
    "# Minimum number of samples required to split a node\n",
    "min_samples_split = [2, 5, 10]\n",
    "# Minimum number of samples required at each leaf node\n",
    "min_samples_leaf = [1, 2, 4]\n",
    "# Method of selecting samples for training each tree\n",
    "bootstrap = [True, False]\n",
    "# Create the random grid\n",
    "random_grid = {'n_estimators': n_estimators,\n",
    "               'max_features': max_features,\n",
    "               'max_depth': max_depth,\n",
    "               'min_samples_split': min_samples_split,\n",
    "               'min_samples_leaf': min_samples_leaf,\n",
    "               'bootstrap': bootstrap}"
   ]
  },
  {
   "cell_type": "code",
   "execution_count": 84,
   "metadata": {},
   "outputs": [
    {
     "data": {
      "text/plain": [
       "{'bootstrap': [True, False],\n",
       " 'max_depth': [1, 2, 3, 4, 5, 6, 7, 8, 9, 10, None],\n",
       " 'max_features': ['auto', 'sqrt'],\n",
       " 'min_samples_leaf': [1, 2, 4],\n",
       " 'min_samples_split': [2, 5, 10],\n",
       " 'n_estimators': [200, 400, 600, 800, 1000, 1200, 1400, 1600, 1800, 2000]}"
      ]
     },
     "execution_count": 84,
     "metadata": {},
     "output_type": "execute_result"
    }
   ],
   "source": [
    "random_grid"
   ]
  },
  {
   "cell_type": "code",
   "execution_count": 207,
   "metadata": {},
   "outputs": [
    {
     "name": "stdout",
     "output_type": "stream",
     "text": [
      "Fitting 3 folds for each of 100 candidates, totalling 300 fits\n"
     ]
    },
    {
     "name": "stderr",
     "output_type": "stream",
     "text": [
      "[Parallel(n_jobs=-1)]: Done  25 tasks      | elapsed:   26.5s\n"
     ]
    },
    {
     "ename": "KeyboardInterrupt",
     "evalue": "",
     "output_type": "error",
     "traceback": [
      "\u001b[1;31m---------------------------------------------------------------------------\u001b[0m",
      "\u001b[1;31mKeyboardInterrupt\u001b[0m                         Traceback (most recent call last)",
      "\u001b[1;32m<ipython-input-207-aa9d63529d20>\u001b[0m in \u001b[0;36m<module>\u001b[1;34m()\u001b[0m\n\u001b[0;32m      6\u001b[0m \u001b[0mrf_random\u001b[0m \u001b[1;33m=\u001b[0m \u001b[0mRandomizedSearchCV\u001b[0m\u001b[1;33m(\u001b[0m\u001b[0mestimator\u001b[0m \u001b[1;33m=\u001b[0m \u001b[0mrf\u001b[0m\u001b[1;33m,\u001b[0m \u001b[0mparam_distributions\u001b[0m \u001b[1;33m=\u001b[0m \u001b[0mrandom_grid\u001b[0m\u001b[1;33m,\u001b[0m \u001b[0mn_iter\u001b[0m \u001b[1;33m=\u001b[0m \u001b[1;36m100\u001b[0m\u001b[1;33m,\u001b[0m \u001b[0mcv\u001b[0m \u001b[1;33m=\u001b[0m \u001b[1;36m3\u001b[0m\u001b[1;33m,\u001b[0m \u001b[0mverbose\u001b[0m\u001b[1;33m=\u001b[0m\u001b[1;36m2\u001b[0m\u001b[1;33m,\u001b[0m \u001b[0mrandom_state\u001b[0m\u001b[1;33m=\u001b[0m\u001b[1;36m42\u001b[0m\u001b[1;33m,\u001b[0m \u001b[0mn_jobs\u001b[0m \u001b[1;33m=\u001b[0m \u001b[1;33m-\u001b[0m\u001b[1;36m1\u001b[0m\u001b[1;33m)\u001b[0m\u001b[1;33m\u001b[0m\u001b[0m\n\u001b[0;32m      7\u001b[0m \u001b[1;31m# Fit the random search model\u001b[0m\u001b[1;33m\u001b[0m\u001b[1;33m\u001b[0m\u001b[0m\n\u001b[1;32m----> 8\u001b[1;33m \u001b[0mrf_random\u001b[0m\u001b[1;33m.\u001b[0m\u001b[0mfit\u001b[0m\u001b[1;33m(\u001b[0m\u001b[0mx_train\u001b[0m\u001b[1;33m,\u001b[0m \u001b[0my_train\u001b[0m\u001b[1;33m)\u001b[0m\u001b[1;33m\u001b[0m\u001b[0m\n\u001b[0m",
      "\u001b[1;32mC:\\Anaconda3\\lib\\site-packages\\sklearn\\model_selection\\_search.py\u001b[0m in \u001b[0;36mfit\u001b[1;34m(self, X, y, groups, **fit_params)\u001b[0m\n\u001b[0;32m    637\u001b[0m                                   error_score=self.error_score)\n\u001b[0;32m    638\u001b[0m           for parameters, (train, test) in product(candidate_params,\n\u001b[1;32m--> 639\u001b[1;33m                                                    cv.split(X, y, groups)))\n\u001b[0m\u001b[0;32m    640\u001b[0m \u001b[1;33m\u001b[0m\u001b[0m\n\u001b[0;32m    641\u001b[0m         \u001b[1;31m# if one choose to see train score, \"out\" will contain train score info\u001b[0m\u001b[1;33m\u001b[0m\u001b[1;33m\u001b[0m\u001b[0m\n",
      "\u001b[1;32mC:\\Anaconda3\\lib\\site-packages\\sklearn\\externals\\joblib\\parallel.py\u001b[0m in \u001b[0;36m__call__\u001b[1;34m(self, iterable)\u001b[0m\n\u001b[0;32m    787\u001b[0m                 \u001b[1;31m# consumption.\u001b[0m\u001b[1;33m\u001b[0m\u001b[1;33m\u001b[0m\u001b[0m\n\u001b[0;32m    788\u001b[0m                 \u001b[0mself\u001b[0m\u001b[1;33m.\u001b[0m\u001b[0m_iterating\u001b[0m \u001b[1;33m=\u001b[0m \u001b[1;32mFalse\u001b[0m\u001b[1;33m\u001b[0m\u001b[0m\n\u001b[1;32m--> 789\u001b[1;33m             \u001b[0mself\u001b[0m\u001b[1;33m.\u001b[0m\u001b[0mretrieve\u001b[0m\u001b[1;33m(\u001b[0m\u001b[1;33m)\u001b[0m\u001b[1;33m\u001b[0m\u001b[0m\n\u001b[0m\u001b[0;32m    790\u001b[0m             \u001b[1;31m# Make sure that we get a last message telling us we are done\u001b[0m\u001b[1;33m\u001b[0m\u001b[1;33m\u001b[0m\u001b[0m\n\u001b[0;32m    791\u001b[0m             \u001b[0melapsed_time\u001b[0m \u001b[1;33m=\u001b[0m \u001b[0mtime\u001b[0m\u001b[1;33m.\u001b[0m\u001b[0mtime\u001b[0m\u001b[1;33m(\u001b[0m\u001b[1;33m)\u001b[0m \u001b[1;33m-\u001b[0m \u001b[0mself\u001b[0m\u001b[1;33m.\u001b[0m\u001b[0m_start_time\u001b[0m\u001b[1;33m\u001b[0m\u001b[0m\n",
      "\u001b[1;32mC:\\Anaconda3\\lib\\site-packages\\sklearn\\externals\\joblib\\parallel.py\u001b[0m in \u001b[0;36mretrieve\u001b[1;34m(self)\u001b[0m\n\u001b[0;32m    697\u001b[0m             \u001b[1;32mtry\u001b[0m\u001b[1;33m:\u001b[0m\u001b[1;33m\u001b[0m\u001b[0m\n\u001b[0;32m    698\u001b[0m                 \u001b[1;32mif\u001b[0m \u001b[0mgetattr\u001b[0m\u001b[1;33m(\u001b[0m\u001b[0mself\u001b[0m\u001b[1;33m.\u001b[0m\u001b[0m_backend\u001b[0m\u001b[1;33m,\u001b[0m \u001b[1;34m'supports_timeout'\u001b[0m\u001b[1;33m,\u001b[0m \u001b[1;32mFalse\u001b[0m\u001b[1;33m)\u001b[0m\u001b[1;33m:\u001b[0m\u001b[1;33m\u001b[0m\u001b[0m\n\u001b[1;32m--> 699\u001b[1;33m                     \u001b[0mself\u001b[0m\u001b[1;33m.\u001b[0m\u001b[0m_output\u001b[0m\u001b[1;33m.\u001b[0m\u001b[0mextend\u001b[0m\u001b[1;33m(\u001b[0m\u001b[0mjob\u001b[0m\u001b[1;33m.\u001b[0m\u001b[0mget\u001b[0m\u001b[1;33m(\u001b[0m\u001b[0mtimeout\u001b[0m\u001b[1;33m=\u001b[0m\u001b[0mself\u001b[0m\u001b[1;33m.\u001b[0m\u001b[0mtimeout\u001b[0m\u001b[1;33m)\u001b[0m\u001b[1;33m)\u001b[0m\u001b[1;33m\u001b[0m\u001b[0m\n\u001b[0m\u001b[0;32m    700\u001b[0m                 \u001b[1;32melse\u001b[0m\u001b[1;33m:\u001b[0m\u001b[1;33m\u001b[0m\u001b[0m\n\u001b[0;32m    701\u001b[0m                     \u001b[0mself\u001b[0m\u001b[1;33m.\u001b[0m\u001b[0m_output\u001b[0m\u001b[1;33m.\u001b[0m\u001b[0mextend\u001b[0m\u001b[1;33m(\u001b[0m\u001b[0mjob\u001b[0m\u001b[1;33m.\u001b[0m\u001b[0mget\u001b[0m\u001b[1;33m(\u001b[0m\u001b[1;33m)\u001b[0m\u001b[1;33m)\u001b[0m\u001b[1;33m\u001b[0m\u001b[0m\n",
      "\u001b[1;32mC:\\Anaconda3\\lib\\multiprocessing\\pool.py\u001b[0m in \u001b[0;36mget\u001b[1;34m(self, timeout)\u001b[0m\n\u001b[0;32m    636\u001b[0m \u001b[1;33m\u001b[0m\u001b[0m\n\u001b[0;32m    637\u001b[0m     \u001b[1;32mdef\u001b[0m \u001b[0mget\u001b[0m\u001b[1;33m(\u001b[0m\u001b[0mself\u001b[0m\u001b[1;33m,\u001b[0m \u001b[0mtimeout\u001b[0m\u001b[1;33m=\u001b[0m\u001b[1;32mNone\u001b[0m\u001b[1;33m)\u001b[0m\u001b[1;33m:\u001b[0m\u001b[1;33m\u001b[0m\u001b[0m\n\u001b[1;32m--> 638\u001b[1;33m         \u001b[0mself\u001b[0m\u001b[1;33m.\u001b[0m\u001b[0mwait\u001b[0m\u001b[1;33m(\u001b[0m\u001b[0mtimeout\u001b[0m\u001b[1;33m)\u001b[0m\u001b[1;33m\u001b[0m\u001b[0m\n\u001b[0m\u001b[0;32m    639\u001b[0m         \u001b[1;32mif\u001b[0m \u001b[1;32mnot\u001b[0m \u001b[0mself\u001b[0m\u001b[1;33m.\u001b[0m\u001b[0mready\u001b[0m\u001b[1;33m(\u001b[0m\u001b[1;33m)\u001b[0m\u001b[1;33m:\u001b[0m\u001b[1;33m\u001b[0m\u001b[0m\n\u001b[0;32m    640\u001b[0m             \u001b[1;32mraise\u001b[0m \u001b[0mTimeoutError\u001b[0m\u001b[1;33m\u001b[0m\u001b[0m\n",
      "\u001b[1;32mC:\\Anaconda3\\lib\\multiprocessing\\pool.py\u001b[0m in \u001b[0;36mwait\u001b[1;34m(self, timeout)\u001b[0m\n\u001b[0;32m    633\u001b[0m \u001b[1;33m\u001b[0m\u001b[0m\n\u001b[0;32m    634\u001b[0m     \u001b[1;32mdef\u001b[0m \u001b[0mwait\u001b[0m\u001b[1;33m(\u001b[0m\u001b[0mself\u001b[0m\u001b[1;33m,\u001b[0m \u001b[0mtimeout\u001b[0m\u001b[1;33m=\u001b[0m\u001b[1;32mNone\u001b[0m\u001b[1;33m)\u001b[0m\u001b[1;33m:\u001b[0m\u001b[1;33m\u001b[0m\u001b[0m\n\u001b[1;32m--> 635\u001b[1;33m         \u001b[0mself\u001b[0m\u001b[1;33m.\u001b[0m\u001b[0m_event\u001b[0m\u001b[1;33m.\u001b[0m\u001b[0mwait\u001b[0m\u001b[1;33m(\u001b[0m\u001b[0mtimeout\u001b[0m\u001b[1;33m)\u001b[0m\u001b[1;33m\u001b[0m\u001b[0m\n\u001b[0m\u001b[0;32m    636\u001b[0m \u001b[1;33m\u001b[0m\u001b[0m\n\u001b[0;32m    637\u001b[0m     \u001b[1;32mdef\u001b[0m \u001b[0mget\u001b[0m\u001b[1;33m(\u001b[0m\u001b[0mself\u001b[0m\u001b[1;33m,\u001b[0m \u001b[0mtimeout\u001b[0m\u001b[1;33m=\u001b[0m\u001b[1;32mNone\u001b[0m\u001b[1;33m)\u001b[0m\u001b[1;33m:\u001b[0m\u001b[1;33m\u001b[0m\u001b[0m\n",
      "\u001b[1;32mC:\\Anaconda3\\lib\\threading.py\u001b[0m in \u001b[0;36mwait\u001b[1;34m(self, timeout)\u001b[0m\n\u001b[0;32m    549\u001b[0m             \u001b[0msignaled\u001b[0m \u001b[1;33m=\u001b[0m \u001b[0mself\u001b[0m\u001b[1;33m.\u001b[0m\u001b[0m_flag\u001b[0m\u001b[1;33m\u001b[0m\u001b[0m\n\u001b[0;32m    550\u001b[0m             \u001b[1;32mif\u001b[0m \u001b[1;32mnot\u001b[0m \u001b[0msignaled\u001b[0m\u001b[1;33m:\u001b[0m\u001b[1;33m\u001b[0m\u001b[0m\n\u001b[1;32m--> 551\u001b[1;33m                 \u001b[0msignaled\u001b[0m \u001b[1;33m=\u001b[0m \u001b[0mself\u001b[0m\u001b[1;33m.\u001b[0m\u001b[0m_cond\u001b[0m\u001b[1;33m.\u001b[0m\u001b[0mwait\u001b[0m\u001b[1;33m(\u001b[0m\u001b[0mtimeout\u001b[0m\u001b[1;33m)\u001b[0m\u001b[1;33m\u001b[0m\u001b[0m\n\u001b[0m\u001b[0;32m    552\u001b[0m             \u001b[1;32mreturn\u001b[0m \u001b[0msignaled\u001b[0m\u001b[1;33m\u001b[0m\u001b[0m\n\u001b[0;32m    553\u001b[0m \u001b[1;33m\u001b[0m\u001b[0m\n",
      "\u001b[1;32mC:\\Anaconda3\\lib\\threading.py\u001b[0m in \u001b[0;36mwait\u001b[1;34m(self, timeout)\u001b[0m\n\u001b[0;32m    293\u001b[0m         \u001b[1;32mtry\u001b[0m\u001b[1;33m:\u001b[0m    \u001b[1;31m# restore state no matter what (e.g., KeyboardInterrupt)\u001b[0m\u001b[1;33m\u001b[0m\u001b[0m\n\u001b[0;32m    294\u001b[0m             \u001b[1;32mif\u001b[0m \u001b[0mtimeout\u001b[0m \u001b[1;32mis\u001b[0m \u001b[1;32mNone\u001b[0m\u001b[1;33m:\u001b[0m\u001b[1;33m\u001b[0m\u001b[0m\n\u001b[1;32m--> 295\u001b[1;33m                 \u001b[0mwaiter\u001b[0m\u001b[1;33m.\u001b[0m\u001b[0macquire\u001b[0m\u001b[1;33m(\u001b[0m\u001b[1;33m)\u001b[0m\u001b[1;33m\u001b[0m\u001b[0m\n\u001b[0m\u001b[0;32m    296\u001b[0m                 \u001b[0mgotit\u001b[0m \u001b[1;33m=\u001b[0m \u001b[1;32mTrue\u001b[0m\u001b[1;33m\u001b[0m\u001b[0m\n\u001b[0;32m    297\u001b[0m             \u001b[1;32melse\u001b[0m\u001b[1;33m:\u001b[0m\u001b[1;33m\u001b[0m\u001b[0m\n",
      "\u001b[1;31mKeyboardInterrupt\u001b[0m: "
     ]
    }
   ],
   "source": [
    "# Use the random grid to search for best hyperparameters\n",
    "# First create the base model to tune\n",
    "rf = RandomForestClassifier()\n",
    "# Random search of parameters, using 3 fold cross validation, \n",
    "# search across 100 different combinations, and use all available cores\n",
    "rf_random = RandomizedSearchCV(estimator = rf, param_distributions = random_grid, n_iter = 100, cv = 3, verbose=2, random_state=42, n_jobs = -1)\n",
    "# Fit the random search model\n",
    "rf_random.fit(x_train, y_train)"
   ]
  },
  {
   "cell_type": "markdown",
   "metadata": {},
   "source": [
    "### get the best model hyper parameter"
   ]
  },
  {
   "cell_type": "code",
   "execution_count": 86,
   "metadata": {},
   "outputs": [
    {
     "data": {
      "text/plain": [
       "{'bootstrap': True,\n",
       " 'max_depth': None,\n",
       " 'max_features': 'auto',\n",
       " 'min_samples_leaf': 4,\n",
       " 'min_samples_split': 5,\n",
       " 'n_estimators': 1000}"
      ]
     },
     "execution_count": 86,
     "metadata": {},
     "output_type": "execute_result"
    }
   ],
   "source": [
    "rf_random.best_params_"
   ]
  },
  {
   "cell_type": "markdown",
   "metadata": {},
   "source": [
    "### get the best model object"
   ]
  },
  {
   "cell_type": "code",
   "execution_count": 87,
   "metadata": {},
   "outputs": [],
   "source": [
    "rf_random_best = rf_random.best_estimator_"
   ]
  },
  {
   "cell_type": "markdown",
   "metadata": {},
   "source": [
    "### feature importance"
   ]
  },
  {
   "cell_type": "code",
   "execution_count": 90,
   "metadata": {},
   "outputs": [
    {
     "name": "stdout",
     "output_type": "stream",
     "text": [
      "Variable: Sex_male             Importance: 0.41\n",
      "Variable: Fare                 Importance: 0.19\n",
      "Variable: Age                  Importance: 0.15\n",
      "Variable: Pclass_3             Importance: 0.11\n",
      "Variable: SibSp                Importance: 0.05\n",
      "Variable: Parch                Importance: 0.03\n",
      "Variable: Embarked_S           Importance: 0.03\n",
      "Variable: Pclass_2             Importance: 0.02\n",
      "Variable: Embarked_Q           Importance: 0.01\n"
     ]
    },
    {
     "data": {
      "image/png": "[encoded data removed]",
      "text/plain": [
       "<Figure size 432x288 with 1 Axes>"
      ]
     },
     "metadata": {
      "needs_background": "light"
     },
     "output_type": "display_data"
    }
   ],
   "source": [
    "create_feature_importance(rf_random_best, x_train)"
   ]
  },
  {
   "cell_type": "markdown",
   "metadata": {},
   "source": [
    "### AUC"
   ]
  },
  {
   "cell_type": "code",
   "execution_count": 91,
   "metadata": {},
   "outputs": [
    {
     "data": {
      "text/plain": [
       "0.9515411813192772"
      ]
     },
     "execution_count": 91,
     "metadata": {},
     "output_type": "execute_result"
    }
   ],
   "source": [
    "roc_auc_score(y_train, rf_random_best.predict_proba(x_train)[:, 1])"
   ]
  },
  {
   "cell_type": "code",
   "execution_count": 92,
   "metadata": {},
   "outputs": [
    {
     "data": {
      "text/plain": [
       "0.8891071428571429"
      ]
     },
     "execution_count": 92,
     "metadata": {},
     "output_type": "execute_result"
    }
   ],
   "source": [
    "roc_auc_score(y_test, rf_random_best.predict_proba(x_test)[:, 1])"
   ]
  },
  {
   "cell_type": "code",
   "execution_count": 93,
   "metadata": {},
   "outputs": [
    {
     "data": {
      "image/png": "[encoded data removed]",
      "text/plain": [
       "<Figure size 432x288 with 1 Axes>"
      ]
     },
     "metadata": {
      "needs_background": "light"
     },
     "output_type": "display_data"
    }
   ],
   "source": [
    "plot_roc_cur(rf_random_best,x_test,y_test)"
   ]
  },
  {
   "cell_type": "code",
   "execution_count": 94,
   "metadata": {},
   "outputs": [],
   "source": [
    "X_wo_truth_new_probs = rf_random_best.predict_proba(X_wo_truth_new)  \n",
    "X_wo_truth_new_preds = (X_wo_truth_new_probs[:, 1]>=0.5).astype(int)\n",
    "\n",
    "data ={\n",
    "    'PassengerId': list(X_wo_truth['PassengerId']),\n",
    "    'Survived': list(X_wo_truth_new_preds)\n",
    "}\n",
    "submission = pd.DataFrame(data)\n",
    "\n",
    "submission.to_csv('20210226_submission_3_Random_Forest_Random_Search.csv')"
   ]
  },
  {
   "cell_type": "markdown",
   "metadata": {},
   "source": [
    "## Grid Search"
   ]
  },
  {
   "cell_type": "code",
   "execution_count": 95,
   "metadata": {},
   "outputs": [
    {
     "name": "stdout",
     "output_type": "stream",
     "text": [
      "Fitting 3 folds for each of 360 candidates, totalling 1080 fits\n"
     ]
    },
    {
     "name": "stderr",
     "output_type": "stream",
     "text": [
      "[Parallel(n_jobs=-1)]: Done  25 tasks      | elapsed:    7.1s\n",
      "[Parallel(n_jobs=-1)]: Done 146 tasks      | elapsed:   18.7s\n",
      "[Parallel(n_jobs=-1)]: Done 349 tasks      | elapsed:   39.1s\n",
      "[Parallel(n_jobs=-1)]: Done 632 tasks      | elapsed:  1.2min\n",
      "[Parallel(n_jobs=-1)]: Done 997 tasks      | elapsed:  1.8min\n",
      "[Parallel(n_jobs=-1)]: Done 1080 out of 1080 | elapsed:  1.9min finished\n"
     ]
    },
    {
     "data": {
      "text/plain": [
       "GridSearchCV(cv=3, error_score='raise',\n",
       "       estimator=RandomForestClassifier(bootstrap=True, class_weight=None, criterion='gini',\n",
       "            max_depth=None, max_features='auto', max_leaf_nodes=None,\n",
       "            min_impurity_decrease=0.0, min_impurity_split=None,\n",
       "            min_samples_leaf=1, min_samples_split=2,\n",
       "            min_weight_fraction_leaf=0.0, n_estimators=10, n_jobs=1,\n",
       "            oob_score=False, random_state=None, verbose=0,\n",
       "            warm_start=False),\n",
       "       fit_params=None, iid=True, n_jobs=-1,\n",
       "       param_grid={'bootstrap': [True], 'max_depth': [1, 3, 5, 7, 9], 'max_features': [2, 3], 'min_samples_leaf': [3, 4, 5], 'min_samples_split': [8, 10, 12], 'n_estimators': [100, 200, 300, 1000]},\n",
       "       pre_dispatch='2*n_jobs', refit=True, return_train_score='warn',\n",
       "       scoring=None, verbose=2)"
      ]
     },
     "execution_count": 95,
     "metadata": {},
     "output_type": "execute_result"
    }
   ],
   "source": [
    "# Create the parameter grid based on the results of random search \n",
    "param_grid = {\n",
    "    'bootstrap': [True],\n",
    "    'max_depth': [1, 3, 5, 7, 9],\n",
    "    'max_features': [2, 3],\n",
    "    'min_samples_leaf': [3, 4, 5],\n",
    "    'min_samples_split': [8, 10, 12],\n",
    "    'n_estimators': [100, 200, 300, 1000]\n",
    "}\n",
    "# Create a based model\n",
    "rf = RandomForestClassifier()\n",
    "# Instantiate the grid search model\n",
    "rf_grid = GridSearchCV(estimator = rf, param_grid = param_grid, cv = 3, n_jobs = -1, verbose = 2)\n",
    "rf_grid.fit(x_train, y_train)"
   ]
  },
  {
   "cell_type": "code",
   "execution_count": 96,
   "metadata": {},
   "outputs": [
    {
     "data": {
      "text/plain": [
       "{'bootstrap': True,\n",
       " 'max_depth': 5,\n",
       " 'max_features': 3,\n",
       " 'min_samples_leaf': 3,\n",
       " 'min_samples_split': 8,\n",
       " 'n_estimators': 200}"
      ]
     },
     "execution_count": 96,
     "metadata": {},
     "output_type": "execute_result"
    }
   ],
   "source": [
    "rf_grid.best_params_"
   ]
  },
  {
   "cell_type": "code",
   "execution_count": 97,
   "metadata": {},
   "outputs": [],
   "source": [
    "rf_grid_best = rf_grid.best_estimator_"
   ]
  },
  {
   "cell_type": "code",
   "execution_count": 98,
   "metadata": {},
   "outputs": [
    {
     "name": "stdout",
     "output_type": "stream",
     "text": [
      "Variable: Sex_male             Importance: 0.48\n",
      "Variable: Fare                 Importance: 0.15\n",
      "Variable: Pclass_3             Importance: 0.12\n",
      "Variable: Age                  Importance: 0.11\n",
      "Variable: SibSp                Importance: 0.05\n",
      "Variable: Parch                Importance: 0.03\n",
      "Variable: Embarked_S           Importance: 0.03\n",
      "Variable: Pclass_2             Importance: 0.02\n",
      "Variable: Embarked_Q           Importance: 0.01\n"
     ]
    },
    {
     "data": {
      "image/png": "[encoded data removed]",
      "text/plain": [
       "<Figure size 432x288 with 1 Axes>"
      ]
     },
     "metadata": {
      "needs_background": "light"
     },
     "output_type": "display_data"
    }
   ],
   "source": [
    "create_feature_importance(rf_grid_best, x_train)"
   ]
  },
  {
   "cell_type": "markdown",
   "metadata": {},
   "source": [
    "### AUC"
   ]
  },
  {
   "cell_type": "code",
   "execution_count": 99,
   "metadata": {},
   "outputs": [
    {
     "data": {
      "text/plain": [
       "0.9080009110431444"
      ]
     },
     "execution_count": 99,
     "metadata": {},
     "output_type": "execute_result"
    }
   ],
   "source": [
    "roc_auc_score(y_train, rf_grid_best.predict_proba(x_train)[:, 1])"
   ]
  },
  {
   "cell_type": "code",
   "execution_count": 100,
   "metadata": {},
   "outputs": [
    {
     "data": {
      "text/plain": [
       "0.8822619047619047"
      ]
     },
     "execution_count": 100,
     "metadata": {},
     "output_type": "execute_result"
    }
   ],
   "source": [
    "roc_auc_score(y_test, rf_grid_best.predict_proba(x_test)[:, 1])"
   ]
  },
  {
   "cell_type": "code",
   "execution_count": 102,
   "metadata": {},
   "outputs": [
    {
     "data": {
      "image/png": "[encoded data removed]",
      "text/plain": [
       "<Figure size 432x288 with 1 Axes>"
      ]
     },
     "metadata": {
      "needs_background": "light"
     },
     "output_type": "display_data"
    }
   ],
   "source": [
    "plot_roc_cur(rf_grid_best,x_test,y_test)"
   ]
  },
  {
   "cell_type": "code",
   "execution_count": 103,
   "metadata": {},
   "outputs": [],
   "source": [
    "X_wo_truth_new_probs = rf_grid_best.predict_proba(X_wo_truth_new)  \n",
    "X_wo_truth_new_preds = (X_wo_truth_new_probs[:, 1]>=0.5).astype(int)\n",
    "\n",
    "data ={\n",
    "    'PassengerId': list(X_wo_truth['PassengerId']),\n",
    "    'Survived': list(X_wo_truth_new_preds)\n",
    "}\n",
    "submission = pd.DataFrame(data)\n",
    "\n",
    "submission.to_csv('20210226_submission_4_Random_Forest_Grid_Search.csv')"
   ]
  },
  {
   "cell_type": "markdown",
   "metadata": {},
   "source": [
    "## Save and loand trained models"
   ]
  },
  {
   "cell_type": "code",
   "execution_count": 197,
   "metadata": {},
   "outputs": [],
   "source": [
    "pickle.dump(rf_grid_best, open('rf_grid_best.model', 'wb'))\n",
    "bst = pickle.load(open('rf_grid_best.model', 'rb'))"
   ]
  },
  {
   "cell_type": "code",
   "execution_count": 198,
   "metadata": {},
   "outputs": [
    {
     "data": {
      "image/png": "[encoded data removed]",
      "text/plain": [
       "<Figure size 432x288 with 1 Axes>"
      ]
     },
     "metadata": {
      "needs_background": "light"
     },
     "output_type": "display_data"
    }
   ],
   "source": [
    "plot_roc_cur(bst,x_test,y_test)"
   ]
  },
  {
   "cell_type": "markdown",
   "metadata": {},
   "source": [
    "### XGBoost"
   ]
  },
  {
   "cell_type": "code",
   "execution_count": 104,
   "metadata": {},
   "outputs": [
    {
     "name": "stdout",
     "output_type": "stream",
     "text": [
      "[22:36:59] WARNING: D:\\Build\\xgboost\\xgboost-1.3.1.git\\src\\learner.cc:1061: Starting in XGBoost 1.3.0, the default evaluation metric used with the objective 'binary:logistic' was changed from 'error' to 'logloss'. Explicitly set eval_metric if you'd like to restore the old behavior.\n"
     ]
    },
    {
     "data": {
      "text/plain": [
       "XGBClassifier(base_score=0.5, booster='gbtree', colsample_bylevel=1,\n",
       "       colsample_bynode=1, colsample_bytree=1, gamma=0, gpu_id=-1,\n",
       "       importance_type='gain', interaction_constraints='',\n",
       "       learning_rate=0.300000012, max_delta_step=0, max_depth=6,\n",
       "       min_child_weight=1, missing=nan, monotone_constraints='()',\n",
       "       n_estimators=100, n_jobs=8, nthread=-1, num_parallel_tree=1,\n",
       "       objective='binary:logistic', random_state=42, reg_alpha=0,\n",
       "       reg_lambda=1, scale_pos_weight=1, seed=42, subsample=1,\n",
       "       tree_method='exact', use_label_encoder=False, validate_parameters=1,\n",
       "       verbosity=None)"
      ]
     },
     "execution_count": 104,
     "metadata": {},
     "output_type": "execute_result"
    }
   ],
   "source": [
    "xgb_model = xgb.sklearn.XGBClassifier(nthread=-1, seed=42, use_label_encoder=False)\n",
    "xgb_model.fit(x_train, y_train)"
   ]
  },
  {
   "cell_type": "markdown",
   "metadata": {},
   "source": [
    "### AUC"
   ]
  },
  {
   "cell_type": "code",
   "execution_count": 105,
   "metadata": {},
   "outputs": [
    {
     "data": {
      "text/plain": [
       "0.9954881672848744"
      ]
     },
     "execution_count": 105,
     "metadata": {},
     "output_type": "execute_result"
    }
   ],
   "source": [
    "roc_auc_score(y_train, xgb_model.predict_proba(x_train)[:, 1])"
   ]
  },
  {
   "cell_type": "code",
   "execution_count": 106,
   "metadata": {},
   "outputs": [
    {
     "data": {
      "text/plain": [
       "0.8624404761904761"
      ]
     },
     "execution_count": 106,
     "metadata": {},
     "output_type": "execute_result"
    }
   ],
   "source": [
    "roc_auc_score(y_test, xgb_model.predict_proba(x_test)[:, 1])"
   ]
  },
  {
   "cell_type": "code",
   "execution_count": 107,
   "metadata": {},
   "outputs": [
    {
     "data": {
      "image/png": "[encoded data removed]",
      "text/plain": [
       "<Figure size 432x288 with 1 Axes>"
      ]
     },
     "metadata": {
      "needs_background": "light"
     },
     "output_type": "display_data"
    }
   ],
   "source": [
    "plot_roc_cur(xgb_model,x_test,y_test)"
   ]
  },
  {
   "cell_type": "code",
   "execution_count": 108,
   "metadata": {},
   "outputs": [
    {
     "name": "stdout",
     "output_type": "stream",
     "text": [
      "Variable: Sex_male             Importance: 0.4699999988079071\n",
      "Variable: Pclass_3             Importance: 0.20000000298023224\n",
      "Variable: SibSp                Importance: 0.10000000149011612\n",
      "Variable: Embarked_S           Importance: 0.05999999865889549\n",
      "Variable: Age                  Importance: 0.03999999910593033\n",
      "Variable: Fare                 Importance: 0.03999999910593033\n",
      "Variable: Pclass_2             Importance: 0.03999999910593033\n",
      "Variable: Parch                Importance: 0.029999999329447746\n",
      "Variable: Embarked_Q           Importance: 0.029999999329447746\n"
     ]
    },
    {
     "data": {
      "image/png": "[encoded data removed]",
      "text/plain": [
       "<Figure size 432x288 with 1 Axes>"
      ]
     },
     "metadata": {
      "needs_background": "light"
     },
     "output_type": "display_data"
    }
   ],
   "source": [
    "create_feature_importance(xgb_model, x_train)"
   ]
  },
  {
   "cell_type": "markdown",
   "metadata": {},
   "source": [
    "## Hyper parameter tuning"
   ]
  },
  {
   "cell_type": "markdown",
   "metadata": {},
   "source": [
    "#### Fit a single XGBoost Model and output performance given hyper parameter setting"
   ]
  },
  {
   "cell_type": "code",
   "execution_count": 131,
   "metadata": {},
   "outputs": [],
   "source": [
    "from sklearn import cross_validation, metrics\n",
    "def modelfit(alg, x_train, y_train, x_test, y_test, useTrainCV=True, cv_folds=5, early_stopping_rounds=50):\n",
    "    \n",
    "    if useTrainCV:\n",
    "        xgb_param = alg.get_xgb_params()\n",
    "        print(xgb_param)\n",
    "        xgtrain = xgb.DMatrix(x_train, label=y_train)\n",
    "        cvresult = xgb.cv(xgb_param, xgtrain, num_boost_round=alg.get_params()['n_estimators'], nfold=cv_folds,\n",
    "            metrics='auc', early_stopping_rounds=early_stopping_rounds)\n",
    "        alg.set_params(n_estimators=cvresult.shape[0])\n",
    "    \n",
    "    #Fit the algorithm on the data\n",
    "    alg.fit(x_train, y_train, eval_metric='auc')\n",
    "                \n",
    "    #Print model report:\n",
    "    print (\"\\nModel Report\")\n",
    "    print (\"Accuracy (Train) : %.4g\" % metrics.accuracy_score(y_train.values, alg.predict(x_train)))\n",
    "    print (\"AUC Score (Train): %f\" % metrics.roc_auc_score(y_train, alg.predict_proba(x_train)[:,1]))\n",
    "    print (\"Accuracy (Test) : %.4g\" % metrics.accuracy_score(y_test.values, alg.predict(x_test)))\n",
    "    print (\"AUC Score (Test): %f\" % metrics.roc_auc_score(y_test, alg.predict_proba(x_test)[:,1]))\n",
    "    \n",
    "    create_feature_importance(alg,x_train)                \n",
    "    #feat_imp = pd.Series(alg.booster().get_fscore()).sort_values(ascending=False)\n",
    "    #feat_imp.plot(kind='bar', title='Feature Importances')\n",
    "    #plt.ylabel('Feature Importance Score')"
   ]
  },
  {
   "cell_type": "code",
   "execution_count": 132,
   "metadata": {},
   "outputs": [
    {
     "name": "stdout",
     "output_type": "stream",
     "text": [
      "{'objective': 'binary:logistic', 'base_score': None, 'booster': None, 'colsample_bylevel': None, 'colsample_bynode': None, 'colsample_bytree': None, 'gamma': None, 'gpu_id': None, 'interaction_constraints': None, 'learning_rate': None, 'max_delta_step': None, 'max_depth': None, 'min_child_weight': None, 'monotone_constraints': None, 'n_jobs': None, 'num_parallel_tree': None, 'random_state': None, 'reg_alpha': None, 'reg_lambda': None, 'scale_pos_weight': None, 'subsample': None, 'tree_method': None, 'validate_parameters': None, 'verbosity': None}\n",
      "\n",
      "Model Report\n",
      "Accuracy (Train) : 0.8764\n",
      "AUC Score (Train): 0.934850\n",
      "Accuracy (Test) : 0.8358\n",
      "AUC Score (Test): 0.883512\n",
      "Variable: Sex_male             Importance: 0.6899999976158142\n",
      "Variable: Pclass_3             Importance: 0.1599999964237213\n",
      "Variable: SibSp                Importance: 0.05999999865889549\n",
      "Variable: Embarked_S           Importance: 0.029999999329447746\n",
      "Variable: Age                  Importance: 0.019999999552965164\n",
      "Variable: Fare                 Importance: 0.019999999552965164\n",
      "Variable: Embarked_Q           Importance: 0.019999999552965164\n",
      "Variable: Parch                Importance: 0.009999999776482582\n",
      "Variable: Pclass_2             Importance: 0.0\n"
     ]
    },
    {
     "name": "stderr",
     "output_type": "stream",
     "text": [
      "C:\\Anaconda3\\lib\\site-packages\\xgboost\\sklearn.py:892: UserWarning: The use of label encoder in XGBClassifier is deprecated and will be removed in a future release. To remove this warning, do the following: 1) Pass option use_label_encoder=False when constructing XGBClassifier object; and 2) Encode your labels (y) as integers starting with 0, i.e. 0, 1, 2, ..., [num_class - 1].\n",
      "  warnings.warn(label_encoder_deprecation_msg, UserWarning)\n",
      "C:\\Anaconda3\\lib\\site-packages\\sklearn\\preprocessing\\label.py:151: DeprecationWarning: The truth value of an empty array is ambiguous. Returning False, but in future this will result in an error. Use `array.size > 0` to check that an array is not empty.\n",
      "  if diff:\n",
      "C:\\Anaconda3\\lib\\site-packages\\sklearn\\preprocessing\\label.py:151: DeprecationWarning: The truth value of an empty array is ambiguous. Returning False, but in future this will result in an error. Use `array.size > 0` to check that an array is not empty.\n",
      "  if diff:\n"
     ]
    },
    {
     "data": {
      "image/png": "[encoded data removed]",
      "text/plain": [
       "<Figure size 432x288 with 1 Axes>"
      ]
     },
     "metadata": {
      "needs_background": "light"
     },
     "output_type": "display_data"
    }
   ],
   "source": [
    "xgb1 = xgb.sklearn.XGBClassifier()\n",
    "modelfit(xgb1, x_train, y_train, x_test, y_test)"
   ]
  },
  {
   "cell_type": "markdown",
   "metadata": {},
   "source": [
    "### Grid Search"
   ]
  },
  {
   "cell_type": "code",
   "execution_count": 147,
   "metadata": {},
   "outputs": [
    {
     "name": "stderr",
     "output_type": "stream",
     "text": [
      "C:\\Anaconda3\\lib\\site-packages\\xgboost\\sklearn.py:892: UserWarning: The use of label encoder in XGBClassifier is deprecated and will be removed in a future release. To remove this warning, do the following: 1) Pass option use_label_encoder=False when constructing XGBClassifier object; and 2) Encode your labels (y) as integers starting with 0, i.e. 0, 1, 2, ..., [num_class - 1].\n",
      "  warnings.warn(label_encoder_deprecation_msg, UserWarning)\n"
     ]
    },
    {
     "name": "stdout",
     "output_type": "stream",
     "text": [
      "[11:16:30] WARNING: D:\\Build\\xgboost\\xgboost-1.3.1.git\\src\\learner.cc:1061: Starting in XGBoost 1.3.0, the default evaluation metric used with the objective 'binary:logistic' was changed from 'error' to 'logloss'. Explicitly set eval_metric if you'd like to restore the old behavior.\n"
     ]
    },
    {
     "data": {
      "text/plain": [
       "GridSearchCV(cv=5, error_score='raise',\n",
       "       estimator=XGBClassifier(base_score=None, booster=None, colsample_bylevel=None,\n",
       "       colsample_bynode=None, colsample_bytree=None, gamma=None,\n",
       "       gpu_id=None, importance_type='gain', interaction_constraints=None,\n",
       "       learning_rate=None, max_delta_step=None, max_depth=None,\n",
       "       min_child_w...e,\n",
       "       tree_method=None, use_label_encoder=True, validate_parameters=None,\n",
       "       verbosity=None),\n",
       "       fit_params=None, iid=False, n_jobs=4,\n",
       "       param_grid={'learning_rate': [0.001, 0.01, 0.1], 'n_estimators': [200, 400], 'max_depth': [4, 5, 6], 'min_child_weight': [1], 'reg_alpha': [0, 0.001], 'reg_lambda': [0, 0.001], 'gamma': [0, 1], 'subsample': [0.8], 'colsample_bytree': [0.8], 'objective': ['binary:logistic']},\n",
       "       pre_dispatch='2*n_jobs', refit=True, return_train_score='warn',\n",
       "       scoring='roc_auc', verbose=0)"
      ]
     },
     "execution_count": 147,
     "metadata": {},
     "output_type": "execute_result"
    }
   ],
   "source": [
    "param_test = {\n",
    " 'learning_rate':[0.001,0.01,0.1],\n",
    "  'n_estimators':[200,400],\n",
    " 'max_depth':[4,5,6],\n",
    " 'min_child_weight': [1],\n",
    " 'reg_alpha':[0,0.001],\n",
    " 'reg_lambda':[0,0.001],\n",
    " 'gamma':[0,1],\n",
    " 'subsample':[0.8],\n",
    " 'colsample_bytree':[0.8],\n",
    " 'objective':['binary:logistic']\n",
    "}\n",
    "xgb_grid = GridSearchCV(estimator = xgb.sklearn.XGBClassifier(), param_grid = param_test, scoring='roc_auc',n_jobs=4,iid=False, cv=5)\n",
    "xgb_grid.fit(x_train,y_train)"
   ]
  },
  {
   "cell_type": "code",
   "execution_count": 155,
   "metadata": {},
   "outputs": [
    {
     "name": "stderr",
     "output_type": "stream",
     "text": [
      "C:\\Anaconda3\\lib\\site-packages\\sklearn\\model_selection\\_search.py:761: DeprecationWarning: The grid_scores_ attribute was deprecated in version 0.18 in favor of the more elaborate cv_results_ attribute. The grid_scores_ attribute will not be available from 0.20\n",
      "  DeprecationWarning)\n"
     ]
    },
    {
     "data": {
      "text/plain": [
       "144"
      ]
     },
     "execution_count": 155,
     "metadata": {},
     "output_type": "execute_result"
    }
   ],
   "source": [
    "len(xgb_grid.grid_scores_)"
   ]
  },
  {
   "cell_type": "code",
   "execution_count": 156,
   "metadata": {},
   "outputs": [
    {
     "data": {
      "text/plain": [
       "({'colsample_bytree': 0.8,\n",
       "  'gamma': 1,\n",
       "  'learning_rate': 0.001,\n",
       "  'max_depth': 6,\n",
       "  'min_child_weight': 1,\n",
       "  'n_estimators': 400,\n",
       "  'objective': 'binary:logistic',\n",
       "  'reg_alpha': 0,\n",
       "  'reg_lambda': 0.001,\n",
       "  'subsample': 0.8},)"
      ]
     },
     "execution_count": 156,
     "metadata": {},
     "output_type": "execute_result"
    }
   ],
   "source": [
    "xgb_grid.best_params_, "
   ]
  },
  {
   "cell_type": "code",
   "execution_count": 150,
   "metadata": {},
   "outputs": [
    {
     "data": {
      "text/plain": [
       "0.8753278938882456"
      ]
     },
     "execution_count": 150,
     "metadata": {},
     "output_type": "execute_result"
    }
   ],
   "source": [
    "xgb_grid.best_score_"
   ]
  },
  {
   "cell_type": "code",
   "execution_count": 151,
   "metadata": {},
   "outputs": [
    {
     "data": {
      "text/plain": [
       "XGBClassifier(base_score=0.5, booster='gbtree', colsample_bylevel=1,\n",
       "       colsample_bynode=1, colsample_bytree=0.8, gamma=1, gpu_id=-1,\n",
       "       importance_type='gain', interaction_constraints='',\n",
       "       learning_rate=0.001, max_delta_step=0, max_depth=6,\n",
       "       min_child_weight=1, missing=nan, monotone_constraints='()',\n",
       "       n_estimators=400, n_jobs=8, num_parallel_tree=1,\n",
       "       objective='binary:logistic', random_state=0, reg_alpha=0,\n",
       "       reg_lambda=0.001, scale_pos_weight=1, subsample=0.8,\n",
       "       tree_method='exact', use_label_encoder=True, validate_parameters=1,\n",
       "       verbosity=None)"
      ]
     },
     "execution_count": 151,
     "metadata": {},
     "output_type": "execute_result"
    }
   ],
   "source": [
    "xgb_grid.best_estimator_"
   ]
  },
  {
   "cell_type": "code",
   "execution_count": 152,
   "metadata": {},
   "outputs": [
    {
     "name": "stdout",
     "output_type": "stream",
     "text": [
      "{'objective': 'binary:logistic', 'base_score': 0.5, 'booster': 'gbtree', 'colsample_bylevel': 1, 'colsample_bynode': 1, 'colsample_bytree': 0.8, 'gamma': 1, 'gpu_id': -1, 'interaction_constraints': '', 'learning_rate': 0.001, 'max_delta_step': 0, 'max_depth': 6, 'min_child_weight': 1, 'monotone_constraints': '()', 'n_jobs': 8, 'num_parallel_tree': 1, 'random_state': 0, 'reg_alpha': 0, 'reg_lambda': 0.001, 'scale_pos_weight': 1, 'subsample': 0.8, 'tree_method': 'exact', 'validate_parameters': 1, 'verbosity': None}\n"
     ]
    },
    {
     "name": "stderr",
     "output_type": "stream",
     "text": [
      "C:\\Anaconda3\\lib\\site-packages\\xgboost\\sklearn.py:892: UserWarning: The use of label encoder in XGBClassifier is deprecated and will be removed in a future release. To remove this warning, do the following: 1) Pass option use_label_encoder=False when constructing XGBClassifier object; and 2) Encode your labels (y) as integers starting with 0, i.e. 0, 1, 2, ..., [num_class - 1].\n",
      "  warnings.warn(label_encoder_deprecation_msg, UserWarning)\n",
      "C:\\Anaconda3\\lib\\site-packages\\sklearn\\preprocessing\\label.py:151: DeprecationWarning: The truth value of an empty array is ambiguous. Returning False, but in future this will result in an error. Use `array.size > 0` to check that an array is not empty.\n",
      "  if diff:\n",
      "C:\\Anaconda3\\lib\\site-packages\\sklearn\\preprocessing\\label.py:151: DeprecationWarning: The truth value of an empty array is ambiguous. Returning False, but in future this will result in an error. Use `array.size > 0` to check that an array is not empty.\n",
      "  if diff:\n"
     ]
    },
    {
     "name": "stdout",
     "output_type": "stream",
     "text": [
      "\n",
      "Model Report\n",
      "Accuracy (Train) : 0.8732\n",
      "AUC Score (Train): 0.931477\n",
      "Accuracy (Test) : 0.8284\n",
      "AUC Score (Test): 0.880060\n",
      "Variable: Sex_male             Importance: 0.6800000071525574\n",
      "Variable: Pclass_3             Importance: 0.12999999523162842\n",
      "Variable: SibSp                Importance: 0.03999999910593033\n",
      "Variable: Embarked_S           Importance: 0.03999999910593033\n",
      "Variable: Pclass_2             Importance: 0.029999999329447746\n",
      "Variable: Age                  Importance: 0.019999999552965164\n",
      "Variable: Fare                 Importance: 0.019999999552965164\n",
      "Variable: Embarked_Q           Importance: 0.019999999552965164\n",
      "Variable: Parch                Importance: 0.009999999776482582\n"
     ]
    },
    {
     "data": {
      "image/png": "[encoded data removed]",
      "text/plain": [
       "<Figure size 432x288 with 1 Axes>"
      ]
     },
     "metadata": {
      "needs_background": "light"
     },
     "output_type": "display_data"
    }
   ],
   "source": [
    "modelfit(xgb_grid.best_estimator_, x_train, y_train, x_test, y_test)"
   ]
  },
  {
   "cell_type": "code",
   "execution_count": 153,
   "metadata": {},
   "outputs": [
    {
     "data": {
      "image/png": "[encoded data removed]",
      "text/plain": [
       "<Figure size 432x288 with 1 Axes>"
      ]
     },
     "metadata": {
      "needs_background": "light"
     },
     "output_type": "display_data"
    }
   ],
   "source": [
    "plot_roc_cur(xgb_grid.best_estimator_,x_test,y_test)"
   ]
  },
  {
   "cell_type": "code",
   "execution_count": 154,
   "metadata": {},
   "outputs": [],
   "source": [
    "X_wo_truth_new_probs = xgb_grid.best_estimator_.predict_proba(X_wo_truth_new)  \n",
    "X_wo_truth_new_preds = (X_wo_truth_new_probs[:, 1]>=0.5).astype(int)\n",
    "\n",
    "data ={\n",
    "    'PassengerId': list(X_wo_truth['PassengerId']),\n",
    "    'Survived': list(X_wo_truth_new_preds)\n",
    "}\n",
    "submission = pd.DataFrame(data)\n",
    "\n",
    "submission.to_csv('20210227_submission_5_XGBoost_Grid_Search.csv')"
   ]
  },
  {
   "cell_type": "markdown",
   "metadata": {},
   "source": [
    "## Save and load trained models"
   ]
  },
  {
   "cell_type": "code",
   "execution_count": 194,
   "metadata": {},
   "outputs": [],
   "source": [
    "xgb_grid_best = xgb_grid.best_estimator_"
   ]
  },
  {
   "cell_type": "code",
   "execution_count": 195,
   "metadata": {},
   "outputs": [],
   "source": [
    "pickle.dump(xgb_grid_best, open('xgb_grid_best.model', 'wb'))\n",
    "bst = pickle.load(open('xgb_grid_best.model', 'rb'))"
   ]
  },
  {
   "cell_type": "code",
   "execution_count": 196,
   "metadata": {},
   "outputs": [
    {
     "name": "stdout",
     "output_type": "stream",
     "text": [
      "{'objective': 'binary:logistic', 'base_score': 0.5, 'booster': 'gbtree', 'colsample_bylevel': 1, 'colsample_bynode': 1, 'colsample_bytree': 0.8, 'gamma': 1, 'gpu_id': -1, 'interaction_constraints': '', 'learning_rate': 0.001, 'max_delta_step': 0, 'max_depth': 6, 'min_child_weight': 1, 'monotone_constraints': '()', 'n_jobs': 8, 'num_parallel_tree': 1, 'random_state': 0, 'reg_alpha': 0, 'reg_lambda': 0.001, 'scale_pos_weight': 1, 'subsample': 0.8, 'tree_method': 'exact', 'validate_parameters': 1, 'verbosity': None}\n"
     ]
    },
    {
     "name": "stderr",
     "output_type": "stream",
     "text": [
      "C:\\Anaconda3\\lib\\site-packages\\xgboost\\sklearn.py:892: UserWarning: The use of label encoder in XGBClassifier is deprecated and will be removed in a future release. To remove this warning, do the following: 1) Pass option use_label_encoder=False when constructing XGBClassifier object; and 2) Encode your labels (y) as integers starting with 0, i.e. 0, 1, 2, ..., [num_class - 1].\n",
      "  warnings.warn(label_encoder_deprecation_msg, UserWarning)\n",
      "C:\\Anaconda3\\lib\\site-packages\\sklearn\\preprocessing\\label.py:151: DeprecationWarning: The truth value of an empty array is ambiguous. Returning False, but in future this will result in an error. Use `array.size > 0` to check that an array is not empty.\n",
      "  if diff:\n",
      "C:\\Anaconda3\\lib\\site-packages\\sklearn\\preprocessing\\label.py:151: DeprecationWarning: The truth value of an empty array is ambiguous. Returning False, but in future this will result in an error. Use `array.size > 0` to check that an array is not empty.\n",
      "  if diff:\n"
     ]
    },
    {
     "name": "stdout",
     "output_type": "stream",
     "text": [
      "\n",
      "Model Report\n",
      "Accuracy (Train) : 0.8732\n",
      "AUC Score (Train): 0.931477\n",
      "Accuracy (Test) : 0.8284\n",
      "AUC Score (Test): 0.880060\n",
      "Variable: Sex_male             Importance: 0.6800000071525574\n",
      "Variable: Pclass_3             Importance: 0.12999999523162842\n",
      "Variable: SibSp                Importance: 0.03999999910593033\n",
      "Variable: Embarked_S           Importance: 0.03999999910593033\n",
      "Variable: Pclass_2             Importance: 0.029999999329447746\n",
      "Variable: Age                  Importance: 0.019999999552965164\n",
      "Variable: Fare                 Importance: 0.019999999552965164\n",
      "Variable: Embarked_Q           Importance: 0.019999999552965164\n",
      "Variable: Parch                Importance: 0.009999999776482582\n"
     ]
    },
    {
     "data": {
      "image/png": "[encoded data removed]",
      "text/plain": [
       "<Figure size 432x288 with 1 Axes>"
      ]
     },
     "metadata": {
      "needs_background": "light"
     },
     "output_type": "display_data"
    }
   ],
   "source": [
    "modelfit(bst, x_train, y_train, x_test, y_test)"
   ]
  },
  {
   "cell_type": "markdown",
   "metadata": {},
   "source": [
    "## RandomSearch"
   ]
  },
  {
   "cell_type": "code",
   "execution_count": 168,
   "metadata": {},
   "outputs": [
    {
     "name": "stdout",
     "output_type": "stream",
     "text": [
      "Fitting 5 folds for each of 300 candidates, totalling 1500 fits\n"
     ]
    },
    {
     "name": "stderr",
     "output_type": "stream",
     "text": [
      "[Parallel(n_jobs=-1)]: Done  25 tasks      | elapsed:   12.1s\n",
      "[Parallel(n_jobs=-1)]: Done 146 tasks      | elapsed:   37.5s\n",
      "[Parallel(n_jobs=-1)]: Done 349 tasks      | elapsed:  1.4min\n",
      "[Parallel(n_jobs=-1)]: Done 632 tasks      | elapsed:  2.5min\n",
      "[Parallel(n_jobs=-1)]: Done 997 tasks      | elapsed:  3.8min\n",
      "[Parallel(n_jobs=-1)]: Done 1442 tasks      | elapsed:  5.7min\n",
      "[Parallel(n_jobs=-1)]: Done 1500 out of 1500 | elapsed:  5.9min finished\n",
      "C:\\Anaconda3\\lib\\site-packages\\xgboost\\sklearn.py:892: UserWarning: The use of label encoder in XGBClassifier is deprecated and will be removed in a future release. To remove this warning, do the following: 1) Pass option use_label_encoder=False when constructing XGBClassifier object; and 2) Encode your labels (y) as integers starting with 0, i.e. 0, 1, 2, ..., [num_class - 1].\n",
      "  warnings.warn(label_encoder_deprecation_msg, UserWarning)\n"
     ]
    },
    {
     "name": "stdout",
     "output_type": "stream",
     "text": [
      "[11:49:44] WARNING: D:\\Build\\xgboost\\xgboost-1.3.1.git\\src\\learner.cc:1061: Starting in XGBoost 1.3.0, the default evaluation metric used with the objective 'binary:logistic' was changed from 'error' to 'logloss'. Explicitly set eval_metric if you'd like to restore the old behavior.\n"
     ]
    },
    {
     "data": {
      "text/plain": [
       "RandomizedSearchCV(cv=5, error_score='raise',\n",
       "          estimator=XGBClassifier(base_score=None, booster=None, colsample_bylevel=None,\n",
       "       colsample_bynode=None, colsample_bytree=None, gamma=None,\n",
       "       gpu_id=None, importance_type='gain', interaction_constraints=None,\n",
       "       learning_rate=None, max_delta_step=None, max_depth=None,\n",
       "       min_child_w...e,\n",
       "       tree_method=None, use_label_encoder=True, validate_parameters=None,\n",
       "       verbosity=None),\n",
       "          fit_params=None, iid=True, n_iter=300, n_jobs=-1,\n",
       "          param_distributions={'learning_rate': [0.0001, 0.0005, 0.001, 0.01, 0.1, 0.2], 'n_estimators': [400, 500, 600, 700, 800, 900, 1000, 1500], 'max_depth': [4, 5, 6, 7, 8, 9, 10], 'min_child_weight': [1], 'reg_alpha': [0, 0.001, 0.01, 0.1, 1, 5, 10, 100], 'reg_lambda': [0, 0.001, 0.01, 0.1, 1, 5, 10, 100], 'gamma': [0, 0.001, 0.01, 0.1, 1, 5, 10, 100], 'subsample': [0.8], 'colsample_bytree': [0.8], 'objective': ['binary:logistic']},\n",
       "          pre_dispatch='2*n_jobs', random_state=42, refit=True,\n",
       "          return_train_score='warn', scoring=None, verbose=2)"
      ]
     },
     "execution_count": 168,
     "metadata": {},
     "output_type": "execute_result"
    }
   ],
   "source": [
    "param_test = {\n",
    " 'learning_rate':[0.0001, 0.0005, 0.001,0.01,0.1,0.2],\n",
    "  'n_estimators':[400,500,600,700,800,900,1000,1500],\n",
    " 'max_depth':[4,5,6,7,8,9,10],\n",
    " 'min_child_weight': [1],\n",
    " 'reg_alpha':[0, 0.001, 0.01, 0.1, 1, 5, 10, 100],\n",
    " 'reg_lambda':[0, 0.001, 0.01, 0.1, 1, 5, 10, 100],\n",
    " 'gamma':[0, 0.001, 0.01, 0.1, 1, 5, 10, 100],\n",
    " 'subsample':[0.8],\n",
    " 'colsample_bytree':[0.8],\n",
    " 'objective':['binary:logistic']\n",
    "}\n",
    "xgb_random = RandomizedSearchCV(estimator = xgb.sklearn.XGBClassifier(), param_distributions = param_test, n_iter = 300, cv = 5, verbose=2, random_state=42, n_jobs = -1)\n",
    "xgb_random.fit(x_train,y_train)"
   ]
  },
  {
   "cell_type": "code",
   "execution_count": 169,
   "metadata": {},
   "outputs": [
    {
     "name": "stderr",
     "output_type": "stream",
     "text": [
      "C:\\Anaconda3\\lib\\site-packages\\sklearn\\model_selection\\_search.py:761: DeprecationWarning: The grid_scores_ attribute was deprecated in version 0.18 in favor of the more elaborate cv_results_ attribute. The grid_scores_ attribute will not be available from 0.20\n",
      "  DeprecationWarning)\n"
     ]
    },
    {
     "data": {
      "text/plain": [
       "[mean: 0.79615, std: 0.03036, params: {'subsample': 0.8, 'reg_lambda': 10, 'reg_alpha': 1, 'objective': 'binary:logistic', 'n_estimators': 500, 'min_child_weight': 1, 'max_depth': 4, 'learning_rate': 0.1, 'gamma': 5, 'colsample_bytree': 0.8},\n",
       " mean: 0.78652, std: 0.02407, params: {'subsample': 0.8, 'reg_lambda': 0.1, 'reg_alpha': 10, 'objective': 'binary:logistic', 'n_estimators': 1000, 'min_child_weight': 1, 'max_depth': 10, 'learning_rate': 0.1, 'gamma': 10, 'colsample_bytree': 0.8},\n",
       " mean: 0.77528, std: 0.02116, params: {'subsample': 0.8, 'reg_lambda': 1, 'reg_alpha': 0.1, 'objective': 'binary:logistic', 'n_estimators': 900, 'min_child_weight': 1, 'max_depth': 9, 'learning_rate': 0.0001, 'gamma': 10, 'colsample_bytree': 0.8},\n",
       " mean: 0.81380, std: 0.02517, params: {'subsample': 0.8, 'reg_lambda': 10, 'reg_alpha': 0.001, 'objective': 'binary:logistic', 'n_estimators': 800, 'min_child_weight': 1, 'max_depth': 10, 'learning_rate': 0.1, 'gamma': 1, 'colsample_bytree': 0.8},\n",
       " mean: 0.78652, std: 0.02407, params: {'subsample': 0.8, 'reg_lambda': 100, 'reg_alpha': 0, 'objective': 'binary:logistic', 'n_estimators': 500, 'min_child_weight': 1, 'max_depth': 7, 'learning_rate': 0.01, 'gamma': 5, 'colsample_bytree': 0.8},\n",
       " mean: 0.61156, std: 0.00191, params: {'subsample': 0.8, 'reg_lambda': 1, 'reg_alpha': 100, 'objective': 'binary:logistic', 'n_estimators': 600, 'min_child_weight': 1, 'max_depth': 9, 'learning_rate': 0.0001, 'gamma': 5, 'colsample_bytree': 0.8},\n",
       " mean: 0.81541, std: 0.02258, params: {'subsample': 0.8, 'reg_lambda': 10, 'reg_alpha': 1, 'objective': 'binary:logistic', 'n_estimators': 500, 'min_child_weight': 1, 'max_depth': 6, 'learning_rate': 0.01, 'gamma': 0.01, 'colsample_bytree': 0.8},\n",
       " mean: 0.61156, std: 0.00191, params: {'subsample': 0.8, 'reg_lambda': 0.001, 'reg_alpha': 100, 'objective': 'binary:logistic', 'n_estimators': 500, 'min_child_weight': 1, 'max_depth': 6, 'learning_rate': 0.001, 'gamma': 10, 'colsample_bytree': 0.8},\n",
       " mean: 0.61156, std: 0.00191, params: {'subsample': 0.8, 'reg_lambda': 0.01, 'reg_alpha': 0.001, 'objective': 'binary:logistic', 'n_estimators': 900, 'min_child_weight': 1, 'max_depth': 10, 'learning_rate': 0.1, 'gamma': 100, 'colsample_bytree': 0.8},\n",
       " mean: 0.82022, std: 0.02726, params: {'subsample': 0.8, 'reg_lambda': 0.01, 'reg_alpha': 0.001, 'objective': 'binary:logistic', 'n_estimators': 1500, 'min_child_weight': 1, 'max_depth': 6, 'learning_rate': 0.0001, 'gamma': 1, 'colsample_bytree': 0.8},\n",
       " mean: 0.78652, std: 0.02407, params: {'subsample': 0.8, 'reg_lambda': 100, 'reg_alpha': 0.01, 'objective': 'binary:logistic', 'n_estimators': 500, 'min_child_weight': 1, 'max_depth': 7, 'learning_rate': 0.0005, 'gamma': 5, 'colsample_bytree': 0.8},\n",
       " mean: 0.77368, std: 0.02293, params: {'subsample': 0.8, 'reg_lambda': 1, 'reg_alpha': 10, 'objective': 'binary:logistic', 'n_estimators': 900, 'min_child_weight': 1, 'max_depth': 5, 'learning_rate': 0.2, 'gamma': 5, 'colsample_bytree': 0.8},\n",
       " mean: 0.82183, std: 0.03572, params: {'subsample': 0.8, 'reg_lambda': 100, 'reg_alpha': 0.01, 'objective': 'binary:logistic', 'n_estimators': 600, 'min_child_weight': 1, 'max_depth': 7, 'learning_rate': 0.1, 'gamma': 0, 'colsample_bytree': 0.8},\n",
       " mean: 0.77528, std: 0.03297, params: {'subsample': 0.8, 'reg_lambda': 0.01, 'reg_alpha': 0, 'objective': 'binary:logistic', 'n_estimators': 600, 'min_child_weight': 1, 'max_depth': 7, 'learning_rate': 0.2, 'gamma': 0.001, 'colsample_bytree': 0.8},\n",
       " mean: 0.81380, std: 0.01876, params: {'subsample': 0.8, 'reg_lambda': 5, 'reg_alpha': 0.01, 'objective': 'binary:logistic', 'n_estimators': 600, 'min_child_weight': 1, 'max_depth': 9, 'learning_rate': 0.0001, 'gamma': 0.1, 'colsample_bytree': 0.8},\n",
       " mean: 0.78170, std: 0.00937, params: {'subsample': 0.8, 'reg_lambda': 1, 'reg_alpha': 10, 'objective': 'binary:logistic', 'n_estimators': 800, 'min_child_weight': 1, 'max_depth': 4, 'learning_rate': 0.0001, 'gamma': 0.1, 'colsample_bytree': 0.8},\n",
       " mean: 0.82343, std: 0.02454, params: {'subsample': 0.8, 'reg_lambda': 0.001, 'reg_alpha': 0, 'objective': 'binary:logistic', 'n_estimators': 800, 'min_child_weight': 1, 'max_depth': 5, 'learning_rate': 0.0001, 'gamma': 0, 'colsample_bytree': 0.8},\n",
       " mean: 0.81059, std: 0.03365, params: {'subsample': 0.8, 'reg_lambda': 100, 'reg_alpha': 0.01, 'objective': 'binary:logistic', 'n_estimators': 900, 'min_child_weight': 1, 'max_depth': 8, 'learning_rate': 0.1, 'gamma': 0.01, 'colsample_bytree': 0.8},\n",
       " mean: 0.81059, std: 0.01795, params: {'subsample': 0.8, 'reg_lambda': 5, 'reg_alpha': 0.1, 'objective': 'binary:logistic', 'n_estimators': 1000, 'min_child_weight': 1, 'max_depth': 4, 'learning_rate': 0.0001, 'gamma': 0.1, 'colsample_bytree': 0.8},\n",
       " mean: 0.61156, std: 0.00191, params: {'subsample': 0.8, 'reg_lambda': 100, 'reg_alpha': 100, 'objective': 'binary:logistic', 'n_estimators': 600, 'min_child_weight': 1, 'max_depth': 7, 'learning_rate': 0.0005, 'gamma': 0, 'colsample_bytree': 0.8},\n",
       " mean: 0.61156, std: 0.00191, params: {'subsample': 0.8, 'reg_lambda': 0.1, 'reg_alpha': 100, 'objective': 'binary:logistic', 'n_estimators': 1000, 'min_child_weight': 1, 'max_depth': 9, 'learning_rate': 0.1, 'gamma': 1, 'colsample_bytree': 0.8},\n",
       " mean: 0.61156, std: 0.00191, params: {'subsample': 0.8, 'reg_lambda': 0.001, 'reg_alpha': 100, 'objective': 'binary:logistic', 'n_estimators': 800, 'min_child_weight': 1, 'max_depth': 9, 'learning_rate': 0.2, 'gamma': 0.1, 'colsample_bytree': 0.8},\n",
       " mean: 0.61156, std: 0.00191, params: {'subsample': 0.8, 'reg_lambda': 5, 'reg_alpha': 0.01, 'objective': 'binary:logistic', 'n_estimators': 400, 'min_child_weight': 1, 'max_depth': 8, 'learning_rate': 0.001, 'gamma': 100, 'colsample_bytree': 0.8},\n",
       " mean: 0.76404, std: 0.02057, params: {'subsample': 0.8, 'reg_lambda': 0, 'reg_alpha': 10, 'objective': 'binary:logistic', 'n_estimators': 400, 'min_child_weight': 1, 'max_depth': 7, 'learning_rate': 0.0001, 'gamma': 10, 'colsample_bytree': 0.8},\n",
       " mean: 0.61156, std: 0.00191, params: {'subsample': 0.8, 'reg_lambda': 0.01, 'reg_alpha': 100, 'objective': 'binary:logistic', 'n_estimators': 400, 'min_child_weight': 1, 'max_depth': 9, 'learning_rate': 0.0005, 'gamma': 100, 'colsample_bytree': 0.8},\n",
       " mean: 0.61156, std: 0.00191, params: {'subsample': 0.8, 'reg_lambda': 10, 'reg_alpha': 100, 'objective': 'binary:logistic', 'n_estimators': 1500, 'min_child_weight': 1, 'max_depth': 7, 'learning_rate': 0.2, 'gamma': 0.1, 'colsample_bytree': 0.8},\n",
       " mean: 0.77368, std: 0.01615, params: {'subsample': 0.8, 'reg_lambda': 0.001, 'reg_alpha': 5, 'objective': 'binary:logistic', 'n_estimators': 600, 'min_child_weight': 1, 'max_depth': 5, 'learning_rate': 0.1, 'gamma': 5, 'colsample_bytree': 0.8},\n",
       " mean: 0.61156, std: 0.00191, params: {'subsample': 0.8, 'reg_lambda': 100, 'reg_alpha': 100, 'objective': 'binary:logistic', 'n_estimators': 1500, 'min_child_weight': 1, 'max_depth': 8, 'learning_rate': 0.2, 'gamma': 10, 'colsample_bytree': 0.8},\n",
       " mean: 0.79133, std: 0.01582, params: {'subsample': 0.8, 'reg_lambda': 0.1, 'reg_alpha': 0.1, 'objective': 'binary:logistic', 'n_estimators': 1500, 'min_child_weight': 1, 'max_depth': 6, 'learning_rate': 0.0001, 'gamma': 10, 'colsample_bytree': 0.8},\n",
       " mean: 0.61156, std: 0.00191, params: {'subsample': 0.8, 'reg_lambda': 0.1, 'reg_alpha': 100, 'objective': 'binary:logistic', 'n_estimators': 600, 'min_child_weight': 1, 'max_depth': 9, 'learning_rate': 0.0001, 'gamma': 0, 'colsample_bytree': 0.8},\n",
       " mean: 0.78652, std: 0.02407, params: {'subsample': 0.8, 'reg_lambda': 100, 'reg_alpha': 0.001, 'objective': 'binary:logistic', 'n_estimators': 1500, 'min_child_weight': 1, 'max_depth': 7, 'learning_rate': 0.1, 'gamma': 5, 'colsample_bytree': 0.8},\n",
       " mean: 0.61156, std: 0.00191, params: {'subsample': 0.8, 'reg_lambda': 5, 'reg_alpha': 100, 'objective': 'binary:logistic', 'n_estimators': 600, 'min_child_weight': 1, 'max_depth': 6, 'learning_rate': 0.0001, 'gamma': 0.1, 'colsample_bytree': 0.8},\n",
       " mean: 0.61156, std: 0.00191, params: {'subsample': 0.8, 'reg_lambda': 5, 'reg_alpha': 100, 'objective': 'binary:logistic', 'n_estimators': 1000, 'min_child_weight': 1, 'max_depth': 5, 'learning_rate': 0.0001, 'gamma': 10, 'colsample_bytree': 0.8},\n",
       " mean: 0.82504, std: 0.02004, params: {'subsample': 0.8, 'reg_lambda': 10, 'reg_alpha': 5, 'objective': 'binary:logistic', 'n_estimators': 600, 'min_child_weight': 1, 'max_depth': 8, 'learning_rate': 0.2, 'gamma': 0.1, 'colsample_bytree': 0.8},\n",
       " mean: 0.61156, std: 0.00191, params: {'subsample': 0.8, 'reg_lambda': 5, 'reg_alpha': 100, 'objective': 'binary:logistic', 'n_estimators': 1000, 'min_child_weight': 1, 'max_depth': 7, 'learning_rate': 0.1, 'gamma': 100, 'colsample_bytree': 0.8},\n",
       " mean: 0.78652, std: 0.02407, params: {'subsample': 0.8, 'reg_lambda': 0.01, 'reg_alpha': 10, 'objective': 'binary:logistic', 'n_estimators': 400, 'min_child_weight': 1, 'max_depth': 6, 'learning_rate': 0.01, 'gamma': 5, 'colsample_bytree': 0.8},\n",
       " mean: 0.78652, std: 0.01140, params: {'subsample': 0.8, 'reg_lambda': 0.1, 'reg_alpha': 5, 'objective': 'binary:logistic', 'n_estimators': 900, 'min_child_weight': 1, 'max_depth': 9, 'learning_rate': 0.0001, 'gamma': 0.1, 'colsample_bytree': 0.8},\n",
       " mean: 0.79615, std: 0.02738, params: {'subsample': 0.8, 'reg_lambda': 10, 'reg_alpha': 10, 'objective': 'binary:logistic', 'n_estimators': 400, 'min_child_weight': 1, 'max_depth': 10, 'learning_rate': 0.01, 'gamma': 0.01, 'colsample_bytree': 0.8},\n",
       " mean: 0.77689, std: 0.00989, params: {'subsample': 0.8, 'reg_lambda': 0.1, 'reg_alpha': 10, 'objective': 'binary:logistic', 'n_estimators': 700, 'min_child_weight': 1, 'max_depth': 8, 'learning_rate': 0.0001, 'gamma': 0.1, 'colsample_bytree': 0.8},\n",
       " mean: 0.61156, std: 0.00191, params: {'subsample': 0.8, 'reg_lambda': 100, 'reg_alpha': 100, 'objective': 'binary:logistic', 'n_estimators': 800, 'min_child_weight': 1, 'max_depth': 9, 'learning_rate': 0.001, 'gamma': 0.001, 'colsample_bytree': 0.8},\n",
       " mean: 0.61156, std: 0.00191, params: {'subsample': 0.8, 'reg_lambda': 0, 'reg_alpha': 100, 'objective': 'binary:logistic', 'n_estimators': 1500, 'min_child_weight': 1, 'max_depth': 6, 'learning_rate': 0.001, 'gamma': 5, 'colsample_bytree': 0.8},\n",
       " mean: 0.82343, std: 0.02619, params: {'subsample': 0.8, 'reg_lambda': 0.01, 'reg_alpha': 0, 'objective': 'binary:logistic', 'n_estimators': 600, 'min_child_weight': 1, 'max_depth': 5, 'learning_rate': 0.01, 'gamma': 0, 'colsample_bytree': 0.8},\n",
       " mean: 0.81701, std: 0.02339, params: {'subsample': 0.8, 'reg_lambda': 1, 'reg_alpha': 1, 'objective': 'binary:logistic', 'n_estimators': 1500, 'min_child_weight': 1, 'max_depth': 5, 'learning_rate': 0.0005, 'gamma': 0.1, 'colsample_bytree': 0.8},\n",
       " mean: 0.78331, std: 0.01000, params: {'subsample': 0.8, 'reg_lambda': 0.01, 'reg_alpha': 10, 'objective': 'binary:logistic', 'n_estimators': 800, 'min_child_weight': 1, 'max_depth': 4, 'learning_rate': 0.0005, 'gamma': 0, 'colsample_bytree': 0.8},\n",
       " mean: 0.79454, std: 0.02510, params: {'subsample': 0.8, 'reg_lambda': 10, 'reg_alpha': 0, 'objective': 'binary:logistic', 'n_estimators': 600, 'min_child_weight': 1, 'max_depth': 8, 'learning_rate': 0.2, 'gamma': 0.001, 'colsample_bytree': 0.8},\n",
       " mean: 0.82022, std: 0.02726, params: {'subsample': 0.8, 'reg_lambda': 0.001, 'reg_alpha': 0.01, 'objective': 'binary:logistic', 'n_estimators': 800, 'min_child_weight': 1, 'max_depth': 6, 'learning_rate': 0.0001, 'gamma': 1, 'colsample_bytree': 0.8},\n",
       " mean: 0.81220, std: 0.01502, params: {'subsample': 0.8, 'reg_lambda': 0.1, 'reg_alpha': 0, 'objective': 'binary:logistic', 'n_estimators': 1000, 'min_child_weight': 1, 'max_depth': 7, 'learning_rate': 0.01, 'gamma': 10, 'colsample_bytree': 0.8},\n",
       " mean: 0.82504, std: 0.03062, params: {'subsample': 0.8, 'reg_lambda': 0, 'reg_alpha': 0.1, 'objective': 'binary:logistic', 'n_estimators': 500, 'min_child_weight': 1, 'max_depth': 7, 'learning_rate': 0.001, 'gamma': 0, 'colsample_bytree': 0.8},\n",
       " mean: 0.67095, std: 0.07348, params: {'subsample': 0.8, 'reg_lambda': 0.001, 'reg_alpha': 0.1, 'objective': 'binary:logistic', 'n_estimators': 900, 'min_child_weight': 1, 'max_depth': 5, 'learning_rate': 0.0005, 'gamma': 100, 'colsample_bytree': 0.8},\n",
       " mean: 0.78331, std: 0.00692, params: {'subsample': 0.8, 'reg_lambda': 1, 'reg_alpha': 10, 'objective': 'binary:logistic', 'n_estimators': 400, 'min_child_weight': 1, 'max_depth': 4, 'learning_rate': 0.0005, 'gamma': 0.1, 'colsample_bytree': 0.8},\n",
       " mean: 0.82022, std: 0.02732, params: {'subsample': 0.8, 'reg_lambda': 0.1, 'reg_alpha': 0.01, 'objective': 'binary:logistic', 'n_estimators': 900, 'min_child_weight': 1, 'max_depth': 8, 'learning_rate': 0.1, 'gamma': 5, 'colsample_bytree': 0.8},\n",
       " mean: 0.78652, std: 0.02407, params: {'subsample': 0.8, 'reg_lambda': 10, 'reg_alpha': 5, 'objective': 'binary:logistic', 'n_estimators': 900, 'min_child_weight': 1, 'max_depth': 7, 'learning_rate': 0.01, 'gamma': 5, 'colsample_bytree': 0.8},\n",
       " mean: 0.61156, std: 0.00191, params: {'subsample': 0.8, 'reg_lambda': 0.1, 'reg_alpha': 100, 'objective': 'binary:logistic', 'n_estimators': 1000, 'min_child_weight': 1, 'max_depth': 4, 'learning_rate': 0.0005, 'gamma': 100, 'colsample_bytree': 0.8},\n",
       " mean: 0.79133, std: 0.02897, params: {'subsample': 0.8, 'reg_lambda': 10, 'reg_alpha': 0, 'objective': 'binary:logistic', 'n_estimators': 1500, 'min_child_weight': 1, 'max_depth': 8, 'learning_rate': 0.1, 'gamma': 5, 'colsample_bytree': 0.8},\n",
       " mean: 0.79615, std: 0.01711, params: {'subsample': 0.8, 'reg_lambda': 0.1, 'reg_alpha': 5, 'objective': 'binary:logistic', 'n_estimators': 1000, 'min_child_weight': 1, 'max_depth': 7, 'learning_rate': 0.0005, 'gamma': 0.01, 'colsample_bytree': 0.8},\n",
       " mean: 0.81220, std: 0.02926, params: {'subsample': 0.8, 'reg_lambda': 100, 'reg_alpha': 0, 'objective': 'binary:logistic', 'n_estimators': 800, 'min_child_weight': 1, 'max_depth': 9, 'learning_rate': 0.1, 'gamma': 0, 'colsample_bytree': 0.8},\n",
       " mean: 0.76565, std: 0.02087, params: {'subsample': 0.8, 'reg_lambda': 10, 'reg_alpha': 5, 'objective': 'binary:logistic', 'n_estimators': 1000, 'min_child_weight': 1, 'max_depth': 9, 'learning_rate': 0.0001, 'gamma': 5, 'colsample_bytree': 0.8},\n",
       " mean: 0.82504, std: 0.02683, params: {'subsample': 0.8, 'reg_lambda': 0.01, 'reg_alpha': 1, 'objective': 'binary:logistic', 'n_estimators': 400, 'min_child_weight': 1, 'max_depth': 9, 'learning_rate': 0.2, 'gamma': 1, 'colsample_bytree': 0.8},\n",
       " mean: 0.80257, std: 0.02316, params: {'subsample': 0.8, 'reg_lambda': 5, 'reg_alpha': 0.001, 'objective': 'binary:logistic', 'n_estimators': 700, 'min_child_weight': 1, 'max_depth': 6, 'learning_rate': 0.1, 'gamma': 0.1, 'colsample_bytree': 0.8},\n",
       " mean: 0.78652, std: 0.03194, params: {'subsample': 0.8, 'reg_lambda': 0, 'reg_alpha': 0.01, 'objective': 'binary:logistic', 'n_estimators': 500, 'min_child_weight': 1, 'max_depth': 4, 'learning_rate': 0.1, 'gamma': 0.001, 'colsample_bytree': 0.8},\n",
       " mean: 0.77528, std: 0.03924, params: {'subsample': 0.8, 'reg_lambda': 0.001, 'reg_alpha': 0, 'objective': 'binary:logistic', 'n_estimators': 400, 'min_child_weight': 1, 'max_depth': 7, 'learning_rate': 0.2, 'gamma': 0, 'colsample_bytree': 0.8},\n",
       " mean: 0.82022, std: 0.03076, params: {'subsample': 0.8, 'reg_lambda': 0.001, 'reg_alpha': 5, 'objective': 'binary:logistic', 'n_estimators': 500, 'min_child_weight': 1, 'max_depth': 4, 'learning_rate': 0.1, 'gamma': 0.1, 'colsample_bytree': 0.8},\n",
       " mean: 0.82665, std: 0.02111, params: {'subsample': 0.8, 'reg_lambda': 0.1, 'reg_alpha': 0, 'objective': 'binary:logistic', 'n_estimators': 800, 'min_child_weight': 1, 'max_depth': 9, 'learning_rate': 0.001, 'gamma': 0.01, 'colsample_bytree': 0.8},\n",
       " mean: 0.61156, std: 0.00191, params: {'subsample': 0.8, 'reg_lambda': 5, 'reg_alpha': 10, 'objective': 'binary:logistic', 'n_estimators': 800, 'min_child_weight': 1, 'max_depth': 10, 'learning_rate': 0.2, 'gamma': 100, 'colsample_bytree': 0.8},\n",
       " mean: 0.82343, std: 0.02445, params: {'subsample': 0.8, 'reg_lambda': 1, 'reg_alpha': 0.1, 'objective': 'binary:logistic', 'n_estimators': 1500, 'min_child_weight': 1, 'max_depth': 8, 'learning_rate': 0.001, 'gamma': 0, 'colsample_bytree': 0.8},\n",
       " mean: 0.78812, std: 0.04829, params: {'subsample': 0.8, 'reg_lambda': 0.001, 'reg_alpha': 0.001, 'objective': 'binary:logistic', 'n_estimators': 700, 'min_child_weight': 1, 'max_depth': 6, 'learning_rate': 0.1, 'gamma': 0.001, 'colsample_bytree': 0.8},\n",
       " mean: 0.81862, std: 0.02546, params: {'subsample': 0.8, 'reg_lambda': 0.1, 'reg_alpha': 1, 'objective': 'binary:logistic', 'n_estimators': 1500, 'min_child_weight': 1, 'max_depth': 8, 'learning_rate': 0.01, 'gamma': 1, 'colsample_bytree': 0.8},\n",
       " mean: 0.61156, std: 0.00191, params: {'subsample': 0.8, 'reg_lambda': 10, 'reg_alpha': 0.1, 'objective': 'binary:logistic', 'n_estimators': 900, 'min_child_weight': 1, 'max_depth': 8, 'learning_rate': 0.01, 'gamma': 100, 'colsample_bytree': 0.8},\n",
       " mean: 0.81380, std: 0.01678, params: {'subsample': 0.8, 'reg_lambda': 10, 'reg_alpha': 0.001, 'objective': 'binary:logistic', 'n_estimators': 800, 'min_child_weight': 1, 'max_depth': 5, 'learning_rate': 0.01, 'gamma': 0, 'colsample_bytree': 0.8},\n",
       " mean: 0.79454, std: 0.03061, params: {'subsample': 0.8, 'reg_lambda': 5, 'reg_alpha': 0.001, 'objective': 'binary:logistic', 'n_estimators': 1500, 'min_child_weight': 1, 'max_depth': 5, 'learning_rate': 0.2, 'gamma': 0.001, 'colsample_bytree': 0.8},\n",
       " mean: 0.61156, std: 0.00191, params: {'subsample': 0.8, 'reg_lambda': 0.1, 'reg_alpha': 100, 'objective': 'binary:logistic', 'n_estimators': 700, 'min_child_weight': 1, 'max_depth': 7, 'learning_rate': 0.0005, 'gamma': 1, 'colsample_bytree': 0.8},\n",
       " mean: 0.61156, std: 0.00191, params: {'subsample': 0.8, 'reg_lambda': 0, 'reg_alpha': 100, 'objective': 'binary:logistic', 'n_estimators': 1500, 'min_child_weight': 1, 'max_depth': 5, 'learning_rate': 0.0001, 'gamma': 0, 'colsample_bytree': 0.8},\n",
       " mean: 0.81220, std: 0.01976, params: {'subsample': 0.8, 'reg_lambda': 100, 'reg_alpha': 1, 'objective': 'binary:logistic', 'n_estimators': 800, 'min_child_weight': 1, 'max_depth': 7, 'learning_rate': 0.01, 'gamma': 0.01, 'colsample_bytree': 0.8},\n",
       " mean: 0.78652, std: 0.02108, params: {'subsample': 0.8, 'reg_lambda': 100, 'reg_alpha': 0.001, 'objective': 'binary:logistic', 'n_estimators': 700, 'min_child_weight': 1, 'max_depth': 7, 'learning_rate': 0.0001, 'gamma': 0.001, 'colsample_bytree': 0.8},\n",
       " mean: 0.78491, std: 0.01241, params: {'subsample': 0.8, 'reg_lambda': 1, 'reg_alpha': 5, 'objective': 'binary:logistic', 'n_estimators': 700, 'min_child_weight': 1, 'max_depth': 9, 'learning_rate': 0.0001, 'gamma': 0.001, 'colsample_bytree': 0.8},\n",
       " mean: 0.82022, std: 0.02041, params: {'subsample': 0.8, 'reg_lambda': 10, 'reg_alpha': 5, 'objective': 'binary:logistic', 'n_estimators': 900, 'min_child_weight': 1, 'max_depth': 4, 'learning_rate': 0.2, 'gamma': 0.1, 'colsample_bytree': 0.8},\n",
       " mean: 0.78331, std: 0.00692, params: {'subsample': 0.8, 'reg_lambda': 1, 'reg_alpha': 10, 'objective': 'binary:logistic', 'n_estimators': 400, 'min_child_weight': 1, 'max_depth': 8, 'learning_rate': 0.001, 'gamma': 0, 'colsample_bytree': 0.8},\n",
       " mean: 0.78010, std: 0.02481, params: {'subsample': 0.8, 'reg_lambda': 100, 'reg_alpha': 0.01, 'objective': 'binary:logistic', 'n_estimators': 800, 'min_child_weight': 1, 'max_depth': 5, 'learning_rate': 0.0001, 'gamma': 1, 'colsample_bytree': 0.8},\n",
       " mean: 0.80899, std: 0.02991, params: {'subsample': 0.8, 'reg_lambda': 0.001, 'reg_alpha': 0.1, 'objective': 'binary:logistic', 'n_estimators': 1000, 'min_child_weight': 1, 'max_depth': 6, 'learning_rate': 0.01, 'gamma': 0, 'colsample_bytree': 0.8},\n",
       " mean: 0.61156, std: 0.00191, params: {'subsample': 0.8, 'reg_lambda': 0.1, 'reg_alpha': 100, 'objective': 'binary:logistic', 'n_estimators': 600, 'min_child_weight': 1, 'max_depth': 7, 'learning_rate': 0.2, 'gamma': 100, 'colsample_bytree': 0.8},\n",
       " mean: 0.61156, std: 0.00191, params: {'subsample': 0.8, 'reg_lambda': 0.1, 'reg_alpha': 100, 'objective': 'binary:logistic', 'n_estimators': 900, 'min_child_weight': 1, 'max_depth': 10, 'learning_rate': 0.001, 'gamma': 10, 'colsample_bytree': 0.8},\n",
       " mean: 0.78812, std: 0.02985, params: {'subsample': 0.8, 'reg_lambda': 1, 'reg_alpha': 0.1, 'objective': 'binary:logistic', 'n_estimators': 600, 'min_child_weight': 1, 'max_depth': 8, 'learning_rate': 0.1, 'gamma': 0.001, 'colsample_bytree': 0.8},\n",
       " mean: 0.81220, std: 0.02058, params: {'subsample': 0.8, 'reg_lambda': 10, 'reg_alpha': 0.001, 'objective': 'binary:logistic', 'n_estimators': 400, 'min_child_weight': 1, 'max_depth': 6, 'learning_rate': 0.001, 'gamma': 0.01, 'colsample_bytree': 0.8},\n",
       " mean: 0.81380, std: 0.02311, params: {'subsample': 0.8, 'reg_lambda': 0, 'reg_alpha': 0, 'objective': 'binary:logistic', 'n_estimators': 500, 'min_child_weight': 1, 'max_depth': 4, 'learning_rate': 0.001, 'gamma': 5, 'colsample_bytree': 0.8},\n",
       " mean: 0.82343, std: 0.02729, params: {'subsample': 0.8, 'reg_lambda': 0, 'reg_alpha': 0.1, 'objective': 'binary:logistic', 'n_estimators': 900, 'min_child_weight': 1, 'max_depth': 8, 'learning_rate': 0.0005, 'gamma': 0.01, 'colsample_bytree': 0.8},\n",
       " mean: 0.79615, std: 0.02493, params: {'subsample': 0.8, 'reg_lambda': 10, 'reg_alpha': 0, 'objective': 'binary:logistic', 'n_estimators': 900, 'min_child_weight': 1, 'max_depth': 6, 'learning_rate': 0.2, 'gamma': 0.001, 'colsample_bytree': 0.8},\n",
       " mean: 0.82343, std: 0.02729, params: {'subsample': 0.8, 'reg_lambda': 0, 'reg_alpha': 0.001, 'objective': 'binary:logistic', 'n_estimators': 400, 'min_child_weight': 1, 'max_depth': 9, 'learning_rate': 0.0001, 'gamma': 0, 'colsample_bytree': 0.8},\n",
       " mean: 0.78652, std: 0.02407, params: {'subsample': 0.8, 'reg_lambda': 100, 'reg_alpha': 0.01, 'objective': 'binary:logistic', 'n_estimators': 900, 'min_child_weight': 1, 'max_depth': 7, 'learning_rate': 0.01, 'gamma': 5, 'colsample_bytree': 0.8},\n",
       " mean: 0.78652, std: 0.02407, params: {'subsample': 0.8, 'reg_lambda': 100, 'reg_alpha': 0, 'objective': 'binary:logistic', 'n_estimators': 600, 'min_child_weight': 1, 'max_depth': 6, 'learning_rate': 0.0005, 'gamma': 10, 'colsample_bytree': 0.8},\n",
       " mean: 0.78652, std: 0.02407, params: {'subsample': 0.8, 'reg_lambda': 100, 'reg_alpha': 0.01, 'objective': 'binary:logistic', 'n_estimators': 1500, 'min_child_weight': 1, 'max_depth': 8, 'learning_rate': 0.1, 'gamma': 5, 'colsample_bytree': 0.8},\n",
       " mean: 0.78652, std: 0.01784, params: {'subsample': 0.8, 'reg_lambda': 0.01, 'reg_alpha': 0.001, 'objective': 'binary:logistic', 'n_estimators': 600, 'min_child_weight': 1, 'max_depth': 4, 'learning_rate': 0.001, 'gamma': 10, 'colsample_bytree': 0.8},\n",
       " mean: 0.78652, std: 0.03144, params: {'subsample': 0.8, 'reg_lambda': 0, 'reg_alpha': 0.01, 'objective': 'binary:logistic', 'n_estimators': 500, 'min_child_weight': 1, 'max_depth': 4, 'learning_rate': 0.2, 'gamma': 0.001, 'colsample_bytree': 0.8},\n",
       " mean: 0.61156, std: 0.00191, params: {'subsample': 0.8, 'reg_lambda': 100, 'reg_alpha': 0, 'objective': 'binary:logistic', 'n_estimators': 1000, 'min_child_weight': 1, 'max_depth': 9, 'learning_rate': 0.01, 'gamma': 100, 'colsample_bytree': 0.8},\n",
       " mean: 0.82183, std: 0.02960, params: {'subsample': 0.8, 'reg_lambda': 0.01, 'reg_alpha': 1, 'objective': 'binary:logistic', 'n_estimators': 600, 'min_child_weight': 1, 'max_depth': 10, 'learning_rate': 0.01, 'gamma': 0, 'colsample_bytree': 0.8},\n",
       " mean: 0.78812, std: 0.02925, params: {'subsample': 0.8, 'reg_lambda': 0.01, 'reg_alpha': 1, 'objective': 'binary:logistic', 'n_estimators': 1000, 'min_child_weight': 1, 'max_depth': 5, 'learning_rate': 0.2, 'gamma': 0.01, 'colsample_bytree': 0.8},\n",
       " mean: 0.77047, std: 0.02065, params: {'subsample': 0.8, 'reg_lambda': 0, 'reg_alpha': 1, 'objective': 'binary:logistic', 'n_estimators': 800, 'min_child_weight': 1, 'max_depth': 4, 'learning_rate': 0.0001, 'gamma': 10, 'colsample_bytree': 0.8},\n",
       " mean: 0.61156, std: 0.00191, params: {'subsample': 0.8, 'reg_lambda': 0.01, 'reg_alpha': 100, 'objective': 'binary:logistic', 'n_estimators': 900, 'min_child_weight': 1, 'max_depth': 7, 'learning_rate': 0.01, 'gamma': 0, 'colsample_bytree': 0.8},\n",
       " mean: 0.78973, std: 0.03273, params: {'subsample': 0.8, 'reg_lambda': 1, 'reg_alpha': 0, 'objective': 'binary:logistic', 'n_estimators': 800, 'min_child_weight': 1, 'max_depth': 9, 'learning_rate': 0.1, 'gamma': 0.001, 'colsample_bytree': 0.8},\n",
       " mean: 0.78652, std: 0.02407, params: {'subsample': 0.8, 'reg_lambda': 0.001, 'reg_alpha': 5, 'objective': 'binary:logistic', 'n_estimators': 1500, 'min_child_weight': 1, 'max_depth': 7, 'learning_rate': 0.0005, 'gamma': 10, 'colsample_bytree': 0.8},\n",
       " mean: 0.80257, std: 0.01962, params: {'subsample': 0.8, 'reg_lambda': 10, 'reg_alpha': 1, 'objective': 'binary:logistic', 'n_estimators': 700, 'min_child_weight': 1, 'max_depth': 7, 'learning_rate': 0.0005, 'gamma': 0.001, 'colsample_bytree': 0.8},\n",
       " mean: 0.61156, std: 0.00191, params: {'subsample': 0.8, 'reg_lambda': 0.001, 'reg_alpha': 100, 'objective': 'binary:logistic', 'n_estimators': 1500, 'min_child_weight': 1, 'max_depth': 10, 'learning_rate': 0.2, 'gamma': 0.01, 'colsample_bytree': 0.8},\n",
       " mean: 0.81059, std: 0.02850, params: {'subsample': 0.8, 'reg_lambda': 0, 'reg_alpha': 5, 'objective': 'binary:logistic', 'n_estimators': 400, 'min_child_weight': 1, 'max_depth': 5, 'learning_rate': 0.2, 'gamma': 1, 'colsample_bytree': 0.8},\n",
       " mean: 0.80417, std: 0.01318, params: {'subsample': 0.8, 'reg_lambda': 10, 'reg_alpha': 0, 'objective': 'binary:logistic', 'n_estimators': 600, 'min_child_weight': 1, 'max_depth': 6, 'learning_rate': 0.0001, 'gamma': 0.001, 'colsample_bytree': 0.8},\n",
       " mean: 0.82343, std: 0.02874, params: {'subsample': 0.8, 'reg_lambda': 0, 'reg_alpha': 0.001, 'objective': 'binary:logistic', 'n_estimators': 700, 'min_child_weight': 1, 'max_depth': 6, 'learning_rate': 0.001, 'gamma': 0, 'colsample_bytree': 0.8},\n",
       " mean: 0.79133, std: 0.02701, params: {'subsample': 0.8, 'reg_lambda': 100, 'reg_alpha': 0, 'objective': 'binary:logistic', 'n_estimators': 900, 'min_child_weight': 1, 'max_depth': 7, 'learning_rate': 0.001, 'gamma': 0.001, 'colsample_bytree': 0.8},\n",
       " mean: 0.80899, std: 0.01744, params: {'subsample': 0.8, 'reg_lambda': 0.001, 'reg_alpha': 1, 'objective': 'binary:logistic', 'n_estimators': 1000, 'min_child_weight': 1, 'max_depth': 8, 'learning_rate': 0.0005, 'gamma': 5, 'colsample_bytree': 0.8},\n",
       " mean: 0.81862, std: 0.02738, params: {'subsample': 0.8, 'reg_lambda': 0, 'reg_alpha': 1, 'objective': 'binary:logistic', 'n_estimators': 400, 'min_child_weight': 1, 'max_depth': 8, 'learning_rate': 0.001, 'gamma': 0.01, 'colsample_bytree': 0.8},\n",
       " mean: 0.79454, std: 0.02856, params: {'subsample': 0.8, 'reg_lambda': 100, 'reg_alpha': 5, 'objective': 'binary:logistic', 'n_estimators': 400, 'min_child_weight': 1, 'max_depth': 10, 'learning_rate': 0.0001, 'gamma': 1, 'colsample_bytree': 0.8},\n",
       " mean: 0.78652, std: 0.02407, params: {'subsample': 0.8, 'reg_lambda': 10, 'reg_alpha': 10, 'objective': 'binary:logistic', 'n_estimators': 1500, 'min_child_weight': 1, 'max_depth': 7, 'learning_rate': 0.2, 'gamma': 5, 'colsample_bytree': 0.8},\n",
       " mean: 0.81541, std: 0.02122, params: {'subsample': 0.8, 'reg_lambda': 10, 'reg_alpha': 0.01, 'objective': 'binary:logistic', 'n_estimators': 1000, 'min_child_weight': 1, 'max_depth': 9, 'learning_rate': 0.01, 'gamma': 0.001, 'colsample_bytree': 0.8},\n",
       " mean: 0.61156, std: 0.00191, params: {'subsample': 0.8, 'reg_lambda': 5, 'reg_alpha': 100, 'objective': 'binary:logistic', 'n_estimators': 400, 'min_child_weight': 1, 'max_depth': 8, 'learning_rate': 0.01, 'gamma': 0.1, 'colsample_bytree': 0.8},\n",
       " mean: 0.81059, std: 0.01630, params: {'subsample': 0.8, 'reg_lambda': 1, 'reg_alpha': 1, 'objective': 'binary:logistic', 'n_estimators': 800, 'min_child_weight': 1, 'max_depth': 7, 'learning_rate': 0.1, 'gamma': 5, 'colsample_bytree': 0.8},\n",
       " mean: 0.81541, std: 0.01789, params: {'subsample': 0.8, 'reg_lambda': 5, 'reg_alpha': 0.01, 'objective': 'binary:logistic', 'n_estimators': 700, 'min_child_weight': 1, 'max_depth': 4, 'learning_rate': 0.01, 'gamma': 0, 'colsample_bytree': 0.8},\n",
       " mean: 0.82343, std: 0.02729, params: {'subsample': 0.8, 'reg_lambda': 0.01, 'reg_alpha': 0.1, 'objective': 'binary:logistic', 'n_estimators': 1500, 'min_child_weight': 1, 'max_depth': 9, 'learning_rate': 0.0001, 'gamma': 0.001, 'colsample_bytree': 0.8},\n",
       " mean: 0.80738, std: 0.01510, params: {'subsample': 0.8, 'reg_lambda': 0.01, 'reg_alpha': 1, 'objective': 'binary:logistic', 'n_estimators': 400, 'min_child_weight': 1, 'max_depth': 5, 'learning_rate': 0.0001, 'gamma': 5, 'colsample_bytree': 0.8},\n",
       " mean: 0.79615, std: 0.01961, params: {'subsample': 0.8, 'reg_lambda': 1, 'reg_alpha': 1, 'objective': 'binary:logistic', 'n_estimators': 500, 'min_child_weight': 1, 'max_depth': 8, 'learning_rate': 0.0005, 'gamma': 5, 'colsample_bytree': 0.8},\n",
       " mean: 0.78652, std: 0.02407, params: {'subsample': 0.8, 'reg_lambda': 10, 'reg_alpha': 5, 'objective': 'binary:logistic', 'n_estimators': 1000, 'min_child_weight': 1, 'max_depth': 9, 'learning_rate': 0.001, 'gamma': 10, 'colsample_bytree': 0.8},\n",
       " mean: 0.63884, std: 0.05378, params: {'subsample': 0.8, 'reg_lambda': 0.01, 'reg_alpha': 0, 'objective': 'binary:logistic', 'n_estimators': 600, 'min_child_weight': 1, 'max_depth': 5, 'learning_rate': 0.001, 'gamma': 100, 'colsample_bytree': 0.8},\n",
       " mean: 0.79454, std: 0.02856, params: {'subsample': 0.8, 'reg_lambda': 10, 'reg_alpha': 10, 'objective': 'binary:logistic', 'n_estimators': 1500, 'min_child_weight': 1, 'max_depth': 7, 'learning_rate': 0.01, 'gamma': 1, 'colsample_bytree': 0.8},\n",
       " mean: 0.61156, std: 0.00191, params: {'subsample': 0.8, 'reg_lambda': 10, 'reg_alpha': 100, 'objective': 'binary:logistic', 'n_estimators': 700, 'min_child_weight': 1, 'max_depth': 7, 'learning_rate': 0.001, 'gamma': 10, 'colsample_bytree': 0.8},\n",
       " mean: 0.78652, std: 0.01986, params: {'subsample': 0.8, 'reg_lambda': 5, 'reg_alpha': 0.001, 'objective': 'binary:logistic', 'n_estimators': 1000, 'min_child_weight': 1, 'max_depth': 10, 'learning_rate': 0.0001, 'gamma': 5, 'colsample_bytree': 0.8},\n",
       " mean: 0.80096, std: 0.01792, params: {'subsample': 0.8, 'reg_lambda': 10, 'reg_alpha': 1, 'objective': 'binary:logistic', 'n_estimators': 900, 'min_child_weight': 1, 'max_depth': 6, 'learning_rate': 0.0005, 'gamma': 1, 'colsample_bytree': 0.8},\n",
       " mean: 0.81701, std: 0.01875, params: {'subsample': 0.8, 'reg_lambda': 0.01, 'reg_alpha': 0.1, 'objective': 'binary:logistic', 'n_estimators': 800, 'min_child_weight': 1, 'max_depth': 10, 'learning_rate': 0.01, 'gamma': 5, 'colsample_bytree': 0.8},\n",
       " mean: 0.81541, std: 0.01855, params: {'subsample': 0.8, 'reg_lambda': 0, 'reg_alpha': 0.001, 'objective': 'binary:logistic', 'n_estimators': 1000, 'min_child_weight': 1, 'max_depth': 5, 'learning_rate': 0.01, 'gamma': 5, 'colsample_bytree': 0.8},\n",
       " mean: 0.76404, std: 0.02057, params: {'subsample': 0.8, 'reg_lambda': 10, 'reg_alpha': 0.001, 'objective': 'binary:logistic', 'n_estimators': 700, 'min_child_weight': 1, 'max_depth': 8, 'learning_rate': 0.0001, 'gamma': 10, 'colsample_bytree': 0.8},\n",
       " mean: 0.78010, std: 0.01814, params: {'subsample': 0.8, 'reg_lambda': 0.001, 'reg_alpha': 5, 'objective': 'binary:logistic', 'n_estimators': 400, 'min_child_weight': 1, 'max_depth': 5, 'learning_rate': 0.1, 'gamma': 5, 'colsample_bytree': 0.8},\n",
       " mean: 0.61156, std: 0.00191, params: {'subsample': 0.8, 'reg_lambda': 0.1, 'reg_alpha': 100, 'objective': 'binary:logistic', 'n_estimators': 900, 'min_child_weight': 1, 'max_depth': 7, 'learning_rate': 0.0001, 'gamma': 0.001, 'colsample_bytree': 0.8},\n",
       " mean: 0.78973, std: 0.02478, params: {'subsample': 0.8, 'reg_lambda': 100, 'reg_alpha': 0.1, 'objective': 'binary:logistic', 'n_estimators': 900, 'min_child_weight': 1, 'max_depth': 10, 'learning_rate': 0.0005, 'gamma': 0.01, 'colsample_bytree': 0.8},\n",
       " mean: 0.78652, std: 0.02407, params: {'subsample': 0.8, 'reg_lambda': 0, 'reg_alpha': 10, 'objective': 'binary:logistic', 'n_estimators': 700, 'min_child_weight': 1, 'max_depth': 4, 'learning_rate': 0.1, 'gamma': 5, 'colsample_bytree': 0.8},\n",
       " mean: 0.80257, std: 0.02411, params: {'subsample': 0.8, 'reg_lambda': 0.1, 'reg_alpha': 10, 'objective': 'binary:logistic', 'n_estimators': 400, 'min_child_weight': 1, 'max_depth': 10, 'learning_rate': 0.2, 'gamma': 1, 'colsample_bytree': 0.8},\n",
       " mean: 0.78652, std: 0.02407, params: {'subsample': 0.8, 'reg_lambda': 100, 'reg_alpha': 0.1, 'objective': 'binary:logistic', 'n_estimators': 500, 'min_child_weight': 1, 'max_depth': 10, 'learning_rate': 0.0001, 'gamma': 5, 'colsample_bytree': 0.8},\n",
       " mean: 0.82665, std: 0.02800, params: {'subsample': 0.8, 'reg_lambda': 0.1, 'reg_alpha': 0, 'objective': 'binary:logistic', 'n_estimators': 1000, 'min_child_weight': 1, 'max_depth': 7, 'learning_rate': 0.0001, 'gamma': 1, 'colsample_bytree': 0.8},\n",
       " mean: 0.78973, std: 0.02775, params: {'subsample': 0.8, 'reg_lambda': 5, 'reg_alpha': 0.1, 'objective': 'binary:logistic', 'n_estimators': 700, 'min_child_weight': 1, 'max_depth': 8, 'learning_rate': 0.2, 'gamma': 10, 'colsample_bytree': 0.8},\n",
       " mean: 0.82022, std: 0.02614, params: {'subsample': 0.8, 'reg_lambda': 10, 'reg_alpha': 0.01, 'objective': 'binary:logistic', 'n_estimators': 1000, 'min_child_weight': 1, 'max_depth': 7, 'learning_rate': 0.2, 'gamma': 1, 'colsample_bytree': 0.8},\n",
       " mean: 0.61156, std: 0.00191, params: {'subsample': 0.8, 'reg_lambda': 0.1, 'reg_alpha': 1, 'objective': 'binary:logistic', 'n_estimators': 400, 'min_child_weight': 1, 'max_depth': 4, 'learning_rate': 0.1, 'gamma': 100, 'colsample_bytree': 0.8},\n",
       " mean: 0.80738, std: 0.02647, params: {'subsample': 0.8, 'reg_lambda': 100, 'reg_alpha': 0.1, 'objective': 'binary:logistic', 'n_estimators': 600, 'min_child_weight': 1, 'max_depth': 7, 'learning_rate': 0.2, 'gamma': 0.01, 'colsample_bytree': 0.8},\n",
       " mean: 0.61156, std: 0.00191, params: {'subsample': 0.8, 'reg_lambda': 0.01, 'reg_alpha': 100, 'objective': 'binary:logistic', 'n_estimators': 600, 'min_child_weight': 1, 'max_depth': 4, 'learning_rate': 0.01, 'gamma': 0.1, 'colsample_bytree': 0.8},\n",
       " mean: 0.78170, std: 0.01431, params: {'subsample': 0.8, 'reg_lambda': 0.01, 'reg_alpha': 10, 'objective': 'binary:logistic', 'n_estimators': 700, 'min_child_weight': 1, 'max_depth': 4, 'learning_rate': 0.001, 'gamma': 1, 'colsample_bytree': 0.8},\n",
       " mean: 0.77849, std: 0.02146, params: {'subsample': 0.8, 'reg_lambda': 5, 'reg_alpha': 0.01, 'objective': 'binary:logistic', 'n_estimators': 500, 'min_child_weight': 1, 'max_depth': 10, 'learning_rate': 0.001, 'gamma': 5, 'colsample_bytree': 0.8},\n",
       " mean: 0.78652, std: 0.02407, params: {'subsample': 0.8, 'reg_lambda': 0.1, 'reg_alpha': 0.1, 'objective': 'binary:logistic', 'n_estimators': 800, 'min_child_weight': 1, 'max_depth': 9, 'learning_rate': 0.0001, 'gamma': 100, 'colsample_bytree': 0.8},\n",
       " mean: 0.82183, std: 0.02512, params: {'subsample': 0.8, 'reg_lambda': 0.001, 'reg_alpha': 0, 'objective': 'binary:logistic', 'n_estimators': 500, 'min_child_weight': 1, 'max_depth': 5, 'learning_rate': 0.0001, 'gamma': 0.01, 'colsample_bytree': 0.8},\n",
       " mean: 0.76404, std: 0.01698, params: {'subsample': 0.8, 'reg_lambda': 0.001, 'reg_alpha': 5, 'objective': 'binary:logistic', 'n_estimators': 600, 'min_child_weight': 1, 'max_depth': 7, 'learning_rate': 0.0001, 'gamma': 5, 'colsample_bytree': 0.8},\n",
       " mean: 0.82183, std: 0.02253, params: {'subsample': 0.8, 'reg_lambda': 1, 'reg_alpha': 5, 'objective': 'binary:logistic', 'n_estimators': 400, 'min_child_weight': 1, 'max_depth': 10, 'learning_rate': 0.2, 'gamma': 0.01, 'colsample_bytree': 0.8},\n",
       " mean: 0.76565, std: 0.02087, params: {'subsample': 0.8, 'reg_lambda': 1, 'reg_alpha': 10, 'objective': 'binary:logistic', 'n_estimators': 1500, 'min_child_weight': 1, 'max_depth': 7, 'learning_rate': 0.0001, 'gamma': 5, 'colsample_bytree': 0.8},\n",
       " mean: 0.81380, std: 0.01876, params: {'subsample': 0.8, 'reg_lambda': 5, 'reg_alpha': 0, 'objective': 'binary:logistic', 'n_estimators': 600, 'min_child_weight': 1, 'max_depth': 9, 'learning_rate': 0.0001, 'gamma': 0, 'colsample_bytree': 0.8},\n",
       " mean: 0.82825, std: 0.02669, params: {'subsample': 0.8, 'reg_lambda': 0.1, 'reg_alpha': 0.1, 'objective': 'binary:logistic', 'n_estimators': 400, 'min_child_weight': 1, 'max_depth': 8, 'learning_rate': 0.001, 'gamma': 1, 'colsample_bytree': 0.8},\n",
       " mean: 0.81862, std: 0.02738, params: {'subsample': 0.8, 'reg_lambda': 0.1, 'reg_alpha': 0.01, 'objective': 'binary:logistic', 'n_estimators': 900, 'min_child_weight': 1, 'max_depth': 5, 'learning_rate': 0.0005, 'gamma': 0.001, 'colsample_bytree': 0.8},\n",
       " mean: 0.78652, std: 0.02407, params: {'subsample': 0.8, 'reg_lambda': 0.01, 'reg_alpha': 0.001, 'objective': 'binary:logistic', 'n_estimators': 900, 'min_child_weight': 1, 'max_depth': 8, 'learning_rate': 0.0001, 'gamma': 100, 'colsample_bytree': 0.8},\n",
       " mean: 0.61156, std: 0.00191, params: {'subsample': 0.8, 'reg_lambda': 100, 'reg_alpha': 100, 'objective': 'binary:logistic', 'n_estimators': 500, 'min_child_weight': 1, 'max_depth': 4, 'learning_rate': 0.2, 'gamma': 0, 'colsample_bytree': 0.8},\n",
       " mean: 0.61156, std: 0.00191, params: {'subsample': 0.8, 'reg_lambda': 0.001, 'reg_alpha': 100, 'objective': 'binary:logistic', 'n_estimators': 1500, 'min_child_weight': 1, 'max_depth': 5, 'learning_rate': 0.0005, 'gamma': 0.001, 'colsample_bytree': 0.8},\n",
       " mean: 0.80899, std: 0.02675, params: {'subsample': 0.8, 'reg_lambda': 10, 'reg_alpha': 10, 'objective': 'binary:logistic', 'n_estimators': 1500, 'min_child_weight': 1, 'max_depth': 4, 'learning_rate': 0.01, 'gamma': 0.1, 'colsample_bytree': 0.8},\n",
       " mean: 0.81380, std: 0.01457, params: {'subsample': 0.8, 'reg_lambda': 0.1, 'reg_alpha': 0.1, 'objective': 'binary:logistic', 'n_estimators': 900, 'min_child_weight': 1, 'max_depth': 10, 'learning_rate': 0.1, 'gamma': 10, 'colsample_bytree': 0.8},\n",
       " mean: 0.78652, std: 0.02407, params: {'subsample': 0.8, 'reg_lambda': 0, 'reg_alpha': 0.1, 'objective': 'binary:logistic', 'n_estimators': 1500, 'min_child_weight': 1, 'max_depth': 8, 'learning_rate': 0.0001, 'gamma': 100, 'colsample_bytree': 0.8},\n",
       " mean: 0.79936, std: 0.01633, params: {'subsample': 0.8, 'reg_lambda': 10, 'reg_alpha': 1, 'objective': 'binary:logistic', 'n_estimators': 700, 'min_child_weight': 1, 'max_depth': 6, 'learning_rate': 0.0001, 'gamma': 0.01, 'colsample_bytree': 0.8},\n",
       " mean: 0.61156, std: 0.00191, params: {'subsample': 0.8, 'reg_lambda': 5, 'reg_alpha': 100, 'objective': 'binary:logistic', 'n_estimators': 600, 'min_child_weight': 1, 'max_depth': 10, 'learning_rate': 0.1, 'gamma': 5, 'colsample_bytree': 0.8},\n",
       " mean: 0.81541, std: 0.02993, params: {'subsample': 0.8, 'reg_lambda': 0, 'reg_alpha': 1, 'objective': 'binary:logistic', 'n_estimators': 700, 'min_child_weight': 1, 'max_depth': 8, 'learning_rate': 0.0001, 'gamma': 0.001, 'colsample_bytree': 0.8},\n",
       " mean: 0.61156, std: 0.00191, params: {'subsample': 0.8, 'reg_lambda': 0, 'reg_alpha': 0, 'objective': 'binary:logistic', 'n_estimators': 1000, 'min_child_weight': 1, 'max_depth': 10, 'learning_rate': 0.001, 'gamma': 100, 'colsample_bytree': 0.8},\n",
       " mean: 0.61156, std: 0.00191, params: {'subsample': 0.8, 'reg_lambda': 0, 'reg_alpha': 100, 'objective': 'binary:logistic', 'n_estimators': 900, 'min_child_weight': 1, 'max_depth': 9, 'learning_rate': 0.2, 'gamma': 5, 'colsample_bytree': 0.8},\n",
       " mean: 0.61156, std: 0.00191, params: {'subsample': 0.8, 'reg_lambda': 0, 'reg_alpha': 100, 'objective': 'binary:logistic', 'n_estimators': 500, 'min_child_weight': 1, 'max_depth': 7, 'learning_rate': 0.001, 'gamma': 10, 'colsample_bytree': 0.8},\n",
       " mean: 0.78331, std: 0.00692, params: {'subsample': 0.8, 'reg_lambda': 0.1, 'reg_alpha': 10, 'objective': 'binary:logistic', 'n_estimators': 500, 'min_child_weight': 1, 'max_depth': 10, 'learning_rate': 0.0005, 'gamma': 1, 'colsample_bytree': 0.8},\n",
       " mean: 0.81541, std: 0.02273, params: {'subsample': 0.8, 'reg_lambda': 1, 'reg_alpha': 0.001, 'objective': 'binary:logistic', 'n_estimators': 1500, 'min_child_weight': 1, 'max_depth': 8, 'learning_rate': 0.2, 'gamma': 5, 'colsample_bytree': 0.8},\n",
       " mean: 0.81059, std: 0.02496, params: {'subsample': 0.8, 'reg_lambda': 0, 'reg_alpha': 5, 'objective': 'binary:logistic', 'n_estimators': 700, 'min_child_weight': 1, 'max_depth': 6, 'learning_rate': 0.01, 'gamma': 0.01, 'colsample_bytree': 0.8},\n",
       " mean: 0.80738, std: 0.02221, params: {'subsample': 0.8, 'reg_lambda': 0.01, 'reg_alpha': 0, 'objective': 'binary:logistic', 'n_estimators': 800, 'min_child_weight': 1, 'max_depth': 5, 'learning_rate': 0.01, 'gamma': 10, 'colsample_bytree': 0.8},\n",
       " mean: 0.78812, std: 0.02277, params: {'subsample': 0.8, 'reg_lambda': 100, 'reg_alpha': 0, 'objective': 'binary:logistic', 'n_estimators': 1500, 'min_child_weight': 1, 'max_depth': 4, 'learning_rate': 0.0001, 'gamma': 0.001, 'colsample_bytree': 0.8},\n",
       " mean: 0.80096, std: 0.02356, params: {'subsample': 0.8, 'reg_lambda': 0.01, 'reg_alpha': 0.1, 'objective': 'binary:logistic', 'n_estimators': 1000, 'min_child_weight': 1, 'max_depth': 4, 'learning_rate': 0.001, 'gamma': 10, 'colsample_bytree': 0.8},\n",
       " mean: 0.61156, std: 0.00191, params: {'subsample': 0.8, 'reg_lambda': 5, 'reg_alpha': 100, 'objective': 'binary:logistic', 'n_estimators': 800, 'min_child_weight': 1, 'max_depth': 5, 'learning_rate': 0.01, 'gamma': 5, 'colsample_bytree': 0.8},\n",
       " mean: 0.81541, std: 0.02303, params: {'subsample': 0.8, 'reg_lambda': 1, 'reg_alpha': 1, 'objective': 'binary:logistic', 'n_estimators': 600, 'min_child_weight': 1, 'max_depth': 4, 'learning_rate': 0.0005, 'gamma': 0, 'colsample_bytree': 0.8},\n",
       " mean: 0.81059, std: 0.02496, params: {'subsample': 0.8, 'reg_lambda': 0.001, 'reg_alpha': 5, 'objective': 'binary:logistic', 'n_estimators': 700, 'min_child_weight': 1, 'max_depth': 9, 'learning_rate': 0.01, 'gamma': 0, 'colsample_bytree': 0.8},\n",
       " mean: 0.77368, std: 0.01532, params: {'subsample': 0.8, 'reg_lambda': 0.1, 'reg_alpha': 5, 'objective': 'binary:logistic', 'n_estimators': 600, 'min_child_weight': 1, 'max_depth': 8, 'learning_rate': 0.2, 'gamma': 5, 'colsample_bytree': 0.8},\n",
       " mean: 0.61156, std: 0.00191, params: {'subsample': 0.8, 'reg_lambda': 10, 'reg_alpha': 0.001, 'objective': 'binary:logistic', 'n_estimators': 1500, 'min_child_weight': 1, 'max_depth': 5, 'learning_rate': 0.1, 'gamma': 100, 'colsample_bytree': 0.8},\n",
       " mean: 0.61156, std: 0.00191, params: {'subsample': 0.8, 'reg_lambda': 0.01, 'reg_alpha': 100, 'objective': 'binary:logistic', 'n_estimators': 800, 'min_child_weight': 1, 'max_depth': 7, 'learning_rate': 0.001, 'gamma': 0.1, 'colsample_bytree': 0.8},\n",
       " mean: 0.78170, std: 0.01431, params: {'subsample': 0.8, 'reg_lambda': 5, 'reg_alpha': 10, 'objective': 'binary:logistic', 'n_estimators': 900, 'min_child_weight': 1, 'max_depth': 4, 'learning_rate': 0.001, 'gamma': 1, 'colsample_bytree': 0.8},\n",
       " mean: 0.81059, std: 0.02948, params: {'subsample': 0.8, 'reg_lambda': 100, 'reg_alpha': 0.1, 'objective': 'binary:logistic', 'n_estimators': 600, 'min_child_weight': 1, 'max_depth': 4, 'learning_rate': 0.2, 'gamma': 0.01, 'colsample_bytree': 0.8},\n",
       " mean: 0.78652, std: 0.01140, params: {'subsample': 0.8, 'reg_lambda': 0, 'reg_alpha': 5, 'objective': 'binary:logistic', 'n_estimators': 700, 'min_child_weight': 1, 'max_depth': 5, 'learning_rate': 0.0005, 'gamma': 0.1, 'colsample_bytree': 0.8},\n",
       " mean: 0.78652, std: 0.02407, params: {'subsample': 0.8, 'reg_lambda': 0.1, 'reg_alpha': 10, 'objective': 'binary:logistic', 'n_estimators': 600, 'min_child_weight': 1, 'max_depth': 4, 'learning_rate': 0.01, 'gamma': 5, 'colsample_bytree': 0.8},\n",
       " mean: 0.61156, std: 0.00191, params: {'subsample': 0.8, 'reg_lambda': 5, 'reg_alpha': 100, 'objective': 'binary:logistic', 'n_estimators': 800, 'min_child_weight': 1, 'max_depth': 5, 'learning_rate': 0.001, 'gamma': 0.01, 'colsample_bytree': 0.8},\n",
       " mean: 0.61156, std: 0.00191, params: {'subsample': 0.8, 'reg_lambda': 0.001, 'reg_alpha': 100, 'objective': 'binary:logistic', 'n_estimators': 1000, 'min_child_weight': 1, 'max_depth': 10, 'learning_rate': 0.1, 'gamma': 0.001, 'colsample_bytree': 0.8},\n",
       " mean: 0.61156, std: 0.00191, params: {'subsample': 0.8, 'reg_lambda': 5, 'reg_alpha': 100, 'objective': 'binary:logistic', 'n_estimators': 1500, 'min_child_weight': 1, 'max_depth': 8, 'learning_rate': 0.001, 'gamma': 0.01, 'colsample_bytree': 0.8},\n",
       " mean: 0.80096, std: 0.01877, params: {'subsample': 0.8, 'reg_lambda': 10, 'reg_alpha': 1, 'objective': 'binary:logistic', 'n_estimators': 800, 'min_child_weight': 1, 'max_depth': 5, 'learning_rate': 0.0001, 'gamma': 0.1, 'colsample_bytree': 0.8},\n",
       " mean: 0.61156, std: 0.00191, params: {'subsample': 0.8, 'reg_lambda': 0, 'reg_alpha': 10, 'objective': 'binary:logistic', 'n_estimators': 500, 'min_child_weight': 1, 'max_depth': 5, 'learning_rate': 0.0005, 'gamma': 100, 'colsample_bytree': 0.8},\n",
       " mean: 0.81541, std: 0.02148, params: {'subsample': 0.8, 'reg_lambda': 1, 'reg_alpha': 1, 'objective': 'binary:logistic', 'n_estimators': 500, 'min_child_weight': 1, 'max_depth': 9, 'learning_rate': 0.0001, 'gamma': 0.1, 'colsample_bytree': 0.8},\n",
       " mean: 0.81701, std: 0.02354, params: {'subsample': 0.8, 'reg_lambda': 0, 'reg_alpha': 0.01, 'objective': 'binary:logistic', 'n_estimators': 500, 'min_child_weight': 1, 'max_depth': 4, 'learning_rate': 0.001, 'gamma': 1, 'colsample_bytree': 0.8},\n",
       " mean: 0.78010, std: 0.00665, params: {'subsample': 0.8, 'reg_lambda': 0, 'reg_alpha': 10, 'objective': 'binary:logistic', 'n_estimators': 500, 'min_child_weight': 1, 'max_depth': 7, 'learning_rate': 0.0005, 'gamma': 0.001, 'colsample_bytree': 0.8},\n",
       " mean: 0.81541, std: 0.02551, params: {'subsample': 0.8, 'reg_lambda': 0.1, 'reg_alpha': 0.1, 'objective': 'binary:logistic', 'n_estimators': 700, 'min_child_weight': 1, 'max_depth': 7, 'learning_rate': 0.0005, 'gamma': 5, 'colsample_bytree': 0.8},\n",
       " mean: 0.76565, std: 0.02087, params: {'subsample': 0.8, 'reg_lambda': 5, 'reg_alpha': 10, 'objective': 'binary:logistic', 'n_estimators': 400, 'min_child_weight': 1, 'max_depth': 6, 'learning_rate': 0.0005, 'gamma': 5, 'colsample_bytree': 0.8},\n",
       " mean: 0.76404, std: 0.02057, params: {'subsample': 0.8, 'reg_lambda': 10, 'reg_alpha': 0.01, 'objective': 'binary:logistic', 'n_estimators': 900, 'min_child_weight': 1, 'max_depth': 9, 'learning_rate': 0.0001, 'gamma': 10, 'colsample_bytree': 0.8},\n",
       " mean: 0.81541, std: 0.02551, params: {'subsample': 0.8, 'reg_lambda': 1, 'reg_alpha': 1, 'objective': 'binary:logistic', 'n_estimators': 1500, 'min_child_weight': 1, 'max_depth': 4, 'learning_rate': 0.0005, 'gamma': 1, 'colsample_bytree': 0.8},\n",
       " mean: 0.61156, std: 0.00191, params: {'subsample': 0.8, 'reg_lambda': 100, 'reg_alpha': 0.1, 'objective': 'binary:logistic', 'n_estimators': 700, 'min_child_weight': 1, 'max_depth': 6, 'learning_rate': 0.2, 'gamma': 100, 'colsample_bytree': 0.8},\n",
       " mean: 0.81701, std: 0.02354, params: {'subsample': 0.8, 'reg_lambda': 0, 'reg_alpha': 1, 'objective': 'binary:logistic', 'n_estimators': 700, 'min_child_weight': 1, 'max_depth': 4, 'learning_rate': 0.001, 'gamma': 0, 'colsample_bytree': 0.8},\n",
       " mean: 0.80096, std: 0.02437, params: {'subsample': 0.8, 'reg_lambda': 0, 'reg_alpha': 0, 'objective': 'binary:logistic', 'n_estimators': 1000, 'min_child_weight': 1, 'max_depth': 7, 'learning_rate': 0.01, 'gamma': 0.01, 'colsample_bytree': 0.8},\n",
       " mean: 0.79615, std: 0.01711, params: {'subsample': 0.8, 'reg_lambda': 0.1, 'reg_alpha': 5, 'objective': 'binary:logistic', 'n_estimators': 600, 'min_child_weight': 1, 'max_depth': 5, 'learning_rate': 0.001, 'gamma': 0.01, 'colsample_bytree': 0.8},\n",
       " mean: 0.82183, std: 0.02324, params: {'subsample': 0.8, 'reg_lambda': 0.001, 'reg_alpha': 0.1, 'objective': 'binary:logistic', 'n_estimators': 700, 'min_child_weight': 1, 'max_depth': 4, 'learning_rate': 0.2, 'gamma': 5, 'colsample_bytree': 0.8},\n",
       " mean: 0.63884, std: 0.05378, params: {'subsample': 0.8, 'reg_lambda': 5, 'reg_alpha': 0, 'objective': 'binary:logistic', 'n_estimators': 700, 'min_child_weight': 1, 'max_depth': 10, 'learning_rate': 0.0005, 'gamma': 100, 'colsample_bytree': 0.8},\n",
       " mean: 0.82343, std: 0.02729, params: {'subsample': 0.8, 'reg_lambda': 0.1, 'reg_alpha': 0, 'objective': 'binary:logistic', 'n_estimators': 900, 'min_child_weight': 1, 'max_depth': 8, 'learning_rate': 0.0005, 'gamma': 0.1, 'colsample_bytree': 0.8},\n",
       " mean: 0.82986, std: 0.02954, params: {'subsample': 0.8, 'reg_lambda': 0.01, 'reg_alpha': 0.001, 'objective': 'binary:logistic', 'n_estimators': 700, 'min_child_weight': 1, 'max_depth': 7, 'learning_rate': 0.01, 'gamma': 1, 'colsample_bytree': 0.8},\n",
       " mean: 0.78652, std: 0.02407, params: {'subsample': 0.8, 'reg_lambda': 100, 'reg_alpha': 10, 'objective': 'binary:logistic', 'n_estimators': 600, 'min_child_weight': 1, 'max_depth': 8, 'learning_rate': 0.0001, 'gamma': 5, 'colsample_bytree': 0.8},\n",
       " mean: 0.61156, std: 0.00191, params: {'subsample': 0.8, 'reg_lambda': 0.01, 'reg_alpha': 100, 'objective': 'binary:logistic', 'n_estimators': 500, 'min_child_weight': 1, 'max_depth': 5, 'learning_rate': 0.01, 'gamma': 5, 'colsample_bytree': 0.8},\n",
       " mean: 0.81220, std: 0.01502, params: {'subsample': 0.8, 'reg_lambda': 0, 'reg_alpha': 0.01, 'objective': 'binary:logistic', 'n_estimators': 1000, 'min_child_weight': 1, 'max_depth': 4, 'learning_rate': 0.1, 'gamma': 10, 'colsample_bytree': 0.8},\n",
       " mean: 0.61156, std: 0.00191, params: {'subsample': 0.8, 'reg_lambda': 10, 'reg_alpha': 100, 'objective': 'binary:logistic', 'n_estimators': 700, 'min_child_weight': 1, 'max_depth': 4, 'learning_rate': 0.0005, 'gamma': 0.001, 'colsample_bytree': 0.8},\n",
       " mean: 0.61156, std: 0.00191, params: {'subsample': 0.8, 'reg_lambda': 5, 'reg_alpha': 1, 'objective': 'binary:logistic', 'n_estimators': 800, 'min_child_weight': 1, 'max_depth': 10, 'learning_rate': 0.1, 'gamma': 100, 'colsample_bytree': 0.8},\n",
       " mean: 0.78973, std: 0.02731, params: {'subsample': 0.8, 'reg_lambda': 1, 'reg_alpha': 0, 'objective': 'binary:logistic', 'n_estimators': 900, 'min_child_weight': 1, 'max_depth': 8, 'learning_rate': 0.2, 'gamma': 1, 'colsample_bytree': 0.8},\n",
       " mean: 0.81862, std: 0.01623, params: {'subsample': 0.8, 'reg_lambda': 0.001, 'reg_alpha': 1, 'objective': 'binary:logistic', 'n_estimators': 500, 'min_child_weight': 1, 'max_depth': 8, 'learning_rate': 0.2, 'gamma': 1, 'colsample_bytree': 0.8},\n",
       " mean: 0.81220, std: 0.01937, params: {'subsample': 0.8, 'reg_lambda': 5, 'reg_alpha': 0.01, 'objective': 'binary:logistic', 'n_estimators': 1500, 'min_child_weight': 1, 'max_depth': 9, 'learning_rate': 0.0001, 'gamma': 1, 'colsample_bytree': 0.8},\n",
       " mean: 0.79615, std: 0.02788, params: {'subsample': 0.8, 'reg_lambda': 0.01, 'reg_alpha': 0.001, 'objective': 'binary:logistic', 'n_estimators': 1000, 'min_child_weight': 1, 'max_depth': 8, 'learning_rate': 0.01, 'gamma': 0.001, 'colsample_bytree': 0.8},\n",
       " mean: 0.61156, std: 0.00191, params: {'subsample': 0.8, 'reg_lambda': 10, 'reg_alpha': 100, 'objective': 'binary:logistic', 'n_estimators': 1500, 'min_child_weight': 1, 'max_depth': 8, 'learning_rate': 0.0001, 'gamma': 5, 'colsample_bytree': 0.8},\n",
       " mean: 0.82183, std: 0.02843, params: {'subsample': 0.8, 'reg_lambda': 100, 'reg_alpha': 5, 'objective': 'binary:logistic', 'n_estimators': 700, 'min_child_weight': 1, 'max_depth': 7, 'learning_rate': 0.1, 'gamma': 0.1, 'colsample_bytree': 0.8},\n",
       " mean: 0.78652, std: 0.02108, params: {'subsample': 0.8, 'reg_lambda': 100, 'reg_alpha': 0.001, 'objective': 'binary:logistic', 'n_estimators': 600, 'min_child_weight': 1, 'max_depth': 6, 'learning_rate': 0.0001, 'gamma': 0.001, 'colsample_bytree': 0.8},\n",
       " mean: 0.70787, std: 0.08129, params: {'subsample': 0.8, 'reg_lambda': 0, 'reg_alpha': 1, 'objective': 'binary:logistic', 'n_estimators': 500, 'min_child_weight': 1, 'max_depth': 8, 'learning_rate': 0.0005, 'gamma': 100, 'colsample_bytree': 0.8},\n",
       " mean: 0.82183, std: 0.02465, params: {'subsample': 0.8, 'reg_lambda': 0, 'reg_alpha': 0.001, 'objective': 'binary:logistic', 'n_estimators': 700, 'min_child_weight': 1, 'max_depth': 4, 'learning_rate': 0.001, 'gamma': 1, 'colsample_bytree': 0.8},\n",
       " mean: 0.61156, std: 0.00191, params: {'subsample': 0.8, 'reg_lambda': 0.01, 'reg_alpha': 100, 'objective': 'binary:logistic', 'n_estimators': 600, 'min_child_weight': 1, 'max_depth': 4, 'learning_rate': 0.0001, 'gamma': 1, 'colsample_bytree': 0.8},\n",
       " mean: 0.79133, std: 0.02701, params: {'subsample': 0.8, 'reg_lambda': 100, 'reg_alpha': 0.001, 'objective': 'binary:logistic', 'n_estimators': 1500, 'min_child_weight': 1, 'max_depth': 6, 'learning_rate': 0.001, 'gamma': 0.01, 'colsample_bytree': 0.8},\n",
       " mean: 0.79454, std: 0.03123, params: {'subsample': 0.8, 'reg_lambda': 1, 'reg_alpha': 0.1, 'objective': 'binary:logistic', 'n_estimators': 900, 'min_child_weight': 1, 'max_depth': 6, 'learning_rate': 0.1, 'gamma': 0, 'colsample_bytree': 0.8},\n",
       " mean: 0.82504, std: 0.02759, params: {'subsample': 0.8, 'reg_lambda': 0.01, 'reg_alpha': 0, 'objective': 'binary:logistic', 'n_estimators': 800, 'min_child_weight': 1, 'max_depth': 8, 'learning_rate': 0.0005, 'gamma': 1, 'colsample_bytree': 0.8},\n",
       " mean: 0.82343, std: 0.02729, params: {'subsample': 0.8, 'reg_lambda': 0.1, 'reg_alpha': 0.01, 'objective': 'binary:logistic', 'n_estimators': 600, 'min_child_weight': 1, 'max_depth': 10, 'learning_rate': 0.0005, 'gamma': 0.01, 'colsample_bytree': 0.8},\n",
       " mean: 0.61156, std: 0.00191, params: {'subsample': 0.8, 'reg_lambda': 0.1, 'reg_alpha': 100, 'objective': 'binary:logistic', 'n_estimators': 700, 'min_child_weight': 1, 'max_depth': 6, 'learning_rate': 0.0005, 'gamma': 10, 'colsample_bytree': 0.8},\n",
       " mean: 0.61156, std: 0.00191, params: {'subsample': 0.8, 'reg_lambda': 0.01, 'reg_alpha': 100, 'objective': 'binary:logistic', 'n_estimators': 1000, 'min_child_weight': 1, 'max_depth': 8, 'learning_rate': 0.01, 'gamma': 0.01, 'colsample_bytree': 0.8},\n",
       " mean: 0.80899, std: 0.01320, params: {'subsample': 0.8, 'reg_lambda': 0.1, 'reg_alpha': 1, 'objective': 'binary:logistic', 'n_estimators': 1000, 'min_child_weight': 1, 'max_depth': 6, 'learning_rate': 0.0005, 'gamma': 5, 'colsample_bytree': 0.8},\n",
       " mean: 0.82022, std: 0.02726, params: {'subsample': 0.8, 'reg_lambda': 0.001, 'reg_alpha': 0.1, 'objective': 'binary:logistic', 'n_estimators': 900, 'min_child_weight': 1, 'max_depth': 8, 'learning_rate': 0.1, 'gamma': 5, 'colsample_bytree': 0.8},\n",
       " mean: 0.79615, std: 0.03204, params: {'subsample': 0.8, 'reg_lambda': 0.01, 'reg_alpha': 0, 'objective': 'binary:logistic', 'n_estimators': 1500, 'min_child_weight': 1, 'max_depth': 8, 'learning_rate': 0.01, 'gamma': 0.001, 'colsample_bytree': 0.8},\n",
       " mean: 0.80899, std: 0.02459, params: {'subsample': 0.8, 'reg_lambda': 0.1, 'reg_alpha': 0.01, 'objective': 'binary:logistic', 'n_estimators': 600, 'min_child_weight': 1, 'max_depth': 9, 'learning_rate': 0.01, 'gamma': 10, 'colsample_bytree': 0.8},\n",
       " mean: 0.78652, std: 0.02407, params: {'subsample': 0.8, 'reg_lambda': 100, 'reg_alpha': 0.1, 'objective': 'binary:logistic', 'n_estimators': 900, 'min_child_weight': 1, 'max_depth': 6, 'learning_rate': 0.0005, 'gamma': 10, 'colsample_bytree': 0.8},\n",
       " mean: 0.78652, std: 0.02407, params: {'subsample': 0.8, 'reg_lambda': 0, 'reg_alpha': 5, 'objective': 'binary:logistic', 'n_estimators': 1500, 'min_child_weight': 1, 'max_depth': 10, 'learning_rate': 0.001, 'gamma': 10, 'colsample_bytree': 0.8},\n",
       " mean: 0.79133, std: 0.02096, params: {'subsample': 0.8, 'reg_lambda': 0, 'reg_alpha': 1, 'objective': 'binary:logistic', 'n_estimators': 1000, 'min_child_weight': 1, 'max_depth': 8, 'learning_rate': 0.2, 'gamma': 0.1, 'colsample_bytree': 0.8},\n",
       " mean: 0.61156, std: 0.00191, params: {'subsample': 0.8, 'reg_lambda': 100, 'reg_alpha': 100, 'objective': 'binary:logistic', 'n_estimators': 500, 'min_child_weight': 1, 'max_depth': 10, 'learning_rate': 0.0005, 'gamma': 0.1, 'colsample_bytree': 0.8},\n",
       " mean: 0.80096, std: 0.04002, params: {'subsample': 0.8, 'reg_lambda': 0.001, 'reg_alpha': 0.01, 'objective': 'binary:logistic', 'n_estimators': 900, 'min_child_weight': 1, 'max_depth': 4, 'learning_rate': 0.1, 'gamma': 1, 'colsample_bytree': 0.8},\n",
       " mean: 0.81220, std: 0.01976, params: {'subsample': 0.8, 'reg_lambda': 100, 'reg_alpha': 1, 'objective': 'binary:logistic', 'n_estimators': 900, 'min_child_weight': 1, 'max_depth': 4, 'learning_rate': 0.01, 'gamma': 0, 'colsample_bytree': 0.8},\n",
       " mean: 0.77849, std: 0.02840, params: {'subsample': 0.8, 'reg_lambda': 0, 'reg_alpha': 0, 'objective': 'binary:logistic', 'n_estimators': 600, 'min_child_weight': 1, 'max_depth': 7, 'learning_rate': 0.1, 'gamma': 0.001, 'colsample_bytree': 0.8},\n",
       " mean: 0.78973, std: 0.01675, params: {'subsample': 0.8, 'reg_lambda': 0.01, 'reg_alpha': 0.001, 'objective': 'binary:logistic', 'n_estimators': 800, 'min_child_weight': 1, 'max_depth': 4, 'learning_rate': 0.0005, 'gamma': 10, 'colsample_bytree': 0.8},\n",
       " mean: 0.82183, std: 0.02596, params: {'subsample': 0.8, 'reg_lambda': 0.1, 'reg_alpha': 0.1, 'objective': 'binary:logistic', 'n_estimators': 1500, 'min_child_weight': 1, 'max_depth': 5, 'learning_rate': 0.001, 'gamma': 0, 'colsample_bytree': 0.8},\n",
       " mean: 0.78491, std: 0.03784, params: {'subsample': 0.8, 'reg_lambda': 0, 'reg_alpha': 0.1, 'objective': 'binary:logistic', 'n_estimators': 1500, 'min_child_weight': 1, 'max_depth': 10, 'learning_rate': 0.1, 'gamma': 0.001, 'colsample_bytree': 0.8},\n",
       " mean: 0.76565, std: 0.02087, params: {'subsample': 0.8, 'reg_lambda': 0.001, 'reg_alpha': 10, 'objective': 'binary:logistic', 'n_estimators': 1000, 'min_child_weight': 1, 'max_depth': 6, 'learning_rate': 0.0005, 'gamma': 5, 'colsample_bytree': 0.8},\n",
       " mean: 0.81059, std: 0.01795, params: {'subsample': 0.8, 'reg_lambda': 10, 'reg_alpha': 0.01, 'objective': 'binary:logistic', 'n_estimators': 600, 'min_child_weight': 1, 'max_depth': 5, 'learning_rate': 0.0005, 'gamma': 0.01, 'colsample_bytree': 0.8},\n",
       " mean: 0.80899, std: 0.01702, params: {'subsample': 0.8, 'reg_lambda': 10, 'reg_alpha': 0.1, 'objective': 'binary:logistic', 'n_estimators': 1000, 'min_child_weight': 1, 'max_depth': 4, 'learning_rate': 0.0001, 'gamma': 0.001, 'colsample_bytree': 0.8},\n",
       " mean: 0.79133, std: 0.03088, params: {'subsample': 0.8, 'reg_lambda': 5, 'reg_alpha': 0.1, 'objective': 'binary:logistic', 'n_estimators': 1500, 'min_child_weight': 1, 'max_depth': 10, 'learning_rate': 0.2, 'gamma': 0.1, 'colsample_bytree': 0.8},\n",
       " mean: 0.82022, std: 0.02961, params: {'subsample': 0.8, 'reg_lambda': 0.01, 'reg_alpha': 1, 'objective': 'binary:logistic', 'n_estimators': 500, 'min_child_weight': 1, 'max_depth': 7, 'learning_rate': 0.001, 'gamma': 0.001, 'colsample_bytree': 0.8},\n",
       " mean: 0.78812, std: 0.02607, params: {'subsample': 0.8, 'reg_lambda': 10, 'reg_alpha': 0, 'objective': 'binary:logistic', 'n_estimators': 800, 'min_child_weight': 1, 'max_depth': 5, 'learning_rate': 0.2, 'gamma': 10, 'colsample_bytree': 0.8},\n",
       " mean: 0.61156, std: 0.00191, params: {'subsample': 0.8, 'reg_lambda': 0.1, 'reg_alpha': 100, 'objective': 'binary:logistic', 'n_estimators': 700, 'min_child_weight': 1, 'max_depth': 4, 'learning_rate': 0.0005, 'gamma': 0.01, 'colsample_bytree': 0.8},\n",
       " mean: 0.78652, std: 0.02407, params: {'subsample': 0.8, 'reg_lambda': 100, 'reg_alpha': 0.001, 'objective': 'binary:logistic', 'n_estimators': 600, 'min_child_weight': 1, 'max_depth': 9, 'learning_rate': 0.01, 'gamma': 5, 'colsample_bytree': 0.8},\n",
       " mean: 0.82665, std: 0.02345, params: {'subsample': 0.8, 'reg_lambda': 0.001, 'reg_alpha': 0.1, 'objective': 'binary:logistic', 'n_estimators': 900, 'min_child_weight': 1, 'max_depth': 10, 'learning_rate': 0.001, 'gamma': 1, 'colsample_bytree': 0.8},\n",
       " mean: 0.61156, std: 0.00191, params: {'subsample': 0.8, 'reg_lambda': 0, 'reg_alpha': 100, 'objective': 'binary:logistic', 'n_estimators': 1500, 'min_child_weight': 1, 'max_depth': 10, 'learning_rate': 0.2, 'gamma': 1, 'colsample_bytree': 0.8},\n",
       " mean: 0.78652, std: 0.02407, params: {'subsample': 0.8, 'reg_lambda': 0.1, 'reg_alpha': 10, 'objective': 'binary:logistic', 'n_estimators': 1500, 'min_child_weight': 1, 'max_depth': 4, 'learning_rate': 0.2, 'gamma': 10, 'colsample_bytree': 0.8},\n",
       " mean: 0.76565, std: 0.02087, params: {'subsample': 0.8, 'reg_lambda': 0, 'reg_alpha': 10, 'objective': 'binary:logistic', 'n_estimators': 900, 'min_child_weight': 1, 'max_depth': 4, 'learning_rate': 0.0005, 'gamma': 5, 'colsample_bytree': 0.8},\n",
       " mean: 0.79775, std: 0.01471, params: {'subsample': 0.8, 'reg_lambda': 0.001, 'reg_alpha': 0, 'objective': 'binary:logistic', 'n_estimators': 400, 'min_child_weight': 1, 'max_depth': 5, 'learning_rate': 0.0005, 'gamma': 10, 'colsample_bytree': 0.8},\n",
       " mean: 0.61156, std: 0.00191, params: {'subsample': 0.8, 'reg_lambda': 0, 'reg_alpha': 0, 'objective': 'binary:logistic', 'n_estimators': 1000, 'min_child_weight': 1, 'max_depth': 6, 'learning_rate': 0.01, 'gamma': 100, 'colsample_bytree': 0.8},\n",
       " mean: 0.78652, std: 0.02407, params: {'subsample': 0.8, 'reg_lambda': 100, 'reg_alpha': 5, 'objective': 'binary:logistic', 'n_estimators': 800, 'min_child_weight': 1, 'max_depth': 10, 'learning_rate': 0.1, 'gamma': 1, 'colsample_bytree': 0.8},\n",
       " mean: 0.61156, std: 0.00191, params: {'subsample': 0.8, 'reg_lambda': 5, 'reg_alpha': 100, 'objective': 'binary:logistic', 'n_estimators': 700, 'min_child_weight': 1, 'max_depth': 7, 'learning_rate': 0.0005, 'gamma': 5, 'colsample_bytree': 0.8},\n",
       " mean: 0.77849, std: 0.03370, params: {'subsample': 0.8, 'reg_lambda': 1, 'reg_alpha': 0, 'objective': 'binary:logistic', 'n_estimators': 1500, 'min_child_weight': 1, 'max_depth': 9, 'learning_rate': 0.2, 'gamma': 0, 'colsample_bytree': 0.8},\n",
       " mean: 0.80738, std: 0.02002, params: {'subsample': 0.8, 'reg_lambda': 1, 'reg_alpha': 1, 'objective': 'binary:logistic', 'n_estimators': 400, 'min_child_weight': 1, 'max_depth': 10, 'learning_rate': 0.001, 'gamma': 5, 'colsample_bytree': 0.8},\n",
       " mean: 0.78812, std: 0.02277, params: {'subsample': 0.8, 'reg_lambda': 100, 'reg_alpha': 0.1, 'objective': 'binary:logistic', 'n_estimators': 600, 'min_child_weight': 1, 'max_depth': 6, 'learning_rate': 0.001, 'gamma': 0.001, 'colsample_bytree': 0.8},\n",
       " mean: 0.79775, std: 0.01971, params: {'subsample': 0.8, 'reg_lambda': 0, 'reg_alpha': 5, 'objective': 'binary:logistic', 'n_estimators': 700, 'min_child_weight': 1, 'max_depth': 4, 'learning_rate': 0.001, 'gamma': 0, 'colsample_bytree': 0.8},\n",
       " mean: 0.81059, std: 0.01512, params: {'subsample': 0.8, 'reg_lambda': 0.01, 'reg_alpha': 1, 'objective': 'binary:logistic', 'n_estimators': 500, 'min_child_weight': 1, 'max_depth': 10, 'learning_rate': 0.001, 'gamma': 5, 'colsample_bytree': 0.8},\n",
       " mean: 0.82022, std: 0.02904, params: {'subsample': 0.8, 'reg_lambda': 100, 'reg_alpha': 5, 'objective': 'binary:logistic', 'n_estimators': 800, 'min_child_weight': 1, 'max_depth': 5, 'learning_rate': 0.1, 'gamma': 0, 'colsample_bytree': 0.8},\n",
       " mean: 0.82343, std: 0.02729, params: {'subsample': 0.8, 'reg_lambda': 0.01, 'reg_alpha': 0, 'objective': 'binary:logistic', 'n_estimators': 600, 'min_child_weight': 1, 'max_depth': 8, 'learning_rate': 0.0001, 'gamma': 0.1, 'colsample_bytree': 0.8},\n",
       " mean: 0.82022, std: 0.02961, params: {'subsample': 0.8, 'reg_lambda': 0.1, 'reg_alpha': 0.01, 'objective': 'binary:logistic', 'n_estimators': 1000, 'min_child_weight': 1, 'max_depth': 5, 'learning_rate': 0.0005, 'gamma': 0, 'colsample_bytree': 0.8},\n",
       " mean: 0.78652, std: 0.02108, params: {'subsample': 0.8, 'reg_lambda': 100, 'reg_alpha': 0.01, 'objective': 'binary:logistic', 'n_estimators': 600, 'min_child_weight': 1, 'max_depth': 9, 'learning_rate': 0.0005, 'gamma': 0, 'colsample_bytree': 0.8},\n",
       " mean: 0.78652, std: 0.02407, params: {'subsample': 0.8, 'reg_lambda': 5, 'reg_alpha': 10, 'objective': 'binary:logistic', 'n_estimators': 400, 'min_child_weight': 1, 'max_depth': 9, 'learning_rate': 0.01, 'gamma': 5, 'colsample_bytree': 0.8},\n",
       " mean: 0.78652, std: 0.02407, params: {'subsample': 0.8, 'reg_lambda': 100, 'reg_alpha': 10, 'objective': 'binary:logistic', 'n_estimators': 500, 'min_child_weight': 1, 'max_depth': 5, 'learning_rate': 0.2, 'gamma': 5, 'colsample_bytree': 0.8},\n",
       " mean: 0.79775, std: 0.02687, params: {'subsample': 0.8, 'reg_lambda': 0, 'reg_alpha': 1, 'objective': 'binary:logistic', 'n_estimators': 600, 'min_child_weight': 1, 'max_depth': 7, 'learning_rate': 0.1, 'gamma': 0.01, 'colsample_bytree': 0.8},\n",
       " mean: 0.81059, std: 0.01984, params: {'subsample': 0.8, 'reg_lambda': 100, 'reg_alpha': 0.01, 'objective': 'binary:logistic', 'n_estimators': 1000, 'min_child_weight': 1, 'max_depth': 6, 'learning_rate': 0.01, 'gamma': 0, 'colsample_bytree': 0.8},\n",
       " mean: 0.61156, std: 0.00191, params: {'subsample': 0.8, 'reg_lambda': 0.1, 'reg_alpha': 10, 'objective': 'binary:logistic', 'n_estimators': 500, 'min_child_weight': 1, 'max_depth': 9, 'learning_rate': 0.001, 'gamma': 100, 'colsample_bytree': 0.8},\n",
       " mean: 0.81541, std: 0.01864, params: {'subsample': 0.8, 'reg_lambda': 0.01, 'reg_alpha': 0.001, 'objective': 'binary:logistic', 'n_estimators': 500, 'min_child_weight': 1, 'max_depth': 5, 'learning_rate': 0.1, 'gamma': 10, 'colsample_bytree': 0.8},\n",
       " mean: 0.76565, std: 0.02087, params: {'subsample': 0.8, 'reg_lambda': 0, 'reg_alpha': 10, 'objective': 'binary:logistic', 'n_estimators': 500, 'min_child_weight': 1, 'max_depth': 7, 'learning_rate': 0.001, 'gamma': 5, 'colsample_bytree': 0.8},\n",
       " mean: 0.81541, std: 0.01740, params: {'subsample': 0.8, 'reg_lambda': 100, 'reg_alpha': 0, 'objective': 'binary:logistic', 'n_estimators': 1500, 'min_child_weight': 1, 'max_depth': 4, 'learning_rate': 0.01, 'gamma': 0.001, 'colsample_bytree': 0.8},\n",
       " mean: 0.81701, std: 0.02536, params: {'subsample': 0.8, 'reg_lambda': 0.1, 'reg_alpha': 1, 'objective': 'binary:logistic', 'n_estimators': 1000, 'min_child_weight': 1, 'max_depth': 7, 'learning_rate': 0.0005, 'gamma': 0, 'colsample_bytree': 0.8},\n",
       " mean: 0.78652, std: 0.02407, params: {'subsample': 0.8, 'reg_lambda': 100, 'reg_alpha': 5, 'objective': 'binary:logistic', 'n_estimators': 500, 'min_child_weight': 1, 'max_depth': 5, 'learning_rate': 0.2, 'gamma': 5, 'colsample_bytree': 0.8},\n",
       " mean: 0.61156, std: 0.00191, params: {'subsample': 0.8, 'reg_lambda': 5, 'reg_alpha': 100, 'objective': 'binary:logistic', 'n_estimators': 1500, 'min_child_weight': 1, 'max_depth': 5, 'learning_rate': 0.0005, 'gamma': 10, 'colsample_bytree': 0.8},\n",
       " mean: 0.78491, std: 0.03342, params: {'subsample': 0.8, 'reg_lambda': 0, 'reg_alpha': 0.1, 'objective': 'binary:logistic', 'n_estimators': 1500, 'min_child_weight': 1, 'max_depth': 8, 'learning_rate': 0.1, 'gamma': 0.001, 'colsample_bytree': 0.8},\n",
       " mean: 0.79133, std: 0.01582, params: {'subsample': 0.8, 'reg_lambda': 0, 'reg_alpha': 0.1, 'objective': 'binary:logistic', 'n_estimators': 600, 'min_child_weight': 1, 'max_depth': 5, 'learning_rate': 0.0005, 'gamma': 10, 'colsample_bytree': 0.8},\n",
       " mean: 0.81701, std: 0.02505, params: {'subsample': 0.8, 'reg_lambda': 5, 'reg_alpha': 5, 'objective': 'binary:logistic', 'n_estimators': 900, 'min_child_weight': 1, 'max_depth': 10, 'learning_rate': 0.2, 'gamma': 0, 'colsample_bytree': 0.8},\n",
       " mean: 0.81380, std: 0.01865, params: {'subsample': 0.8, 'reg_lambda': 0.001, 'reg_alpha': 0.01, 'objective': 'binary:logistic', 'n_estimators': 900, 'min_child_weight': 1, 'max_depth': 5, 'learning_rate': 0.01, 'gamma': 5, 'colsample_bytree': 0.8},\n",
       " mean: 0.81059, std: 0.02514, params: {'subsample': 0.8, 'reg_lambda': 0.001, 'reg_alpha': 0, 'objective': 'binary:logistic', 'n_estimators': 700, 'min_child_weight': 1, 'max_depth': 8, 'learning_rate': 0.01, 'gamma': 0.1, 'colsample_bytree': 0.8},\n",
       " mean: 0.77849, std: 0.01121, params: {'subsample': 0.8, 'reg_lambda': 5, 'reg_alpha': 10, 'objective': 'binary:logistic', 'n_estimators': 800, 'min_child_weight': 1, 'max_depth': 9, 'learning_rate': 0.0001, 'gamma': 0, 'colsample_bytree': 0.8},\n",
       " mean: 0.61156, std: 0.00191, params: {'subsample': 0.8, 'reg_lambda': 1, 'reg_alpha': 100, 'objective': 'binary:logistic', 'n_estimators': 1000, 'min_child_weight': 1, 'max_depth': 10, 'learning_rate': 0.0005, 'gamma': 0.01, 'colsample_bytree': 0.8},\n",
       " mean: 0.76404, std: 0.01914, params: {'subsample': 0.8, 'reg_lambda': 0, 'reg_alpha': 5, 'objective': 'binary:logistic', 'n_estimators': 600, 'min_child_weight': 1, 'max_depth': 6, 'learning_rate': 0.0005, 'gamma': 5, 'colsample_bytree': 0.8},\n",
       " mean: 0.81862, std: 0.01961, params: {'subsample': 0.8, 'reg_lambda': 0.1, 'reg_alpha': 1, 'objective': 'binary:logistic', 'n_estimators': 1500, 'min_child_weight': 1, 'max_depth': 5, 'learning_rate': 0.001, 'gamma': 1, 'colsample_bytree': 0.8},\n",
       " mean: 0.81541, std: 0.02303, params: {'subsample': 0.8, 'reg_lambda': 0, 'reg_alpha': 1, 'objective': 'binary:logistic', 'n_estimators': 600, 'min_child_weight': 1, 'max_depth': 5, 'learning_rate': 0.0005, 'gamma': 1, 'colsample_bytree': 0.8},\n",
       " mean: 0.78812, std: 0.03574, params: {'subsample': 0.8, 'reg_lambda': 0.1, 'reg_alpha': 0, 'objective': 'binary:logistic', 'n_estimators': 500, 'min_child_weight': 1, 'max_depth': 9, 'learning_rate': 0.1, 'gamma': 0.001, 'colsample_bytree': 0.8},\n",
       " mean: 0.81541, std: 0.02993, params: {'subsample': 0.8, 'reg_lambda': 0, 'reg_alpha': 1, 'objective': 'binary:logistic', 'n_estimators': 800, 'min_child_weight': 1, 'max_depth': 7, 'learning_rate': 0.0001, 'gamma': 0.001, 'colsample_bytree': 0.8},\n",
       " mean: 0.81862, std: 0.02960, params: {'subsample': 0.8, 'reg_lambda': 1, 'reg_alpha': 0.01, 'objective': 'binary:logistic', 'n_estimators': 800, 'min_child_weight': 1, 'max_depth': 7, 'learning_rate': 0.0005, 'gamma': 1, 'colsample_bytree': 0.8},\n",
       " mean: 0.78652, std: 0.01784, params: {'subsample': 0.8, 'reg_lambda': 0.1, 'reg_alpha': 0.01, 'objective': 'binary:logistic', 'n_estimators': 1000, 'min_child_weight': 1, 'max_depth': 8, 'learning_rate': 0.0005, 'gamma': 10, 'colsample_bytree': 0.8},\n",
       " mean: 0.82022, std: 0.02903, params: {'subsample': 0.8, 'reg_lambda': 100, 'reg_alpha': 10, 'objective': 'binary:logistic', 'n_estimators': 1500, 'min_child_weight': 1, 'max_depth': 6, 'learning_rate': 0.1, 'gamma': 0.01, 'colsample_bytree': 0.8},\n",
       " mean: 0.61156, std: 0.00191, params: {'subsample': 0.8, 'reg_lambda': 100, 'reg_alpha': 100, 'objective': 'binary:logistic', 'n_estimators': 900, 'min_child_weight': 1, 'max_depth': 9, 'learning_rate': 0.0001, 'gamma': 100, 'colsample_bytree': 0.8},\n",
       " mean: 0.78652, std: 0.02407, params: {'subsample': 0.8, 'reg_lambda': 100, 'reg_alpha': 0, 'objective': 'binary:logistic', 'n_estimators': 1000, 'min_child_weight': 1, 'max_depth': 9, 'learning_rate': 0.2, 'gamma': 5, 'colsample_bytree': 0.8},\n",
       " mean: 0.81862, std: 0.02783, params: {'subsample': 0.8, 'reg_lambda': 0, 'reg_alpha': 0.01, 'objective': 'binary:logistic', 'n_estimators': 1000, 'min_child_weight': 1, 'max_depth': 4, 'learning_rate': 0.0001, 'gamma': 1, 'colsample_bytree': 0.8},\n",
       " mean: 0.61156, std: 0.00191, params: {'subsample': 0.8, 'reg_lambda': 100, 'reg_alpha': 100, 'objective': 'binary:logistic', 'n_estimators': 500, 'min_child_weight': 1, 'max_depth': 8, 'learning_rate': 0.0005, 'gamma': 0.1, 'colsample_bytree': 0.8},\n",
       " mean: 0.81541, std: 0.02439, params: {'subsample': 0.8, 'reg_lambda': 0, 'reg_alpha': 1, 'objective': 'binary:logistic', 'n_estimators': 400, 'min_child_weight': 1, 'max_depth': 6, 'learning_rate': 0.0001, 'gamma': 0.01, 'colsample_bytree': 0.8},\n",
       " mean: 0.61156, std: 0.00191, params: {'subsample': 0.8, 'reg_lambda': 0.01, 'reg_alpha': 100, 'objective': 'binary:logistic', 'n_estimators': 1000, 'min_child_weight': 1, 'max_depth': 10, 'learning_rate': 0.2, 'gamma': 1, 'colsample_bytree': 0.8},\n",
       " mean: 0.61156, std: 0.00191, params: {'subsample': 0.8, 'reg_lambda': 0.01, 'reg_alpha': 10, 'objective': 'binary:logistic', 'n_estimators': 900, 'min_child_weight': 1, 'max_depth': 10, 'learning_rate': 0.2, 'gamma': 100, 'colsample_bytree': 0.8},\n",
       " mean: 0.81862, std: 0.03513, params: {'subsample': 0.8, 'reg_lambda': 10, 'reg_alpha': 10, 'objective': 'binary:logistic', 'n_estimators': 900, 'min_child_weight': 1, 'max_depth': 7, 'learning_rate': 0.2, 'gamma': 0, 'colsample_bytree': 0.8},\n",
       " mean: 0.78973, std: 0.02775, params: {'subsample': 0.8, 'reg_lambda': 5, 'reg_alpha': 0.01, 'objective': 'binary:logistic', 'n_estimators': 400, 'min_child_weight': 1, 'max_depth': 7, 'learning_rate': 0.2, 'gamma': 10, 'colsample_bytree': 0.8},\n",
       " mean: 0.78652, std: 0.02407, params: {'subsample': 0.8, 'reg_lambda': 5, 'reg_alpha': 5, 'objective': 'binary:logistic', 'n_estimators': 700, 'min_child_weight': 1, 'max_depth': 7, 'learning_rate': 0.001, 'gamma': 10, 'colsample_bytree': 0.8},\n",
       " mean: 0.77849, std: 0.02146, params: {'subsample': 0.8, 'reg_lambda': 5, 'reg_alpha': 0.1, 'objective': 'binary:logistic', 'n_estimators': 600, 'min_child_weight': 1, 'max_depth': 7, 'learning_rate': 0.001, 'gamma': 5, 'colsample_bytree': 0.8},\n",
       " mean: 0.80899, std: 0.01556, params: {'subsample': 0.8, 'reg_lambda': 5, 'reg_alpha': 1, 'objective': 'binary:logistic', 'n_estimators': 700, 'min_child_weight': 1, 'max_depth': 5, 'learning_rate': 0.0005, 'gamma': 0.01, 'colsample_bytree': 0.8},\n",
       " mean: 0.76404, std: 0.02057, params: {'subsample': 0.8, 'reg_lambda': 1, 'reg_alpha': 5, 'objective': 'binary:logistic', 'n_estimators': 900, 'min_child_weight': 1, 'max_depth': 7, 'learning_rate': 0.0005, 'gamma': 10, 'colsample_bytree': 0.8},\n",
       " mean: 0.80578, std: 0.02820, params: {'subsample': 0.8, 'reg_lambda': 5, 'reg_alpha': 10, 'objective': 'binary:logistic', 'n_estimators': 1000, 'min_child_weight': 1, 'max_depth': 5, 'learning_rate': 0.01, 'gamma': 0.1, 'colsample_bytree': 0.8},\n",
       " mean: 0.78652, std: 0.02407, params: {'subsample': 0.8, 'reg_lambda': 100, 'reg_alpha': 0, 'objective': 'binary:logistic', 'n_estimators': 800, 'min_child_weight': 1, 'max_depth': 5, 'learning_rate': 0.001, 'gamma': 10, 'colsample_bytree': 0.8},\n",
       " mean: 0.78652, std: 0.02407, params: {'subsample': 0.8, 'reg_lambda': 0.01, 'reg_alpha': 0.1, 'objective': 'binary:logistic', 'n_estimators': 800, 'min_child_weight': 1, 'max_depth': 4, 'learning_rate': 0.0001, 'gamma': 100, 'colsample_bytree': 0.8},\n",
       " mean: 0.82504, std: 0.02931, params: {'subsample': 0.8, 'reg_lambda': 0.01, 'reg_alpha': 0.1, 'objective': 'binary:logistic', 'n_estimators': 400, 'min_child_weight': 1, 'max_depth': 8, 'learning_rate': 0.001, 'gamma': 0.001, 'colsample_bytree': 0.8},\n",
       " mean: 0.81862, std: 0.03052, params: {'subsample': 0.8, 'reg_lambda': 0.001, 'reg_alpha': 1, 'objective': 'binary:logistic', 'n_estimators': 700, 'min_child_weight': 1, 'max_depth': 9, 'learning_rate': 0.0005, 'gamma': 0.01, 'colsample_bytree': 0.8},\n",
       " mean: 0.81701, std: 0.01810, params: {'subsample': 0.8, 'reg_lambda': 5, 'reg_alpha': 0.1, 'objective': 'binary:logistic', 'n_estimators': 800, 'min_child_weight': 1, 'max_depth': 4, 'learning_rate': 0.01, 'gamma': 0.01, 'colsample_bytree': 0.8}]"
      ]
     },
     "execution_count": 169,
     "metadata": {},
     "output_type": "execute_result"
    }
   ],
   "source": [
    "xgb_random.grid_scores_"
   ]
  },
  {
   "cell_type": "code",
   "execution_count": 170,
   "metadata": {},
   "outputs": [
    {
     "data": {
      "text/plain": [
       "({'colsample_bytree': 0.8,\n",
       "  'gamma': 1,\n",
       "  'learning_rate': 0.01,\n",
       "  'max_depth': 7,\n",
       "  'min_child_weight': 1,\n",
       "  'n_estimators': 700,\n",
       "  'objective': 'binary:logistic',\n",
       "  'reg_alpha': 0.001,\n",
       "  'reg_lambda': 0.01,\n",
       "  'subsample': 0.8},)"
      ]
     },
     "execution_count": 170,
     "metadata": {},
     "output_type": "execute_result"
    }
   ],
   "source": [
    "xgb_random.best_params_"
   ]
  },
  {
   "cell_type": "code",
   "execution_count": 171,
   "metadata": {},
   "outputs": [
    {
     "data": {
      "text/plain": [
       "0.8298555377207063"
      ]
     },
     "execution_count": 171,
     "metadata": {},
     "output_type": "execute_result"
    }
   ],
   "source": [
    "xgb_random.best_score_"
   ]
  },
  {
   "cell_type": "code",
   "execution_count": 172,
   "metadata": {},
   "outputs": [
    {
     "name": "stdout",
     "output_type": "stream",
     "text": [
      "{'objective': 'binary:logistic', 'base_score': 0.5, 'booster': 'gbtree', 'colsample_bylevel': 1, 'colsample_bynode': 1, 'colsample_bytree': 0.8, 'gamma': 1, 'gpu_id': -1, 'interaction_constraints': '', 'learning_rate': 0.01, 'max_delta_step': 0, 'max_depth': 7, 'min_child_weight': 1, 'monotone_constraints': '()', 'n_jobs': 8, 'num_parallel_tree': 1, 'random_state': 0, 'reg_alpha': 0.001, 'reg_lambda': 0.01, 'scale_pos_weight': 1, 'subsample': 0.8, 'tree_method': 'exact', 'validate_parameters': 1, 'verbosity': None}\n"
     ]
    },
    {
     "name": "stderr",
     "output_type": "stream",
     "text": [
      "C:\\Anaconda3\\lib\\site-packages\\xgboost\\sklearn.py:892: UserWarning: The use of label encoder in XGBClassifier is deprecated and will be removed in a future release. To remove this warning, do the following: 1) Pass option use_label_encoder=False when constructing XGBClassifier object; and 2) Encode your labels (y) as integers starting with 0, i.e. 0, 1, 2, ..., [num_class - 1].\n",
      "  warnings.warn(label_encoder_deprecation_msg, UserWarning)\n",
      "C:\\Anaconda3\\lib\\site-packages\\sklearn\\preprocessing\\label.py:151: DeprecationWarning: The truth value of an empty array is ambiguous. Returning False, but in future this will result in an error. Use `array.size > 0` to check that an array is not empty.\n",
      "  if diff:\n",
      "C:\\Anaconda3\\lib\\site-packages\\sklearn\\preprocessing\\label.py:151: DeprecationWarning: The truth value of an empty array is ambiguous. Returning False, but in future this will result in an error. Use `array.size > 0` to check that an array is not empty.\n",
      "  if diff:\n"
     ]
    },
    {
     "name": "stdout",
     "output_type": "stream",
     "text": [
      "\n",
      "Model Report\n",
      "Accuracy (Train) : 0.8892\n",
      "AUC Score (Train): 0.947371\n",
      "Accuracy (Test) : 0.8246\n",
      "AUC Score (Test): 0.883244\n",
      "Variable: Sex_male             Importance: 0.6800000071525574\n",
      "Variable: Pclass_3             Importance: 0.11999999731779099\n",
      "Variable: SibSp                Importance: 0.03999999910593033\n",
      "Variable: Fare                 Importance: 0.029999999329447746\n",
      "Variable: Pclass_2             Importance: 0.029999999329447746\n",
      "Variable: Embarked_Q           Importance: 0.029999999329447746\n",
      "Variable: Embarked_S           Importance: 0.029999999329447746\n",
      "Variable: Age                  Importance: 0.019999999552965164\n",
      "Variable: Parch                Importance: 0.019999999552965164\n"
     ]
    },
    {
     "data": {
      "image/png": "[encoded data removed]",
      "text/plain": [
       "<Figure size 432x288 with 1 Axes>"
      ]
     },
     "metadata": {
      "needs_background": "light"
     },
     "output_type": "display_data"
    }
   ],
   "source": [
    "modelfit(xgb_random.best_estimator_, x_train, y_train, x_test, y_test)"
   ]
  },
  {
   "cell_type": "code",
   "execution_count": 173,
   "metadata": {},
   "outputs": [
    {
     "data": {
      "image/png": "[encoded data removed]",
      "text/plain": [
       "<Figure size 432x288 with 1 Axes>"
      ]
     },
     "metadata": {
      "needs_background": "light"
     },
     "output_type": "display_data"
    }
   ],
   "source": [
    "plot_roc_cur(xgb_random.best_estimator_,x_test,y_test)"
   ]
  },
  {
   "cell_type": "code",
   "execution_count": 174,
   "metadata": {},
   "outputs": [],
   "source": [
    "X_wo_truth_new_probs = xgb_random.best_estimator_.predict_proba(X_wo_truth_new)  \n",
    "X_wo_truth_new_preds = (X_wo_truth_new_probs[:, 1]>=0.5).astype(int)\n",
    "\n",
    "data ={\n",
    "    'PassengerId': list(X_wo_truth['PassengerId']),\n",
    "    'Survived': list(X_wo_truth_new_preds)\n",
    "}\n",
    "submission = pd.DataFrame(data)\n",
    "\n",
    "submission.to_csv('20210227_submission_6_XGBoost_Random_Search.csv')"
   ]
  },
  {
   "cell_type": "markdown",
   "metadata": {},
   "source": [
    "# Save and Load trained XGB models"
   ]
  },
  {
   "cell_type": "code",
   "execution_count": 185,
   "metadata": {},
   "outputs": [],
   "source": [
    "import pickle"
   ]
  },
  {
   "cell_type": "code",
   "execution_count": 186,
   "metadata": {},
   "outputs": [],
   "source": [
    "xgb_random_best = xgb_random.best_estimator_"
   ]
  },
  {
   "cell_type": "code",
   "execution_count": 187,
   "metadata": {},
   "outputs": [],
   "source": [
    "pickle.dump(xgb_random_best, open('xgb_random_best.model', 'wb'))"
   ]
  },
  {
   "cell_type": "code",
   "execution_count": 188,
   "metadata": {},
   "outputs": [],
   "source": [
    "bst = pickle.load(open('xgb_random_best.model', 'rb'))"
   ]
  },
  {
   "cell_type": "code",
   "execution_count": 191,
   "metadata": {},
   "outputs": [
    {
     "name": "stdout",
     "output_type": "stream",
     "text": [
      "{'objective': 'binary:logistic', 'base_score': 0.5, 'booster': 'gbtree', 'colsample_bylevel': 1, 'colsample_bynode': 1, 'colsample_bytree': 0.8, 'gamma': 1, 'gpu_id': -1, 'interaction_constraints': '', 'learning_rate': 0.01, 'max_delta_step': 0, 'max_depth': 7, 'min_child_weight': 1, 'monotone_constraints': '()', 'n_jobs': 8, 'num_parallel_tree': 1, 'random_state': 0, 'reg_alpha': 0.001, 'reg_lambda': 0.01, 'scale_pos_weight': 1, 'subsample': 0.8, 'tree_method': 'exact', 'validate_parameters': 1, 'verbosity': None}\n"
     ]
    },
    {
     "name": "stderr",
     "output_type": "stream",
     "text": [
      "C:\\Anaconda3\\lib\\site-packages\\xgboost\\sklearn.py:892: UserWarning: The use of label encoder in XGBClassifier is deprecated and will be removed in a future release. To remove this warning, do the following: 1) Pass option use_label_encoder=False when constructing XGBClassifier object; and 2) Encode your labels (y) as integers starting with 0, i.e. 0, 1, 2, ..., [num_class - 1].\n",
      "  warnings.warn(label_encoder_deprecation_msg, UserWarning)\n",
      "C:\\Anaconda3\\lib\\site-packages\\sklearn\\preprocessing\\label.py:151: DeprecationWarning: The truth value of an empty array is ambiguous. Returning False, but in future this will result in an error. Use `array.size > 0` to check that an array is not empty.\n",
      "  if diff:\n",
      "C:\\Anaconda3\\lib\\site-packages\\sklearn\\preprocessing\\label.py:151: DeprecationWarning: The truth value of an empty array is ambiguous. Returning False, but in future this will result in an error. Use `array.size > 0` to check that an array is not empty.\n",
      "  if diff:\n"
     ]
    },
    {
     "name": "stdout",
     "output_type": "stream",
     "text": [
      "\n",
      "Model Report\n",
      "Accuracy (Train) : 0.8892\n",
      "AUC Score (Train): 0.947371\n",
      "Accuracy (Test) : 0.8246\n",
      "AUC Score (Test): 0.883244\n",
      "Variable: Sex_male             Importance: 0.6800000071525574\n",
      "Variable: Pclass_3             Importance: 0.11999999731779099\n",
      "Variable: SibSp                Importance: 0.03999999910593033\n",
      "Variable: Fare                 Importance: 0.029999999329447746\n",
      "Variable: Pclass_2             Importance: 0.029999999329447746\n",
      "Variable: Embarked_Q           Importance: 0.029999999329447746\n",
      "Variable: Embarked_S           Importance: 0.029999999329447746\n",
      "Variable: Age                  Importance: 0.019999999552965164\n",
      "Variable: Parch                Importance: 0.019999999552965164\n"
     ]
    },
    {
     "data": {
      "image/png": "[encoded data removed]",
      "text/plain": [
       "<Figure size 432x288 with 1 Axes>"
      ]
     },
     "metadata": {
      "needs_background": "light"
     },
     "output_type": "display_data"
    }
   ],
   "source": [
    "modelfit(bst, x_train, y_train, x_test, y_test)"
   ]
  },
  {
   "cell_type": "code",
   "execution_count": 190,
   "metadata": {},
   "outputs": [
    {
     "data": {
      "image/png": "[encoded data removed]",
      "text/plain": [
       "<Figure size 432x288 with 1 Axes>"
      ]
     },
     "metadata": {
      "needs_background": "light"
     },
     "output_type": "display_data"
    }
   ],
   "source": [
    "plot_roc_cur(bst,x_test,y_test)"
   ]
  },
  {
   "cell_type": "code",
   "execution_count": null,
   "metadata": {},
   "outputs": [],
   "source": []
  }
 ],
 "metadata": {
  "kernelspec": {
   "display_name": "Python 3",
   "language": "python",
   "name": "python3"
  },
  "language_info": {
   "codemirror_mode": {
    "name": "ipython",
    "version": 3
   },
   "file_extension": ".py",
   "mimetype": "text/x-python",
   "name": "python",
   "nbconvert_exporter": "python",
   "pygments_lexer": "ipython3",
   "version": "3.6.4"
  }
 },
 "nbformat": 4,
 "nbformat_minor": 2
}
